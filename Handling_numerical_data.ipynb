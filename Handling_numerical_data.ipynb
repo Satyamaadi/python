{
  "nbformat": 4,
  "nbformat_minor": 0,
  "metadata": {
    "colab": {
      "name": "Handling_numerical_data.ipynb",
      "provenance": [],
      "collapsed_sections": [],
      "authorship_tag": "ABX9TyM3JjEcckefHFbFQF48RaIj",
      "include_colab_link": true
    },
    "kernelspec": {
      "name": "python3",
      "display_name": "Python 3"
    }
  },
  "cells": [
    {
      "cell_type": "markdown",
      "metadata": {
        "id": "view-in-github",
        "colab_type": "text"
      },
      "source": [
        "<a href=\"https://colab.research.google.com/github/Satyamaadi/python/blob/master/Handling_numerical_data.ipynb\" target=\"_parent\"><img src=\"https://colab.research.google.com/assets/colab-badge.svg\" alt=\"Open In Colab\"/></a>"
      ]
    },
    {
      "cell_type": "code",
      "metadata": {
        "id": "ALS5YziexQRG"
      },
      "source": [
        "import numpy as np\n",
        "from sklearn import preprocessing"
      ],
      "execution_count": 2,
      "outputs": []
    },
    {
      "cell_type": "markdown",
      "metadata": {
        "id": "tpm8YA1byuIR"
      },
      "source": [
        "##Rescaling a feature to be between 2 values"
      ]
    },
    {
      "cell_type": "code",
      "metadata": {
        "id": "D_MECf14xeMp"
      },
      "source": [
        "feature = np.array([[-500],[-100,],[145],[345],[0]])"
      ],
      "execution_count": 4,
      "outputs": []
    },
    {
      "cell_type": "code",
      "metadata": {
        "id": "-YX0ae7Nx0U9"
      },
      "source": [
        "minmax = preprocessing.MinMaxScaler(feature_range=(0,1))"
      ],
      "execution_count": 6,
      "outputs": []
    },
    {
      "cell_type": "code",
      "metadata": {
        "id": "K5xki-MtyCqE"
      },
      "source": [
        "scaled_feature = minmax.fit_transform(feature)"
      ],
      "execution_count": 9,
      "outputs": []
    },
    {
      "cell_type": "markdown",
      "metadata": {
        "id": "STnfz8vmyyjv"
      },
      "source": [
        "##Standardising a feature"
      ]
    },
    {
      "cell_type": "code",
      "metadata": {
        "id": "i8720QWdy4lD"
      },
      "source": [
        "x = np.array([[120],[234],[-56],[-82],[32]])"
      ],
      "execution_count": 12,
      "outputs": []
    },
    {
      "cell_type": "code",
      "metadata": {
        "id": "be8z-QVmzAtl"
      },
      "source": [
        "scalar = preprocessing.StandardScaler()"
      ],
      "execution_count": 13,
      "outputs": []
    },
    {
      "cell_type": "code",
      "metadata": {
        "id": "IgxiNbjZzGkS"
      },
      "source": [
        "standardised_values = scalar.fit_transform(x)"
      ],
      "execution_count": 15,
      "outputs": []
    },
    {
      "cell_type": "code",
      "metadata": {
        "colab": {
          "base_uri": "https://localhost:8080/"
        },
        "id": "nffk71VQzN5n",
        "outputId": "6ed6fcfe-7519-4510-9c86-f81fa2af7180"
      },
      "source": [
        "standardised_values"
      ],
      "execution_count": 16,
      "outputs": [
        {
          "output_type": "execute_result",
          "data": {
            "text/plain": [
              "array([[ 0.604836  ],\n",
              "       [ 1.58425792],\n",
              "       [-0.90725399],\n",
              "       [-1.13063092],\n",
              "       [-0.151209  ]])"
            ]
          },
          "metadata": {
            "tags": []
          },
          "execution_count": 16
        }
      ]
    },
    {
      "cell_type": "markdown",
      "metadata": {
        "id": "9D7Dmcns0gZ-"
      },
      "source": [
        "##Normalising features (to have values that sum to 1)"
      ]
    },
    {
      "cell_type": "code",
      "metadata": {
        "id": "iLumUt7wzR7B"
      },
      "source": [
        "normalizer = preprocessing.Normalizer(norm='l2') #similarly we can use l1 norm as well."
      ],
      "execution_count": 22,
      "outputs": []
    },
    {
      "cell_type": "code",
      "metadata": {
        "id": "a7EKL34t0qL5"
      },
      "source": [
        "x = np.array([[-200],[-111],[100],[234],[451]])"
      ],
      "execution_count": 23,
      "outputs": []
    },
    {
      "cell_type": "code",
      "metadata": {
        "id": "644jdSDj0yha"
      },
      "source": [
        "normalised_values = normalizer.fit_transform(x)"
      ],
      "execution_count": 24,
      "outputs": []
    },
    {
      "cell_type": "code",
      "metadata": {
        "colab": {
          "base_uri": "https://localhost:8080/"
        },
        "id": "lhD8d_iT037v",
        "outputId": "b347d31c-de71-4bff-90ed-9016abe344d9"
      },
      "source": [
        "normalised_values"
      ],
      "execution_count": 25,
      "outputs": [
        {
          "output_type": "execute_result",
          "data": {
            "text/plain": [
              "array([[-1.],\n",
              "       [-1.],\n",
              "       [ 1.],\n",
              "       [ 1.],\n",
              "       [ 1.]])"
            ]
          },
          "metadata": {
            "tags": []
          },
          "execution_count": 25
        }
      ]
    },
    {
      "cell_type": "markdown",
      "metadata": {
        "id": "BnKBlgyR1j7c"
      },
      "source": [
        "##Detecting outliers"
      ]
    },
    {
      "cell_type": "code",
      "metadata": {
        "id": "h1Yc4c-u09QV"
      },
      "source": [
        "from sklearn.covariance import EllipticEnvelope\n",
        "from sklearn.datasets import make_blobs"
      ],
      "execution_count": 26,
      "outputs": []
    },
    {
      "cell_type": "code",
      "metadata": {
        "id": "-TBi6bz02s5z"
      },
      "source": [
        "features, _ = make_blobs(n_samples=10,n_features=2,centers=1,random_state=1)"
      ],
      "execution_count": 27,
      "outputs": []
    },
    {
      "cell_type": "code",
      "metadata": {
        "id": "TRSY_aPN24tu"
      },
      "source": [
        "outlier_detector = EllipticEnvelope(contamination=0.1)"
      ],
      "execution_count": 28,
      "outputs": []
    },
    {
      "cell_type": "code",
      "metadata": {
        "colab": {
          "base_uri": "https://localhost:8080/"
        },
        "id": "lVZIoaW13D2h",
        "outputId": "15027239-fe0e-4a5a-9423-47c9e39d28fe"
      },
      "source": [
        "outlier_detector.fit(features)"
      ],
      "execution_count": 29,
      "outputs": [
        {
          "output_type": "execute_result",
          "data": {
            "text/plain": [
              "EllipticEnvelope(assume_centered=False, contamination=0.1, random_state=None,\n",
              "                 store_precision=True, support_fraction=None)"
            ]
          },
          "metadata": {
            "tags": []
          },
          "execution_count": 29
        }
      ]
    },
    {
      "cell_type": "code",
      "metadata": {
        "colab": {
          "base_uri": "https://localhost:8080/"
        },
        "id": "nhGIZLIt3ILn",
        "outputId": "396edc72-2684-4c64-e9ec-491de7a89e53"
      },
      "source": [
        "outlier_detector.predict(features)"
      ],
      "execution_count": 30,
      "outputs": [
        {
          "output_type": "execute_result",
          "data": {
            "text/plain": [
              "array([ 1,  1,  1,  1, -1,  1,  1,  1,  1,  1])"
            ]
          },
          "metadata": {
            "tags": []
          },
          "execution_count": 30
        }
      ]
    },
    {
      "cell_type": "markdown",
      "metadata": {
        "id": "CqODCtqt3qXI"
      },
      "source": [
        "##Diving values using a binarizer"
      ]
    },
    {
      "cell_type": "code",
      "metadata": {
        "id": "bQ_-2Ogv3n8h"
      },
      "source": [
        "from sklearn.preprocessing import Binarizer"
      ],
      "execution_count": 31,
      "outputs": []
    },
    {
      "cell_type": "code",
      "metadata": {
        "id": "F5PtMM1G33K9"
      },
      "source": [
        "age = np.array([[11],[15],[12],[98],[73]])"
      ],
      "execution_count": 32,
      "outputs": []
    },
    {
      "cell_type": "code",
      "metadata": {
        "id": "j_C-d-mt4E3u"
      },
      "source": [
        "binarizer  = Binarizer(25)"
      ],
      "execution_count": 33,
      "outputs": []
    },
    {
      "cell_type": "code",
      "metadata": {
        "colab": {
          "base_uri": "https://localhost:8080/"
        },
        "id": "Pr1yGuwF4J74",
        "outputId": "ede2d0b5-ff42-4b33-8137-d29b335d4b1c"
      },
      "source": [
        "binarizer.fit_transform(age)"
      ],
      "execution_count": 34,
      "outputs": [
        {
          "output_type": "execute_result",
          "data": {
            "text/plain": [
              "array([[0],\n",
              "       [0],\n",
              "       [0],\n",
              "       [1],\n",
              "       [1]])"
            ]
          },
          "metadata": {
            "tags": []
          },
          "execution_count": 34
        }
      ]
    },
    {
      "cell_type": "code",
      "metadata": {
        "id": "ewmsONmL4O4b"
      },
      "source": [
        ""
      ],
      "execution_count": null,
      "outputs": []
    }
  ]
}