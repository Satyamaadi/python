{
  "nbformat": 4,
  "nbformat_minor": 0,
  "metadata": {
    "colab": {
      "name": "Deep_learning_convolutions.ipynb",
      "provenance": [],
      "collapsed_sections": [],
      "authorship_tag": "ABX9TyO1XSmEMabTMQOkJpCyWwuD",
      "include_colab_link": true
    },
    "kernelspec": {
      "name": "python3",
      "display_name": "Python 3"
    },
    "accelerator": "GPU"
  },
  "cells": [
    {
      "cell_type": "markdown",
      "metadata": {
        "id": "view-in-github",
        "colab_type": "text"
      },
      "source": [
        "<a href=\"https://colab.research.google.com/github/Satyamaadi/python/blob/master/Deep_learning_convolutions.ipynb\" target=\"_parent\"><img src=\"https://colab.research.google.com/assets/colab-badge.svg\" alt=\"Open In Colab\"/></a>"
      ]
    },
    {
      "cell_type": "code",
      "metadata": {
        "id": "Qj52D2TI5vH4"
      },
      "source": [
        "from skimage import data"
      ],
      "execution_count": 1,
      "outputs": []
    },
    {
      "cell_type": "code",
      "metadata": {
        "id": "mgDBjCRS535y"
      },
      "source": [
        "from skimage.color import rgb2gray"
      ],
      "execution_count": 4,
      "outputs": []
    },
    {
      "cell_type": "code",
      "metadata": {
        "id": "GEdKH8Ot6GLb"
      },
      "source": [
        "from skimage.transform import resize,rescale"
      ],
      "execution_count": 5,
      "outputs": []
    },
    {
      "cell_type": "code",
      "metadata": {
        "id": "HHlMgXc46TWU"
      },
      "source": [
        "img = rgb2gray(data.coffee())"
      ],
      "execution_count": 6,
      "outputs": []
    },
    {
      "cell_type": "code",
      "metadata": {
        "id": "UxigTs9w6aDd"
      },
      "source": [
        "img = resize(img,(64,64))"
      ],
      "execution_count": 7,
      "outputs": []
    },
    {
      "cell_type": "code",
      "metadata": {
        "id": "Y8UWvEDg6iNW"
      },
      "source": [
        "import matplotlib.pyplot as plt"
      ],
      "execution_count": 8,
      "outputs": []
    },
    {
      "cell_type": "code",
      "metadata": {
        "colab": {
          "base_uri": "https://localhost:8080/",
          "height": 285
        },
        "id": "-v1QP7br6nWZ",
        "outputId": "cb140486-52f6-42f4-f724-aa984ed51df5"
      },
      "source": [
        "plt.imshow(img)"
      ],
      "execution_count": 9,
      "outputs": [
        {
          "output_type": "execute_result",
          "data": {
            "text/plain": [
              "<matplotlib.image.AxesImage at 0x7fd85f609ac8>"
            ]
          },
          "metadata": {
            "tags": []
          },
          "execution_count": 9
        },
        {
          "output_type": "display_data",
          "data": {
            "image/png": "[encoded data removed]",
            "text/plain": [
              "<Figure size 432x288 with 1 Axes>"
            ]
          },
          "metadata": {
            "tags": [],
            "needs_background": "light"
          }
        }
      ]
    },
    {
      "cell_type": "markdown",
      "metadata": {
        "id": "EPHVayH76sp3"
      },
      "source": [
        "##Creating filters"
      ]
    },
    {
      "cell_type": "markdown",
      "metadata": {
        "id": "xEp5z38V7_h3"
      },
      "source": [
        "###Horizontal edge filter"
      ]
    },
    {
      "cell_type": "code",
      "metadata": {
        "id": "wumtH9hJ6owC"
      },
      "source": [
        "import numpy as np"
      ],
      "execution_count": 10,
      "outputs": []
    },
    {
      "cell_type": "code",
      "metadata": {
        "id": "-r_Agotl6wi_"
      },
      "source": [
        "filter1 = np.array([[1,1,1],[0,0,0],[-1,-1,-1]])"
      ],
      "execution_count": 11,
      "outputs": []
    },
    {
      "cell_type": "code",
      "metadata": {
        "id": "XUYC2mpo65Tr"
      },
      "source": [
        "new_img = np.zeros(img.shape)"
      ],
      "execution_count": 13,
      "outputs": []
    },
    {
      "cell_type": "code",
      "metadata": {
        "id": "HFcr_BRu6-ge"
      },
      "source": [
        "img_pad = np.pad(img,1,'constant')"
      ],
      "execution_count": 14,
      "outputs": []
    },
    {
      "cell_type": "code",
      "metadata": {
        "id": "Te9ZC2yX7KDa"
      },
      "source": [
        "for i in range(img.shape[0]):\n",
        "  for j in range(img.shape[1]):\n",
        "     try:\n",
        "       new_img[i,j] = \\\n",
        "       img_pad[i-1,j-1] * filter1[0,0] + \\\n",
        "       img_pad[i-1,j] * filter1[0,1] + \\\n",
        "       img_pad[i-1,j+1] * filter1[0,2] + \\\n",
        "       img_pad[i,j-1] * filter1[1,0] + \\\n",
        "       img_pad[i,j] * filter1[1,1] + \\\n",
        "       img_pad[i,j+1] * filter1[1,2] +\\\n",
        "       img_pad[i+1,j-1] * filter1[2,0] + \\\n",
        "       img_pad[i+1,j] * filter1[2,1] + \\\n",
        "       img_pad[i+1,j+1] * filter1[2,2] \n",
        "     except:\n",
        "       pass"
      ],
      "execution_count": 17,
      "outputs": []
    },
    {
      "cell_type": "code",
      "metadata": {
        "colab": {
          "base_uri": "https://localhost:8080/",
          "height": 285
        },
        "id": "JbpnE8IM7X0X",
        "outputId": "4ed5f99c-cb6a-48e5-ef3c-3b20b1f47dbe"
      },
      "source": [
        "plt.imshow(new_img)"
      ],
      "execution_count": 18,
      "outputs": [
        {
          "output_type": "execute_result",
          "data": {
            "text/plain": [
              "<matplotlib.image.AxesImage at 0x7fd8545b2630>"
            ]
          },
          "metadata": {
            "tags": []
          },
          "execution_count": 18
        },
        {
          "output_type": "display_data",
          "data": {
            "image/png": "[encoded data removed]",
            "text/plain": [
              "<Figure size 432x288 with 1 Axes>"
            ]
          },
          "metadata": {
            "tags": [],
            "needs_background": "light"
          }
        }
      ]
    },
    {
      "cell_type": "markdown",
      "metadata": {
        "id": "iGc8bNWP8DtQ"
      },
      "source": [
        "###Vertical edge filter"
      ]
    },
    {
      "cell_type": "code",
      "metadata": {
        "id": "sGI0PrKn7vGZ"
      },
      "source": [
        "filter2 = np.array([[-1,0,1],[-1,0,1],[-1,0,1]])"
      ],
      "execution_count": 19,
      "outputs": []
    },
    {
      "cell_type": "code",
      "metadata": {
        "id": "dHg1pM3D8N_T"
      },
      "source": [
        "new_img = np.zeros(img.shape)"
      ],
      "execution_count": 20,
      "outputs": []
    },
    {
      "cell_type": "code",
      "metadata": {
        "id": "uSKcbzTq8UBD"
      },
      "source": [
        "img_pad = np.pad(img,1,'constant')"
      ],
      "execution_count": 21,
      "outputs": []
    },
    {
      "cell_type": "code",
      "metadata": {
        "id": "exQNfog18Zuu"
      },
      "source": [
        "for i in range(img.shape[0]):\n",
        "  for j in range(img.shape[1]):\n",
        "     try:\n",
        "       new_img[i,j] = \\\n",
        "       img_pad[i-1,j-1] * filter2[0,0] + \\\n",
        "       img_pad[i-1,j] * filter2[0,1] + \\\n",
        "       img_pad[i-1,j+1] * filter2[0,2] + \\\n",
        "       img_pad[i,j-1] * filter2[1,0] + \\\n",
        "       img_pad[i,j] * filter2[1,1] + \\\n",
        "       img_pad[i,j+1] * filter2[1,2] +\\\n",
        "       img_pad[i+1,j-1] * filter2[2,0] + \\\n",
        "       img_pad[i+1,j] * filter2[2,1] + \\\n",
        "       img_pad[i+1,j+1] * filter2[2,2] \n",
        "     except:\n",
        "       pass"
      ],
      "execution_count": 23,
      "outputs": []
    },
    {
      "cell_type": "code",
      "metadata": {
        "colab": {
          "base_uri": "https://localhost:8080/",
          "height": 285
        },
        "id": "17CZaaYw8eYp",
        "outputId": "be3be204-7660-4e71-9c18-f6d5b08731e1"
      },
      "source": [
        "plt.imshow(new_img)"
      ],
      "execution_count": 24,
      "outputs": [
        {
          "output_type": "execute_result",
          "data": {
            "text/plain": [
              "<matplotlib.image.AxesImage at 0x7fd85457b9e8>"
            ]
          },
          "metadata": {
            "tags": []
          },
          "execution_count": 24
        },
        {
          "output_type": "display_data",
          "data": {
            "image/png": "[encoded data removed]",
            "text/plain": [
              "<Figure size 432x288 with 1 Axes>"
            ]
          },
          "metadata": {
            "tags": [],
            "needs_background": "light"
          }
        }
      ]
    },
    {
      "cell_type": "code",
      "metadata": {
        "id": "MWAVskNp8nHD"
      },
      "source": [
        ""
      ],
      "execution_count": null,
      "outputs": []
    }
  ]
}