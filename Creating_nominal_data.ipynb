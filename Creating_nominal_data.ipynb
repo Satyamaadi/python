{
  "nbformat": 4,
  "nbformat_minor": 0,
  "metadata": {
    "colab": {
      "name": "Creating_nominal_data.ipynb",
      "provenance": [],
      "collapsed_sections": [],
      "authorship_tag": "ABX9TyOUNWmOKuWj12YIkNmiEdwG",
      "include_colab_link": true
    },
    "kernelspec": {
      "name": "python3",
      "display_name": "Python 3"
    }
  },
  "cells": [
    {
      "cell_type": "markdown",
      "metadata": {
        "id": "view-in-github",
        "colab_type": "text"
      },
      "source": [
        "<a href=\"https://colab.research.google.com/github/Satyamaadi/python/blob/master/Creating_nominal_data.ipynb\" target=\"_parent\"><img src=\"https://colab.research.google.com/assets/colab-badge.svg\" alt=\"Open In Colab\"/></a>"
      ]
    },
    {
      "cell_type": "markdown",
      "metadata": {
        "id": "v41nKMBvASS5"
      },
      "source": [
        "##Creating one hot encoded data from nominal data"
      ]
    },
    {
      "cell_type": "code",
      "metadata": {
        "id": "CdB6bGuA_H57"
      },
      "source": [
        "import numpy as np"
      ],
      "execution_count": 8,
      "outputs": []
    },
    {
      "cell_type": "code",
      "metadata": {
        "id": "19eKqTXV_U4-"
      },
      "source": [
        "from sklearn.preprocessing  import LabelBinarizer,MultiLabelBinarizer"
      ],
      "execution_count": 2,
      "outputs": []
    },
    {
      "cell_type": "code",
      "metadata": {
        "id": "7s0ct_X9_eGN"
      },
      "source": [
        "feature = np.array([['Uttar Pradesh'],['Delhi'],['Himanchal Pradesh'],['Uttrakhand']])"
      ],
      "execution_count": 3,
      "outputs": []
    },
    {
      "cell_type": "code",
      "metadata": {
        "id": "8-nuGO67_rL3"
      },
      "source": [
        "one_hot = LabelBinarizer()"
      ],
      "execution_count": 4,
      "outputs": []
    },
    {
      "cell_type": "code",
      "metadata": {
        "colab": {
          "base_uri": "https://localhost:8080/"
        },
        "id": "lg7lUYgN_v68",
        "outputId": "26f02e13-ff14-4bc4-f32d-1483d0e841cc"
      },
      "source": [
        "one_hot.fit_transform(feature)"
      ],
      "execution_count": 5,
      "outputs": [
        {
          "output_type": "execute_result",
          "data": {
            "text/plain": [
              "array([[0, 0, 1, 0],\n",
              "       [1, 0, 0, 0],\n",
              "       [0, 1, 0, 0],\n",
              "       [0, 0, 0, 1]])"
            ]
          },
          "metadata": {
            "tags": []
          },
          "execution_count": 5
        }
      ]
    },
    {
      "cell_type": "code",
      "metadata": {
        "colab": {
          "base_uri": "https://localhost:8080/"
        },
        "id": "pmyfjd3i_0C6",
        "outputId": "008fabae-b254-42e9-bef1-75062417d144"
      },
      "source": [
        "one_hot.classes_"
      ],
      "execution_count": 7,
      "outputs": [
        {
          "output_type": "execute_result",
          "data": {
            "text/plain": [
              "array(['Delhi', 'Himanchal Pradesh', 'Uttar Pradesh', 'Uttrakhand'],\n",
              "      dtype='<U17')"
            ]
          },
          "metadata": {
            "tags": []
          },
          "execution_count": 7
        }
      ]
    },
    {
      "cell_type": "markdown",
      "metadata": {
        "id": "eCt3-XJfAZRQ"
      },
      "source": [
        "##Creating one hot when multiple data is available"
      ]
    },
    {
      "cell_type": "code",
      "metadata": {
        "id": "pVG6QJ2yAdwJ"
      },
      "source": [
        "feature = np.array([('Pune','Bangalore'),('Delhi','Noida'),('Goa','Daman'),('Kutch','Bhuj')])"
      ],
      "execution_count": 9,
      "outputs": []
    },
    {
      "cell_type": "code",
      "metadata": {
        "id": "d8ix904DAqyR"
      },
      "source": [
        "multi_hot = MultiLabelBinarizer()"
      ],
      "execution_count": 12,
      "outputs": []
    },
    {
      "cell_type": "code",
      "metadata": {
        "id": "IIuGjDU4AxGz"
      },
      "source": [
        "encoded_multi = multi_hot.fit_transform(feature)"
      ],
      "execution_count": 13,
      "outputs": []
    },
    {
      "cell_type": "code",
      "metadata": {
        "colab": {
          "base_uri": "https://localhost:8080/"
        },
        "id": "ML_bAXAIBDdB",
        "outputId": "5333817b-e7a8-40a8-9410-9b758dff5cc1"
      },
      "source": [
        "encoded_multi"
      ],
      "execution_count": 15,
      "outputs": [
        {
          "output_type": "execute_result",
          "data": {
            "text/plain": [
              "array([[1, 0, 0, 0, 0, 0, 0, 1],\n",
              "       [0, 0, 0, 1, 0, 0, 1, 0],\n",
              "       [0, 0, 1, 0, 1, 0, 0, 0],\n",
              "       [0, 1, 0, 0, 0, 1, 0, 0]])"
            ]
          },
          "metadata": {
            "tags": []
          },
          "execution_count": 15
        }
      ]
    },
    {
      "cell_type": "markdown",
      "metadata": {
        "id": "eoADQkcuBQgh"
      },
      "source": [
        "We might think the proper strategy is to assign each class a numerical value (e.g.,Texas = 1, California = 2). However, when our classes have no intrinsic ordering (e.g.,Texas isn’t “less” than California), our numerical values erroneously create an order‐ing that is not present.\n",
        "The proper strategy is to create a binary feature for each class in the original feature.\n",
        "This is often called one-hot encoding (in machine learning literature) or dummying (in\n",
        "statistical and research literature). Our solution’s feature was a vector containing three\n",
        "classes (i.e., Texas, California, and Delaware). In one-hot encoding, each class\n",
        "becomes its own feature with 1s when the class appears and 0s otherwise. Because our\n",
        "feature had three classes, one-hot encoding returned three binary features (one for\n",
        "each class). By using one-hot encoding we can capture the membership of an obser‐\n",
        "vation in a class while preserving the notion that the class lacks any sort of hierarchy.\n",
        "Finally, it is worthwhile to note that it is often recommended that after one-hot\n",
        "encoding a feature, we drop one of the one-hot encoded features in the resulting\n",
        "matrix to avoid linear dependence."
      ]
    },
    {
      "cell_type": "markdown",
      "metadata": {
        "id": "4RRR-0B_Bizz"
      },
      "source": [
        "##Encoding ordinal data"
      ]
    },
    {
      "cell_type": "code",
      "metadata": {
        "id": "UXCJrMHTBFLb"
      },
      "source": [
        "import pandas as pd"
      ],
      "execution_count": 16,
      "outputs": []
    },
    {
      "cell_type": "code",
      "metadata": {
        "id": "DgA0bdvpBqTo"
      },
      "source": [
        "df = pd.DataFrame({'score':['low','low','high','mid','high']})"
      ],
      "execution_count": 17,
      "outputs": []
    },
    {
      "cell_type": "code",
      "metadata": {
        "id": "7yOUEGfOBz7X"
      },
      "source": [
        "scale = {'low':3,'mid':2,'high':1}"
      ],
      "execution_count": 18,
      "outputs": []
    },
    {
      "cell_type": "code",
      "metadata": {
        "colab": {
          "base_uri": "https://localhost:8080/"
        },
        "id": "vYIme69GB9zr",
        "outputId": "8dd33ded-dde3-4708-cf69-77f14101b1a1"
      },
      "source": [
        "df['score']"
      ],
      "execution_count": 20,
      "outputs": [
        {
          "output_type": "execute_result",
          "data": {
            "text/plain": [
              "0     low\n",
              "1     low\n",
              "2    high\n",
              "3     mid\n",
              "4    high\n",
              "Name: score, dtype: object"
            ]
          },
          "metadata": {
            "tags": []
          },
          "execution_count": 20
        }
      ]
    },
    {
      "cell_type": "code",
      "metadata": {
        "colab": {
          "base_uri": "https://localhost:8080/"
        },
        "id": "oVfv6pdSCE5h",
        "outputId": "4556a056-27df-4eed-c322-988d89e65b5e"
      },
      "source": [
        "df['score'].replace(scale)"
      ],
      "execution_count": 21,
      "outputs": [
        {
          "output_type": "execute_result",
          "data": {
            "text/plain": [
              "0    3\n",
              "1    3\n",
              "2    1\n",
              "3    2\n",
              "4    1\n",
              "Name: score, dtype: int64"
            ]
          },
          "metadata": {
            "tags": []
          },
          "execution_count": 21
        }
      ]
    },
    {
      "cell_type": "code",
      "metadata": {
        "id": "l0M8yf6NCKu6"
      },
      "source": [
        ""
      ],
      "execution_count": null,
      "outputs": []
    }
  ]
}