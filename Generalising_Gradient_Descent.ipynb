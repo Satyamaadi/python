{
  "nbformat": 4,
  "nbformat_minor": 0,
  "metadata": {
    "colab": {
      "name": "Generalising_Gradient_Descent.ipynb",
      "provenance": [],
      "authorship_tag": "ABX9TyPJIh/05rzL5mtAMsLOLZRN",
      "include_colab_link": true
    },
    "kernelspec": {
      "name": "python3",
      "display_name": "Python 3"
    }
  },
  "cells": [
    {
      "cell_type": "markdown",
      "metadata": {
        "id": "view-in-github",
        "colab_type": "text"
      },
      "source": [
        "<a href=\"https://colab.research.google.com/github/Satyamaadi/python/blob/master/Generalising_Gradient_Descent.ipynb\" target=\"_parent\"><img src=\"https://colab.research.google.com/assets/colab-badge.svg\" alt=\"Open In Colab\"/></a>"
      ]
    },
    {
      "cell_type": "markdown",
      "metadata": {
        "id": "hhVE_t7rd-jw"
      },
      "source": [
        "##Generalising Gradient Descent"
      ]
    },
    {
      "cell_type": "code",
      "metadata": {
        "id": "UlrG9tiecz-h"
      },
      "source": [
        "def w_sum(a,b):\n",
        "  if len(a) == len(b):\n",
        "    output=0\n",
        "    for i in range(len(a)):\n",
        "      output += (a[i] * b[i])\n",
        "    return output\n",
        "  else:\n",
        "    return 0      "
      ],
      "execution_count": 3,
      "outputs": []
    },
    {
      "cell_type": "code",
      "metadata": {
        "id": "oADOFvpfdRAw"
      },
      "source": [
        "weights = [0.1,0.2 ,-0.1]"
      ],
      "execution_count": 4,
      "outputs": []
    },
    {
      "cell_type": "code",
      "metadata": {
        "id": "UzS8ly4Dda0e"
      },
      "source": [
        "def neural_network(input,weights):\n",
        "  pred = w_sum(input,weights)\n",
        "  return pred"
      ],
      "execution_count": 5,
      "outputs": []
    },
    {
      "cell_type": "code",
      "metadata": {
        "id": "RNqgFT2ndrdq"
      },
      "source": [
        "toes=[8.5,9.5,9.9,9.0]\n",
        "wlrec=[0.65,0.8,0.8,0.9]\n",
        "nfans=[1.2,1.3,0.5,1.0]"
      ],
      "execution_count": 6,
      "outputs": []
    },
    {
      "cell_type": "code",
      "metadata": {
        "id": "PC0vdN0ed9yF"
      },
      "source": [
        "win_lose =[1,0,1,1]"
      ],
      "execution_count": 8,
      "outputs": []
    },
    {
      "cell_type": "code",
      "metadata": {
        "id": "v1Qe7QlEeIdt"
      },
      "source": [
        "true_win_lose=win_lose[0]"
      ],
      "execution_count": 9,
      "outputs": []
    },
    {
      "cell_type": "code",
      "metadata": {
        "id": "llVGFPl0eQrT"
      },
      "source": [
        "input = [toes[0],wlrec[0],nfans[0]]"
      ],
      "execution_count": 10,
      "outputs": []
    },
    {
      "cell_type": "code",
      "metadata": {
        "id": "Ny0IF_UAgZKa"
      },
      "source": [
        "def element_mul(number,vector):\n",
        "  output=[0,0,0]\n",
        "  if len(output) == len(vector):\n",
        "    for i in range(len(vector)):\n",
        "      output[i] = (number * vector[i])\n",
        "    return output  \n",
        "\n"
      ],
      "execution_count": 20,
      "outputs": []
    },
    {
      "cell_type": "code",
      "metadata": {
        "id": "QfoxvCEweXwx"
      },
      "source": [
        "pred = neural_network(input,weights)\n",
        "error = (pred - true_win_lose)**2\n",
        "delta = pred - true_win_lose\n",
        "weight_deltas=element_mul(delta,input)"
      ],
      "execution_count": 22,
      "outputs": []
    },
    {
      "cell_type": "code",
      "metadata": {
        "colab": {
          "base_uri": "https://localhost:8080/"
        },
        "id": "TjFnhShZfRRB",
        "outputId": "faf9e914-14fd-4e1d-8bfe-d7db6cc19269"
      },
      "source": [
        "alpha = 0.01\n",
        "\n",
        "for i in range(len(weights)):\n",
        "    weights[i] -= alpha * weight_deltas[i]\n",
        "    \n",
        "print(\"Weights:\" + str(weights))\n",
        "print(\"Weight Deltas:\" + str(weight_deltas))"
      ],
      "execution_count": 23,
      "outputs": [
        {
          "output_type": "stream",
          "text": [
            "Weights:[0.11223670000000001, 0.20352163000000004, -0.09586776000000001]\n",
            "Weight Deltas:[-0.94367, -0.072163, -0.133224]\n"
          ],
          "name": "stdout"
        }
      ]
    },
    {
      "cell_type": "code",
      "metadata": {
        "id": "7rEAP4VPfVGd"
      },
      "source": [
        ""
      ],
      "execution_count": null,
      "outputs": []
    }
  ]
}