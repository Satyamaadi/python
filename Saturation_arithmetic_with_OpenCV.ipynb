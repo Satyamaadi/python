{
  "nbformat": 4,
  "nbformat_minor": 0,
  "metadata": {
    "colab": {
      "name": "Saturation_arithmetic_with_OpenCV.ipynb",
      "provenance": [],
      "collapsed_sections": [],
      "authorship_tag": "ABX9TyMkocbtPBRiJ5qfSTHd3IAr",
      "include_colab_link": true
    },
    "kernelspec": {
      "name": "python3",
      "display_name": "Python 3"
    }
  },
  "cells": [
    {
      "cell_type": "markdown",
      "metadata": {
        "id": "view-in-github",
        "colab_type": "text"
      },
      "source": [
        "<a href=\"https://colab.research.google.com/github/Satyamaadi/python/blob/master/Saturation_arithmetic_with_OpenCV.ipynb\" target=\"_parent\"><img src=\"https://colab.research.google.com/assets/colab-badge.svg\" alt=\"Open In Colab\"/></a>"
      ]
    },
    {
      "cell_type": "code",
      "metadata": {
        "id": "f6RhxxmFm6Of"
      },
      "source": [
        "import cv2\n",
        "import matplotlib.pyplot as plt\n",
        "import numpy as np"
      ],
      "execution_count": 4,
      "outputs": []
    },
    {
      "cell_type": "code",
      "metadata": {
        "id": "NXfXytOrnf_M"
      },
      "source": [
        "X = np.uint8([250])\n",
        "y = np.uint8([50])"
      ],
      "execution_count": 5,
      "outputs": []
    },
    {
      "cell_type": "code",
      "metadata": {
        "id": "RkzR2LK0oNXe"
      },
      "source": [
        "result = cv2.add(X,y)"
      ],
      "execution_count": 6,
      "outputs": []
    },
    {
      "cell_type": "code",
      "metadata": {
        "id": "yH8xGDwyoUsh"
      },
      "source": [
        "result_numpy = X + y"
      ],
      "execution_count": 8,
      "outputs": []
    },
    {
      "cell_type": "code",
      "metadata": {
        "colab": {
          "base_uri": "https://localhost:8080/"
        },
        "id": "0afXWxCxoaTY",
        "outputId": "f6aa7ea4-c6c6-4244-b2e1-b1ecb5034215"
      },
      "source": [
        "print(\"Cv2 addition:\",result)\n",
        "print(\"Numpy addition:\",result_numpy)"
      ],
      "execution_count": 10,
      "outputs": [
        {
          "output_type": "stream",
          "text": [
            "Cv2 addition: [[255]]\n",
            "Numpy addition: [44]\n"
          ],
          "name": "stdout"
        }
      ]
    },
    {
      "cell_type": "code",
      "metadata": {
        "id": "KI3sh_oJomIq"
      },
      "source": [
        "# There is a difference between OpenCV addition and Numpy addition.\n",
        "# OpenCV addition is a saturated operation while Numpy addition is a modulo operation.\n",
        "# There is a difference between OpenCV addition and Numpy addition.\n",
        "# OpenCV addition is a saturated operation while Numpy addition is a modulo operation.\n",
        "# NumPy addition: values wrap around\n",
        "# 250+50 = 300 % 256 = 44:"
      ],
      "execution_count": 11,
      "outputs": []
    },
    {
      "cell_type": "code",
      "metadata": {
        "id": "g7_exsmQo5Tm"
      },
      "source": [
        ""
      ],
      "execution_count": null,
      "outputs": []
    }
  ]
}