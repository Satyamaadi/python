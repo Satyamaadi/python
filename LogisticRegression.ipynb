{
  "nbformat": 4,
  "nbformat_minor": 0,
  "metadata": {
    "colab": {
      "name": "LogisticRegression.ipynb",
      "provenance": [],
      "authorship_tag": "ABX9TyNtr9ULJYNNUUgxv3UIWXQl",
      "include_colab_link": true
    },
    "kernelspec": {
      "name": "python3",
      "display_name": "Python 3"
    },
    "language_info": {
      "name": "python"
    }
  },
  "cells": [
    {
      "cell_type": "markdown",
      "metadata": {
        "id": "view-in-github",
        "colab_type": "text"
      },
      "source": [
        "<a href=\"https://colab.research.google.com/github/Satyamaadi/python/blob/master/LogisticRegression.ipynb\" target=\"_parent\"><img src=\"https://colab.research.google.com/assets/colab-badge.svg\" alt=\"Open In Colab\"/></a>"
      ]
    },
    {
      "cell_type": "code",
      "execution_count": 1,
      "metadata": {
        "id": "Hz2qTkgM9T8c"
      },
      "outputs": [],
      "source": [
        "import numpy as np\n",
        "import matplotlib.pyplot as plt\n",
        "import sklearn.linear_model"
      ]
    },
    {
      "cell_type": "code",
      "source": [
        "import numpy as np\n",
        "import matplotlib.pyplot as plt\n",
        "\n",
        "def visualize_classifier(classifier, X, y):\n",
        "    # Define the minimum and maximum values for X and Y\n",
        "    # that will be used in the mesh grid\n",
        "    min_x, max_x = X[:, 0].min() - 1.0, X[:, 0].max() + 1.0\n",
        "    min_y, max_y = X[:, 1].min() - 1.0, X[:, 1].max() + 1.0\n",
        "\n",
        "    # Define the step size to use in plotting the mesh grid \n",
        "    mesh_step_size = 0.01\n",
        "\n",
        "    # Define the mesh grid of X and Y values\n",
        "    x_vals, y_vals = np.meshgrid(np.arange(min_x, max_x, mesh_step_size), np.arange(min_y, max_y, mesh_step_size))\n",
        "\n",
        "    # Run the classifier on the mesh grid\n",
        "    output = classifier.predict(np.c_[x_vals.ravel(), y_vals.ravel()])\n",
        "\n",
        "    # Reshape the output array\n",
        "    output = output.reshape(x_vals.shape)\n",
        "\n",
        "    # Create a plot\n",
        "    plt.figure()\n",
        "\n",
        "    # Choose a color scheme for the plot \n",
        "    plt.pcolormesh(x_vals, y_vals, output, cmap=plt.cm.gray)\n",
        "\n",
        "    # Overlay the training points on the plot \n",
        "    plt.scatter(X[:, 0], X[:, 1], c=y, s=75, edgecolors='black', linewidth=1, cmap=plt.cm.Paired)\n",
        "\n",
        "    # Specify the boundaries of the plot\n",
        "    plt.xlim(x_vals.min(), x_vals.max())\n",
        "    plt.ylim(y_vals.min(), y_vals.max())\n",
        "\n",
        "    # Specify the ticks on the X and Y axes\n",
        "    plt.xticks((np.arange(int(X[:, 0].min() - 1), int(X[:, 0].max() + 1), 1.0)))\n",
        "    plt.yticks((np.arange(int(X[:, 1].min() - 1), int(X[:, 1].max() + 1), 1.0)))\n",
        "\n",
        "    plt.show()"
      ],
      "metadata": {
        "id": "1MhjqO5z9iSR"
      },
      "execution_count": 3,
      "outputs": []
    },
    {
      "cell_type": "code",
      "source": [
        "X = np.array([[3.1, 7.2], [4, 6.7], [2.9, 8], [5.1, 4.5], [6, 5], [5.6, 5], [3.3, 0.4], [3.9, 0.9], [2.8, 1], [0.5, 3.4], [1, 4], [0.6, 4.9]])\n",
        "y = np.array([0, 0, 0, 1, 1, 1, 2, 2, 2, 3, 3, 3])"
      ],
      "metadata": {
        "id": "hkRFIBpS9x9q"
      },
      "execution_count": 4,
      "outputs": []
    },
    {
      "cell_type": "code",
      "source": [
        "classifier = sklearn.linear_model.LogisticRegression(solver='liblinear',C=1)"
      ],
      "metadata": {
        "id": "YxBaszaW96gG"
      },
      "execution_count": 8,
      "outputs": []
    },
    {
      "cell_type": "code",
      "source": [
        "classifier.fit(X,y)"
      ],
      "metadata": {
        "colab": {
          "base_uri": "https://localhost:8080/"
        },
        "id": "9u006qpf-PxL",
        "outputId": "8b83e82f-7b72-4248-a863-64785df2cd7b"
      },
      "execution_count": 9,
      "outputs": [
        {
          "output_type": "execute_result",
          "data": {
            "text/plain": [
              "LogisticRegression(C=1, solver='liblinear')"
            ]
          },
          "metadata": {},
          "execution_count": 9
        }
      ]
    },
    {
      "cell_type": "code",
      "source": [
        "visualize_classifier(classifier,X,y)"
      ],
      "metadata": {
        "colab": {
          "base_uri": "https://localhost:8080/",
          "height": 265
        },
        "id": "RjL8S6DY-Tph",
        "outputId": "98ffe7c1-a53c-428b-e048-2f68a3feaa56"
      },
      "execution_count": 10,
      "outputs": [
        {
          "output_type": "display_data",
          "data": {
            "text/plain": [
              "<Figure size 432x288 with 1 Axes>"
            ],
            "image/png": "[encoded data removed]"
          },
          "metadata": {
            "needs_background": "light"
          }
        }
      ]
    }
  ]
}