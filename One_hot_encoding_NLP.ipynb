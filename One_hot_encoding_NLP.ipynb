{
  "nbformat": 4,
  "nbformat_minor": 0,
  "metadata": {
    "colab": {
      "name": "One_hot_encoding_NLP.ipynb",
      "provenance": [],
      "collapsed_sections": [],
      "authorship_tag": "ABX9TyNMr99VAriciZrin3H1VpAu",
      "include_colab_link": true
    },
    "kernelspec": {
      "name": "python3",
      "display_name": "Python 3"
    }
  },
  "cells": [
    {
      "cell_type": "markdown",
      "metadata": {
        "id": "view-in-github",
        "colab_type": "text"
      },
      "source": [
        "<a href=\"https://colab.research.google.com/github/Satyamaadi/python/blob/master/One_hot_encoding_NLP.ipynb\" target=\"_parent\"><img src=\"https://colab.research.google.com/assets/colab-badge.svg\" alt=\"Open In Colab\"/></a>"
      ]
    },
    {
      "cell_type": "code",
      "metadata": {
        "id": "DU0wgCaLb7ai"
      },
      "source": [
        "documents = [\"Dog bites man.\", \"Man bites dog.\", \"Dog eats meat.\", \"Man eats food.\"]"
      ],
      "execution_count": 1,
      "outputs": []
    },
    {
      "cell_type": "code",
      "metadata": {
        "id": "1XZwNNrYcDQj"
      },
      "source": [
        "processed_docs = [doc.lower().replace(\".\",\"\") for doc in documents]"
      ],
      "execution_count": 2,
      "outputs": []
    },
    {
      "cell_type": "code",
      "metadata": {
        "colab": {
          "base_uri": "https://localhost:8080/"
        },
        "id": "YsKWqwmccVk3",
        "outputId": "63125a06-570f-42ea-ae5f-45cbf3dc9ae3"
      },
      "source": [
        "processed_docs"
      ],
      "execution_count": 3,
      "outputs": [
        {
          "output_type": "execute_result",
          "data": {
            "text/plain": [
              "['dog bites man', 'man bites dog', 'dog eats meat', 'man eats food']"
            ]
          },
          "metadata": {
            "tags": []
          },
          "execution_count": 3
        }
      ]
    },
    {
      "cell_type": "markdown",
      "metadata": {
        "id": "6_-9iMw9caZw"
      },
      "source": [
        "##Building Vocabulary"
      ]
    },
    {
      "cell_type": "code",
      "metadata": {
        "id": "g2E0VhPVcW4V"
      },
      "source": [
        "vocab = {}\n",
        "count = 0\n",
        "for doc in processed_docs:\n",
        "  for word in doc.split():\n",
        "    if word not in vocab:\n",
        "      count = count + 1\n",
        "      vocab[word] = count\n",
        "      \n"
      ],
      "execution_count": 4,
      "outputs": []
    },
    {
      "cell_type": "code",
      "metadata": {
        "colab": {
          "base_uri": "https://localhost:8080/"
        },
        "id": "3OX7hl8zc_MQ",
        "outputId": "922bca9a-03a5-4c63-aad5-d34bdb8a6ca6"
      },
      "source": [
        "vocab"
      ],
      "execution_count": 5,
      "outputs": [
        {
          "output_type": "execute_result",
          "data": {
            "text/plain": [
              "{'bites': 2, 'dog': 1, 'eats': 4, 'food': 6, 'man': 3, 'meat': 5}"
            ]
          },
          "metadata": {
            "tags": []
          },
          "execution_count": 5
        }
      ]
    },
    {
      "cell_type": "markdown",
      "metadata": {
        "id": "kel4m5tQdPrN"
      },
      "source": [
        "##One hot encoding\n",
        "\n"
      ]
    },
    {
      "cell_type": "code",
      "metadata": {
        "id": "p9aj_pqKdAWL"
      },
      "source": [
        "def get_one_hot(sstring):\n",
        "  onehot = []\n",
        "  for word in sstring.split():\n",
        "    temp = [0]*len(vocab)\n",
        "    if word in vocab:\n",
        "      temp[vocab[word]-1] = 1\n",
        "    onehot.append(temp)\n",
        "  return onehot\n"
      ],
      "execution_count": 9,
      "outputs": []
    },
    {
      "cell_type": "code",
      "metadata": {
        "colab": {
          "base_uri": "https://localhost:8080/"
        },
        "id": "LKPvsmyBeOdI",
        "outputId": "53c5f181-b9c2-4dec-c178-a545ff49ec5c"
      },
      "source": [
        "print(processed_docs[1])"
      ],
      "execution_count": 10,
      "outputs": [
        {
          "output_type": "stream",
          "text": [
            "man bites dog\n"
          ],
          "name": "stdout"
        }
      ]
    },
    {
      "cell_type": "code",
      "metadata": {
        "colab": {
          "base_uri": "https://localhost:8080/"
        },
        "id": "ARcGDcYFeWuv",
        "outputId": "0305d455-9533-4cb3-a0e1-19ec5392205f"
      },
      "source": [
        "get_one_hot(processed_docs[1])"
      ],
      "execution_count": 11,
      "outputs": [
        {
          "output_type": "execute_result",
          "data": {
            "text/plain": [
              "[[0, 0, 1, 0, 0, 0], [0, 1, 0, 0, 0, 0], [1, 0, 0, 0, 0, 0]]"
            ]
          },
          "metadata": {
            "tags": []
          },
          "execution_count": 11
        }
      ]
    },
    {
      "cell_type": "code",
      "metadata": {
        "colab": {
          "base_uri": "https://localhost:8080/"
        },
        "id": "X0bplD3xeav3",
        "outputId": "e41e12a3-4170-4715-f3e0-199f60ca2923"
      },
      "source": [
        "get_one_hot('man is a friend of dog')"
      ],
      "execution_count": 13,
      "outputs": [
        {
          "output_type": "execute_result",
          "data": {
            "text/plain": [
              "[[0, 0, 1, 0, 0, 0],\n",
              " [0, 0, 0, 0, 0, 0],\n",
              " [0, 0, 0, 0, 0, 0],\n",
              " [0, 0, 0, 0, 0, 0],\n",
              " [0, 0, 0, 0, 0, 0],\n",
              " [1, 0, 0, 0, 0, 0]]"
            ]
          },
          "metadata": {
            "tags": []
          },
          "execution_count": 13
        }
      ]
    },
    {
      "cell_type": "markdown",
      "metadata": {
        "id": "UJJ6xPNSfdEz"
      },
      "source": [
        "##One hot encoding using Scikit_learn"
      ]
    },
    {
      "cell_type": "code",
      "metadata": {
        "id": "J7_kH71Ue-jm"
      },
      "source": [
        "S1 = 'dog bites man'\n",
        "S2 = 'man bites dog'\n",
        "S3 = 'dog eats meat'\n",
        "S4 = 'man eats food'"
      ],
      "execution_count": 14,
      "outputs": []
    },
    {
      "cell_type": "code",
      "metadata": {
        "id": "EbROz3TWfkVW"
      },
      "source": [
        "from sklearn.preprocessing import OneHotEncoder,LabelEncoder"
      ],
      "execution_count": 15,
      "outputs": []
    },
    {
      "cell_type": "code",
      "metadata": {
        "id": "juo14vz4fsKO"
      },
      "source": [
        "data = [S1.split(),S2.split(),S3.split(),S4.split()]"
      ],
      "execution_count": 16,
      "outputs": []
    },
    {
      "cell_type": "code",
      "metadata": {
        "colab": {
          "base_uri": "https://localhost:8080/"
        },
        "id": "tKyy5cKofy6e",
        "outputId": "7859ae10-d639-4375-a241-851a1b871eef"
      },
      "source": [
        "data"
      ],
      "execution_count": 17,
      "outputs": [
        {
          "output_type": "execute_result",
          "data": {
            "text/plain": [
              "[['dog', 'bites', 'man'],\n",
              " ['man', 'bites', 'dog'],\n",
              " ['dog', 'eats', 'meat'],\n",
              " ['man', 'eats', 'food']]"
            ]
          },
          "metadata": {
            "tags": []
          },
          "execution_count": 17
        }
      ]
    },
    {
      "cell_type": "code",
      "metadata": {
        "id": "sAGzBif2fz6m"
      },
      "source": [
        "values = data[0]+data[1]+data[2]+data[3]"
      ],
      "execution_count": 18,
      "outputs": []
    },
    {
      "cell_type": "code",
      "metadata": {
        "colab": {
          "base_uri": "https://localhost:8080/"
        },
        "id": "cZPSW7lzf8tk",
        "outputId": "8f86ee4e-df8f-4cf5-8169-1fb779f96b7e"
      },
      "source": [
        "values"
      ],
      "execution_count": 19,
      "outputs": [
        {
          "output_type": "execute_result",
          "data": {
            "text/plain": [
              "['dog',\n",
              " 'bites',\n",
              " 'man',\n",
              " 'man',\n",
              " 'bites',\n",
              " 'dog',\n",
              " 'dog',\n",
              " 'eats',\n",
              " 'meat',\n",
              " 'man',\n",
              " 'eats',\n",
              " 'food']"
            ]
          },
          "metadata": {
            "tags": []
          },
          "execution_count": 19
        }
      ]
    },
    {
      "cell_type": "code",
      "metadata": {
        "id": "xDUGbvcsf9Ir"
      },
      "source": [
        "label_encoder = LabelEncoder()"
      ],
      "execution_count": 20,
      "outputs": []
    },
    {
      "cell_type": "code",
      "metadata": {
        "id": "367s4nzFgCOc"
      },
      "source": [
        "integer_encoded = label_encoder.fit_transform(values)"
      ],
      "execution_count": 22,
      "outputs": []
    },
    {
      "cell_type": "code",
      "metadata": {
        "colab": {
          "base_uri": "https://localhost:8080/"
        },
        "id": "pOyBW-3PgIJz",
        "outputId": "fedd67dc-520f-4d73-abec-69fcc3af7f5a"
      },
      "source": [
        "integer_encoded"
      ],
      "execution_count": 23,
      "outputs": [
        {
          "output_type": "execute_result",
          "data": {
            "text/plain": [
              "array([1, 0, 4, 4, 0, 1, 1, 2, 5, 4, 2, 3])"
            ]
          },
          "metadata": {
            "tags": []
          },
          "execution_count": 23
        }
      ]
    },
    {
      "cell_type": "code",
      "metadata": {
        "id": "Gc33ZnfSgPI8"
      },
      "source": [
        "one_hot = OneHotEncoder()"
      ],
      "execution_count": 24,
      "outputs": []
    },
    {
      "cell_type": "code",
      "metadata": {
        "id": "11uHJ2_dgXPA"
      },
      "source": [
        "one_hot_encoded = one_hot.fit_transform(data).toarray()"
      ],
      "execution_count": 26,
      "outputs": []
    },
    {
      "cell_type": "code",
      "metadata": {
        "colab": {
          "base_uri": "https://localhost:8080/"
        },
        "id": "RDzIjLpWgfc7",
        "outputId": "c6456cda-151f-4264-c713-33f53036f04e"
      },
      "source": [
        "one_hot_encoded"
      ],
      "execution_count": 27,
      "outputs": [
        {
          "output_type": "execute_result",
          "data": {
            "text/plain": [
              "array([[1., 0., 1., 0., 0., 0., 1., 0.],\n",
              "       [0., 1., 1., 0., 1., 0., 0., 0.],\n",
              "       [1., 0., 0., 1., 0., 0., 0., 1.],\n",
              "       [0., 1., 0., 1., 0., 1., 0., 0.]])"
            ]
          },
          "metadata": {
            "tags": []
          },
          "execution_count": 27
        }
      ]
    },
    {
      "cell_type": "code",
      "metadata": {
        "id": "C1WGXqNtgjTk"
      },
      "source": [
        ""
      ],
      "execution_count": null,
      "outputs": []
    }
  ]
}