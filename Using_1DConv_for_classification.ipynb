{
  "nbformat": 4,
  "nbformat_minor": 0,
  "metadata": {
    "colab": {
      "name": "Using_1DConv_for_classification.ipynb",
      "provenance": [],
      "collapsed_sections": [],
      "authorship_tag": "ABX9TyPa3aJQs15kuj+zuPUQL5cH",
      "include_colab_link": true
    },
    "kernelspec": {
      "name": "python3",
      "display_name": "Python 3"
    },
    "accelerator": "GPU"
  },
  "cells": [
    {
      "cell_type": "markdown",
      "metadata": {
        "id": "view-in-github",
        "colab_type": "text"
      },
      "source": [
        "<a href=\"https://colab.research.google.com/github/Satyamaadi/python/blob/master/Using_1DConv_for_classification.ipynb\" target=\"_parent\"><img src=\"https://colab.research.google.com/assets/colab-badge.svg\" alt=\"Open In Colab\"/></a>"
      ]
    },
    {
      "cell_type": "code",
      "metadata": {
        "id": "rY19bHLq6lxM"
      },
      "source": [
        "from keras.datasets import imdb"
      ],
      "execution_count": 3,
      "outputs": []
    },
    {
      "cell_type": "code",
      "metadata": {
        "id": "Wjgay8mM6uOs"
      },
      "source": [
        "from keras.preprocessing import sequence"
      ],
      "execution_count": 2,
      "outputs": []
    },
    {
      "cell_type": "code",
      "metadata": {
        "id": "t21qfL6w6_7F"
      },
      "source": [
        "max_features = 10000\n",
        "max_len = 500"
      ],
      "execution_count": 4,
      "outputs": []
    },
    {
      "cell_type": "code",
      "metadata": {
        "colab": {
          "base_uri": "https://localhost:8080/"
        },
        "id": "AAG7GK5K7IHS",
        "outputId": "6e41c0bc-5bf2-4cd1-8931-483535edb58b"
      },
      "source": [
        "(train_data,train_label),(test_data,test_label) = imdb.load_data(num_words=max_features)"
      ],
      "execution_count": 5,
      "outputs": [
        {
          "output_type": "stream",
          "text": [
            "Downloading data from https://storage.googleapis.com/tensorflow/tf-keras-datasets/imdb.npz\n",
            "17465344/17464789 [==============================] - 0s 0us/step\n"
          ],
          "name": "stdout"
        },
        {
          "output_type": "stream",
          "text": [
            "<string>:6: VisibleDeprecationWarning: Creating an ndarray from ragged nested sequences (which is a list-or-tuple of lists-or-tuples-or ndarrays with different lengths or shapes) is deprecated. If you meant to do this, you must specify 'dtype=object' when creating the ndarray\n",
            "/usr/local/lib/python3.6/dist-packages/tensorflow/python/keras/datasets/imdb.py:159: VisibleDeprecationWarning: Creating an ndarray from ragged nested sequences (which is a list-or-tuple of lists-or-tuples-or ndarrays with different lengths or shapes) is deprecated. If you meant to do this, you must specify 'dtype=object' when creating the ndarray\n",
            "  x_train, y_train = np.array(xs[:idx]), np.array(labels[:idx])\n",
            "/usr/local/lib/python3.6/dist-packages/tensorflow/python/keras/datasets/imdb.py:160: VisibleDeprecationWarning: Creating an ndarray from ragged nested sequences (which is a list-or-tuple of lists-or-tuples-or ndarrays with different lengths or shapes) is deprecated. If you meant to do this, you must specify 'dtype=object' when creating the ndarray\n",
            "  x_test, y_test = np.array(xs[idx:]), np.array(labels[idx:])\n"
          ],
          "name": "stderr"
        }
      ]
    },
    {
      "cell_type": "code",
      "metadata": {
        "id": "J6rqpoJ67TA2"
      },
      "source": [
        "train_data = sequence.pad_sequences(train_data,maxlen=max_len)"
      ],
      "execution_count": 7,
      "outputs": []
    },
    {
      "cell_type": "code",
      "metadata": {
        "id": "Wq6vJCKx7h4K"
      },
      "source": [
        "test_data = sequence.pad_sequences(test_data,maxlen=max_len)"
      ],
      "execution_count": 8,
      "outputs": []
    },
    {
      "cell_type": "code",
      "metadata": {
        "id": "eg_MZEbF7s7l"
      },
      "source": [
        "from keras.layers import Dense,Conv1D,Embedding,MaxPooling1D,GlobalMaxPooling1D"
      ],
      "execution_count": 19,
      "outputs": []
    },
    {
      "cell_type": "code",
      "metadata": {
        "id": "C2t44qhp75ya"
      },
      "source": [
        "from keras.models import Sequential"
      ],
      "execution_count": 10,
      "outputs": []
    },
    {
      "cell_type": "code",
      "metadata": {
        "id": "NaQavPhW7-7u"
      },
      "source": [
        "model = Sequential()"
      ],
      "execution_count": 20,
      "outputs": []
    },
    {
      "cell_type": "code",
      "metadata": {
        "id": "FANqLS148MIQ"
      },
      "source": [
        "model.add(Embedding(max_features,128,input_length= max_len))"
      ],
      "execution_count": 21,
      "outputs": []
    },
    {
      "cell_type": "code",
      "metadata": {
        "id": "9q8Mcq0V8R4d"
      },
      "source": [
        "model.add(Conv1D(32,7,activation='relu'))"
      ],
      "execution_count": 22,
      "outputs": []
    },
    {
      "cell_type": "code",
      "metadata": {
        "id": "WXHZ6IRd8pqc"
      },
      "source": [
        "model.add(MaxPooling1D(5))"
      ],
      "execution_count": 23,
      "outputs": []
    },
    {
      "cell_type": "code",
      "metadata": {
        "id": "9-ohHL6-8wJc"
      },
      "source": [
        "model.add(Conv1D(32,7,activation='relu'))"
      ],
      "execution_count": 25,
      "outputs": []
    },
    {
      "cell_type": "code",
      "metadata": {
        "id": "sAbUMQE38_ih"
      },
      "source": [
        "model.add(MaxPooling1D())"
      ],
      "execution_count": 26,
      "outputs": []
    },
    {
      "cell_type": "code",
      "metadata": {
        "id": "30ReLrgn9Hkb"
      },
      "source": [
        "model.add(Dense(1,activation='sigmoid'))"
      ],
      "execution_count": 28,
      "outputs": []
    },
    {
      "cell_type": "code",
      "metadata": {
        "colab": {
          "base_uri": "https://localhost:8080/"
        },
        "id": "lhjB3e819My9",
        "outputId": "28dcf715-105c-45ab-a338-8d76102f7289"
      },
      "source": [
        "model.summary()"
      ],
      "execution_count": 29,
      "outputs": [
        {
          "output_type": "stream",
          "text": [
            "Model: \"sequential_1\"\n",
            "_________________________________________________________________\n",
            "Layer (type)                 Output Shape              Param #   \n",
            "=================================================================\n",
            "embedding_2 (Embedding)      (None, 500, 128)          1280000   \n",
            "_________________________________________________________________\n",
            "conv1d_1 (Conv1D)            (None, 494, 32)           28704     \n",
            "_________________________________________________________________\n",
            "max_pooling1d_1 (MaxPooling1 (None, 98, 32)            0         \n",
            "_________________________________________________________________\n",
            "conv1d_2 (Conv1D)            (None, 92, 32)            7200      \n",
            "_________________________________________________________________\n",
            "max_pooling1d_2 (MaxPooling1 (None, 46, 32)            0         \n",
            "_________________________________________________________________\n",
            "dense (Dense)                (None, 46, 1)             33        \n",
            "=================================================================\n",
            "Total params: 1,315,937\n",
            "Trainable params: 1,315,937\n",
            "Non-trainable params: 0\n",
            "_________________________________________________________________\n"
          ],
          "name": "stdout"
        }
      ]
    },
    {
      "cell_type": "code",
      "metadata": {
        "id": "d0ecwnDq9QIz"
      },
      "source": [
        "from keras.optimizers import RMSprop\n",
        "model.compile(optimizer=RMSprop(lr=1e-2),loss='binary_crossentropy',metrics=['accuracy'])"
      ],
      "execution_count": 34,
      "outputs": []
    },
    {
      "cell_type": "code",
      "metadata": {
        "colab": {
          "base_uri": "https://localhost:8080/"
        },
        "id": "MutZQPq_9uKX",
        "outputId": "f9d638bf-d6fb-4a17-cc7f-f8b1a598ddca"
      },
      "source": [
        "history = model.fit(train_data,train_label,epochs=10,batch_size=128,validation_split=0.2)"
      ],
      "execution_count": 36,
      "outputs": [
        {
          "output_type": "stream",
          "text": [
            "Epoch 1/10\n",
            "157/157 [==============================] - 5s 34ms/step - loss: 0.3902 - accuracy: 0.7260 - val_loss: 1.3133 - val_accuracy: 0.5952\n",
            "Epoch 2/10\n",
            "157/157 [==============================] - 5s 33ms/step - loss: 0.3880 - accuracy: 0.7293 - val_loss: 1.2214 - val_accuracy: 0.6036\n",
            "Epoch 3/10\n",
            "157/157 [==============================] - 5s 33ms/step - loss: 0.3851 - accuracy: 0.7276 - val_loss: 1.2908 - val_accuracy: 0.6030\n",
            "Epoch 4/10\n",
            "157/157 [==============================] - 5s 33ms/step - loss: 0.3833 - accuracy: 0.7264 - val_loss: 1.3219 - val_accuracy: 0.6025\n",
            "Epoch 5/10\n",
            "157/157 [==============================] - 5s 33ms/step - loss: 0.3824 - accuracy: 0.7269 - val_loss: 1.3967 - val_accuracy: 0.6015\n",
            "Epoch 6/10\n",
            "157/157 [==============================] - 5s 33ms/step - loss: 0.3804 - accuracy: 0.7291 - val_loss: 1.5004 - val_accuracy: 0.5988\n",
            "Epoch 7/10\n",
            "157/157 [==============================] - 5s 33ms/step - loss: 0.3807 - accuracy: 0.7262 - val_loss: 1.3928 - val_accuracy: 0.6047\n",
            "Epoch 8/10\n",
            "157/157 [==============================] - 5s 33ms/step - loss: 0.3789 - accuracy: 0.7323 - val_loss: 1.4087 - val_accuracy: 0.6055\n",
            "Epoch 9/10\n",
            "157/157 [==============================] - 5s 33ms/step - loss: 0.3787 - accuracy: 0.7298 - val_loss: 1.4638 - val_accuracy: 0.6016\n",
            "Epoch 10/10\n",
            "157/157 [==============================] - 5s 33ms/step - loss: 0.3778 - accuracy: 0.7284 - val_loss: 1.5206 - val_accuracy: 0.6039\n"
          ],
          "name": "stdout"
        }
      ]
    },
    {
      "cell_type": "code",
      "metadata": {
        "id": "vVhw1da_90n8"
      },
      "source": [
        ""
      ],
      "execution_count": null,
      "outputs": []
    }
  ]
}