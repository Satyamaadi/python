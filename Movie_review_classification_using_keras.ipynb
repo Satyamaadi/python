{
  "nbformat": 4,
  "nbformat_minor": 0,
  "metadata": {
    "colab": {
      "name": "Movie_review_classification_using_keras.ipynb",
      "provenance": [],
      "collapsed_sections": [],
      "authorship_tag": "ABX9TyPRa+rNlKyVtBdTQBZRx+fG",
      "include_colab_link": true
    },
    "kernelspec": {
      "name": "python3",
      "display_name": "Python 3"
    },
    "accelerator": "GPU"
  },
  "cells": [
    {
      "cell_type": "markdown",
      "metadata": {
        "id": "view-in-github",
        "colab_type": "text"
      },
      "source": [
        "<a href=\"https://colab.research.google.com/github/Satyamaadi/python/blob/master/Movie_review_classification_using_keras.ipynb\" target=\"_parent\"><img src=\"https://colab.research.google.com/assets/colab-badge.svg\" alt=\"Open In Colab\"/></a>"
      ]
    },
    {
      "cell_type": "code",
      "metadata": {
        "id": "j4yge_38ABH0"
      },
      "source": [
        "from keras.datasets import imdb"
      ],
      "execution_count": 1,
      "outputs": []
    },
    {
      "cell_type": "code",
      "metadata": {
        "colab": {
          "base_uri": "https://localhost:8080/"
        },
        "id": "5bEONoWhAMFU",
        "outputId": "346d4f53-b08c-4624-ebda-3883fb7ed139"
      },
      "source": [
        "(train_data,train_labels),(test_data,test_labels) = imdb.load_data(num_words=10000)"
      ],
      "execution_count": 2,
      "outputs": [
        {
          "output_type": "stream",
          "text": [
            "Downloading data from https://storage.googleapis.com/tensorflow/tf-keras-datasets/imdb.npz\n",
            "17465344/17464789 [==============================] - 0s 0us/step\n"
          ],
          "name": "stdout"
        },
        {
          "output_type": "stream",
          "text": [
            "<string>:6: VisibleDeprecationWarning: Creating an ndarray from ragged nested sequences (which is a list-or-tuple of lists-or-tuples-or ndarrays with different lengths or shapes) is deprecated. If you meant to do this, you must specify 'dtype=object' when creating the ndarray\n",
            "/usr/local/lib/python3.6/dist-packages/tensorflow/python/keras/datasets/imdb.py:159: VisibleDeprecationWarning: Creating an ndarray from ragged nested sequences (which is a list-or-tuple of lists-or-tuples-or ndarrays with different lengths or shapes) is deprecated. If you meant to do this, you must specify 'dtype=object' when creating the ndarray\n",
            "  x_train, y_train = np.array(xs[:idx]), np.array(labels[:idx])\n",
            "/usr/local/lib/python3.6/dist-packages/tensorflow/python/keras/datasets/imdb.py:160: VisibleDeprecationWarning: Creating an ndarray from ragged nested sequences (which is a list-or-tuple of lists-or-tuples-or ndarrays with different lengths or shapes) is deprecated. If you meant to do this, you must specify 'dtype=object' when creating the ndarray\n",
            "  x_test, y_test = np.array(xs[idx:]), np.array(labels[idx:])\n"
          ],
          "name": "stderr"
        }
      ]
    },
    {
      "cell_type": "code",
      "metadata": {
        "colab": {
          "base_uri": "https://localhost:8080/"
        },
        "id": "Ak-tCI56AsTB",
        "outputId": "c8e6756d-f382-43f0-c7ec-67dce60bce23"
      },
      "source": [
        "train_data[0]"
      ],
      "execution_count": 3,
      "outputs": [
        {
          "output_type": "execute_result",
          "data": {
            "text/plain": [
              "[1,\n",
              " 14,\n",
              " 22,\n",
              " 16,\n",
              " 43,\n",
              " 530,\n",
              " 973,\n",
              " 1622,\n",
              " 1385,\n",
              " 65,\n",
              " 458,\n",
              " 4468,\n",
              " 66,\n",
              " 3941,\n",
              " 4,\n",
              " 173,\n",
              " 36,\n",
              " 256,\n",
              " 5,\n",
              " 25,\n",
              " 100,\n",
              " 43,\n",
              " 838,\n",
              " 112,\n",
              " 50,\n",
              " 670,\n",
              " 2,\n",
              " 9,\n",
              " 35,\n",
              " 480,\n",
              " 284,\n",
              " 5,\n",
              " 150,\n",
              " 4,\n",
              " 172,\n",
              " 112,\n",
              " 167,\n",
              " 2,\n",
              " 336,\n",
              " 385,\n",
              " 39,\n",
              " 4,\n",
              " 172,\n",
              " 4536,\n",
              " 1111,\n",
              " 17,\n",
              " 546,\n",
              " 38,\n",
              " 13,\n",
              " 447,\n",
              " 4,\n",
              " 192,\n",
              " 50,\n",
              " 16,\n",
              " 6,\n",
              " 147,\n",
              " 2025,\n",
              " 19,\n",
              " 14,\n",
              " 22,\n",
              " 4,\n",
              " 1920,\n",
              " 4613,\n",
              " 469,\n",
              " 4,\n",
              " 22,\n",
              " 71,\n",
              " 87,\n",
              " 12,\n",
              " 16,\n",
              " 43,\n",
              " 530,\n",
              " 38,\n",
              " 76,\n",
              " 15,\n",
              " 13,\n",
              " 1247,\n",
              " 4,\n",
              " 22,\n",
              " 17,\n",
              " 515,\n",
              " 17,\n",
              " 12,\n",
              " 16,\n",
              " 626,\n",
              " 18,\n",
              " 2,\n",
              " 5,\n",
              " 62,\n",
              " 386,\n",
              " 12,\n",
              " 8,\n",
              " 316,\n",
              " 8,\n",
              " 106,\n",
              " 5,\n",
              " 4,\n",
              " 2223,\n",
              " 5244,\n",
              " 16,\n",
              " 480,\n",
              " 66,\n",
              " 3785,\n",
              " 33,\n",
              " 4,\n",
              " 130,\n",
              " 12,\n",
              " 16,\n",
              " 38,\n",
              " 619,\n",
              " 5,\n",
              " 25,\n",
              " 124,\n",
              " 51,\n",
              " 36,\n",
              " 135,\n",
              " 48,\n",
              " 25,\n",
              " 1415,\n",
              " 33,\n",
              " 6,\n",
              " 22,\n",
              " 12,\n",
              " 215,\n",
              " 28,\n",
              " 77,\n",
              " 52,\n",
              " 5,\n",
              " 14,\n",
              " 407,\n",
              " 16,\n",
              " 82,\n",
              " 2,\n",
              " 8,\n",
              " 4,\n",
              " 107,\n",
              " 117,\n",
              " 5952,\n",
              " 15,\n",
              " 256,\n",
              " 4,\n",
              " 2,\n",
              " 7,\n",
              " 3766,\n",
              " 5,\n",
              " 723,\n",
              " 36,\n",
              " 71,\n",
              " 43,\n",
              " 530,\n",
              " 476,\n",
              " 26,\n",
              " 400,\n",
              " 317,\n",
              " 46,\n",
              " 7,\n",
              " 4,\n",
              " 2,\n",
              " 1029,\n",
              " 13,\n",
              " 104,\n",
              " 88,\n",
              " 4,\n",
              " 381,\n",
              " 15,\n",
              " 297,\n",
              " 98,\n",
              " 32,\n",
              " 2071,\n",
              " 56,\n",
              " 26,\n",
              " 141,\n",
              " 6,\n",
              " 194,\n",
              " 7486,\n",
              " 18,\n",
              " 4,\n",
              " 226,\n",
              " 22,\n",
              " 21,\n",
              " 134,\n",
              " 476,\n",
              " 26,\n",
              " 480,\n",
              " 5,\n",
              " 144,\n",
              " 30,\n",
              " 5535,\n",
              " 18,\n",
              " 51,\n",
              " 36,\n",
              " 28,\n",
              " 224,\n",
              " 92,\n",
              " 25,\n",
              " 104,\n",
              " 4,\n",
              " 226,\n",
              " 65,\n",
              " 16,\n",
              " 38,\n",
              " 1334,\n",
              " 88,\n",
              " 12,\n",
              " 16,\n",
              " 283,\n",
              " 5,\n",
              " 16,\n",
              " 4472,\n",
              " 113,\n",
              " 103,\n",
              " 32,\n",
              " 15,\n",
              " 16,\n",
              " 5345,\n",
              " 19,\n",
              " 178,\n",
              " 32]"
            ]
          },
          "metadata": {
            "tags": []
          },
          "execution_count": 3
        }
      ]
    },
    {
      "cell_type": "code",
      "metadata": {
        "colab": {
          "base_uri": "https://localhost:8080/"
        },
        "id": "lg9iDaBBA4Oc",
        "outputId": "2cb2cce1-05f3-4e10-e1d0-b259f69986c5"
      },
      "source": [
        "test_labels[0]"
      ],
      "execution_count": 4,
      "outputs": [
        {
          "output_type": "execute_result",
          "data": {
            "text/plain": [
              "0"
            ]
          },
          "metadata": {
            "tags": []
          },
          "execution_count": 4
        }
      ]
    },
    {
      "cell_type": "code",
      "metadata": {
        "colab": {
          "base_uri": "https://localhost:8080/"
        },
        "id": "6rMVe_04A6Cg",
        "outputId": "d18f9375-3726-46d6-f6da-1b9b41340deb"
      },
      "source": [
        "word_index = imdb.get_word_index()\n",
        "reverse_word_index = dict(\n",
        "[(value, key) for (key, value) in word_index.items()])\n",
        "decoded_review = ' '.join(\n",
        "[reverse_word_index.get(i - 3, '?') for i in train_data[0]])"
      ],
      "execution_count": 5,
      "outputs": [
        {
          "output_type": "stream",
          "text": [
            "Downloading data from https://storage.googleapis.com/tensorflow/tf-keras-datasets/imdb_word_index.json\n",
            "1646592/1641221 [==============================] - 0s 0us/step\n"
          ],
          "name": "stdout"
        }
      ]
    },
    {
      "cell_type": "code",
      "metadata": {
        "colab": {
          "base_uri": "https://localhost:8080/",
          "height": 140
        },
        "id": "pM8GxKz-BQh2",
        "outputId": "d2d09b5b-9358-4962-8fe8-19bd5fe2b648"
      },
      "source": [
        "decoded_review"
      ],
      "execution_count": 6,
      "outputs": [
        {
          "output_type": "execute_result",
          "data": {
            "application/vnd.google.colaboratory.intrinsic+json": {
              "type": "string"
            },
            "text/plain": [
              "\"? this film was just brilliant casting location scenery story direction everyone's really suited the part they played and you could just imagine being there robert ? is an amazing actor and now the same being director ? father came from the same scottish island as myself so i loved the fact there was a real connection with this film the witty remarks throughout the film were great it was just brilliant so much that i bought the film as soon as it was released for ? and would recommend it to everyone to watch and the fly fishing was amazing really cried at the end it was so sad and you know what they say if you cry at a film it must have been good and this definitely was also ? to the two little boy's that played the ? of norman and paul they were just brilliant children are often left out of the ? list i think because the stars that play them all grown up are such a big profile for the whole film but these children are amazing and should be praised for what they have done don't you think the whole story was so lovely because it was true and was someone's life after all that was shared with us all\""
            ]
          },
          "metadata": {
            "tags": []
          },
          "execution_count": 6
        }
      ]
    },
    {
      "cell_type": "code",
      "metadata": {
        "id": "x7fs3geCBUCG"
      },
      "source": [
        "import numpy as np"
      ],
      "execution_count": 7,
      "outputs": []
    },
    {
      "cell_type": "code",
      "metadata": {
        "id": "pXSBCT_BCdMT"
      },
      "source": [
        "def vectorize_sequence(sequence,dimension=10000):\n",
        "  results = np.zeros((len(sequence),dimension))\n",
        "  for i , sequence in enumerate(sequence):\n",
        "    results[i,sequence] = 1\n",
        "  return results \n"
      ],
      "execution_count": 17,
      "outputs": []
    },
    {
      "cell_type": "code",
      "metadata": {
        "id": "v8vke4ipC8js"
      },
      "source": [
        "x_train = vectorize_sequence(train_data)\n",
        "x_test = vectorize_sequence(test_data)"
      ],
      "execution_count": 18,
      "outputs": []
    },
    {
      "cell_type": "code",
      "metadata": {
        "id": "jQ2Y3Sp9DHNY"
      },
      "source": [
        "y_train = np.asarray(train_labels).astype('float32')\n",
        "y_test = np.asarray(test_labels).astype('float32')"
      ],
      "execution_count": 19,
      "outputs": []
    },
    {
      "cell_type": "code",
      "metadata": {
        "id": "iyzTov0sEB7H"
      },
      "source": [
        "from keras import layers,models"
      ],
      "execution_count": 20,
      "outputs": []
    },
    {
      "cell_type": "code",
      "metadata": {
        "id": "IfUE_t0zE0BN"
      },
      "source": [
        "model = models.Sequential()"
      ],
      "execution_count": 22,
      "outputs": []
    },
    {
      "cell_type": "code",
      "metadata": {
        "id": "9hNIZX1xE43X"
      },
      "source": [
        "model.add(layers.Dense(16,activation='relu',input_shape=(10000,)))"
      ],
      "execution_count": 23,
      "outputs": []
    },
    {
      "cell_type": "code",
      "metadata": {
        "id": "fbNZYuLWFOf8"
      },
      "source": [
        "model.add(layers.Dense(16,activation='relu'))"
      ],
      "execution_count": 24,
      "outputs": []
    },
    {
      "cell_type": "code",
      "metadata": {
        "id": "DlvzZ8W1FUMB"
      },
      "source": [
        "model.add(layers.Dense(1,activation='sigmoid'))"
      ],
      "execution_count": 25,
      "outputs": []
    },
    {
      "cell_type": "code",
      "metadata": {
        "id": "LtBN0SFXFbxc"
      },
      "source": [
        "model.compile(optimizer='rmsprop',loss='binary_crossentropy',metrics=['accuracy'])"
      ],
      "execution_count": 26,
      "outputs": []
    },
    {
      "cell_type": "code",
      "metadata": {
        "id": "4UHvZ82NF_pr"
      },
      "source": [
        "x_val = x_train[:10000]\n",
        "partial_x_train = x_train[10000:]"
      ],
      "execution_count": 27,
      "outputs": []
    },
    {
      "cell_type": "code",
      "metadata": {
        "id": "N7UANzMDG1q6"
      },
      "source": [
        "y_val = y_train[:10000]\n",
        "partial_y_train = y_train[10000:]"
      ],
      "execution_count": 28,
      "outputs": []
    },
    {
      "cell_type": "code",
      "metadata": {
        "colab": {
          "base_uri": "https://localhost:8080/"
        },
        "id": "Xvo5qpoIG-ST",
        "outputId": "1bc132ed-d239-47d5-90eb-a137c4f07f4f"
      },
      "source": [
        "history = model.fit(partial_x_train,partial_y_train,batch_size=128,epochs=20,validation_data=(x_val,y_val))"
      ],
      "execution_count": 29,
      "outputs": [
        {
          "output_type": "stream",
          "text": [
            "Epoch 1/20\n",
            "118/118 [==============================] - 3s 9ms/step - loss: 0.5095 - accuracy: 0.7750 - val_loss: 0.3053 - val_accuracy: 0.8770\n",
            "Epoch 2/20\n",
            "118/118 [==============================] - 1s 7ms/step - loss: 0.2088 - accuracy: 0.9299 - val_loss: 0.2832 - val_accuracy: 0.8873\n",
            "Epoch 3/20\n",
            "118/118 [==============================] - 1s 7ms/step - loss: 0.1428 - accuracy: 0.9518 - val_loss: 0.3343 - val_accuracy: 0.8704\n",
            "Epoch 4/20\n",
            "118/118 [==============================] - 1s 6ms/step - loss: 0.1100 - accuracy: 0.9641 - val_loss: 0.3477 - val_accuracy: 0.8800\n",
            "Epoch 5/20\n",
            "118/118 [==============================] - 1s 7ms/step - loss: 0.0756 - accuracy: 0.9746 - val_loss: 0.3781 - val_accuracy: 0.8777\n",
            "Epoch 6/20\n",
            "118/118 [==============================] - 1s 7ms/step - loss: 0.0531 - accuracy: 0.9846 - val_loss: 0.4333 - val_accuracy: 0.8763\n",
            "Epoch 7/20\n",
            "118/118 [==============================] - 1s 7ms/step - loss: 0.0377 - accuracy: 0.9882 - val_loss: 0.5274 - val_accuracy: 0.8571\n",
            "Epoch 8/20\n",
            "118/118 [==============================] - 1s 7ms/step - loss: 0.0233 - accuracy: 0.9940 - val_loss: 0.5640 - val_accuracy: 0.8677\n",
            "Epoch 9/20\n",
            "118/118 [==============================] - 1s 7ms/step - loss: 0.0160 - accuracy: 0.9968 - val_loss: 0.7216 - val_accuracy: 0.8636\n",
            "Epoch 10/20\n",
            "118/118 [==============================] - 1s 7ms/step - loss: 0.0081 - accuracy: 0.9986 - val_loss: 0.7515 - val_accuracy: 0.8649\n",
            "Epoch 11/20\n",
            "118/118 [==============================] - 1s 7ms/step - loss: 0.0052 - accuracy: 0.9990 - val_loss: 0.8790 - val_accuracy: 0.8656\n",
            "Epoch 12/20\n",
            "118/118 [==============================] - 1s 6ms/step - loss: 0.0026 - accuracy: 0.9995 - val_loss: 0.9417 - val_accuracy: 0.8603\n",
            "Epoch 13/20\n",
            "118/118 [==============================] - 1s 7ms/step - loss: 0.0020 - accuracy: 0.9996 - val_loss: 1.0334 - val_accuracy: 0.8605\n",
            "Epoch 14/20\n",
            "118/118 [==============================] - 1s 7ms/step - loss: 7.5217e-04 - accuracy: 0.9999 - val_loss: 1.1510 - val_accuracy: 0.8593\n",
            "Epoch 15/20\n",
            "118/118 [==============================] - 1s 7ms/step - loss: 3.4702e-04 - accuracy: 1.0000 - val_loss: 1.3393 - val_accuracy: 0.8584\n",
            "Epoch 16/20\n",
            "118/118 [==============================] - 1s 7ms/step - loss: 2.5169e-04 - accuracy: 1.0000 - val_loss: 1.3352 - val_accuracy: 0.8559\n",
            "Epoch 17/20\n",
            "118/118 [==============================] - 1s 6ms/step - loss: 6.2688e-05 - accuracy: 1.0000 - val_loss: 1.4688 - val_accuracy: 0.8578\n",
            "Epoch 18/20\n",
            "118/118 [==============================] - 1s 7ms/step - loss: 3.5590e-05 - accuracy: 1.0000 - val_loss: 1.5828 - val_accuracy: 0.8561\n",
            "Epoch 19/20\n",
            "118/118 [==============================] - 1s 7ms/step - loss: 3.4165e-05 - accuracy: 1.0000 - val_loss: 1.6735 - val_accuracy: 0.8555\n",
            "Epoch 20/20\n",
            "118/118 [==============================] - 1s 7ms/step - loss: 3.3379e-05 - accuracy: 1.0000 - val_loss: 1.7291 - val_accuracy: 0.8564\n"
          ],
          "name": "stdout"
        }
      ]
    },
    {
      "cell_type": "code",
      "metadata": {
        "colab": {
          "base_uri": "https://localhost:8080/"
        },
        "id": "HxInv64kHP1U",
        "outputId": "e6b0fddd-d00f-44b5-e2a4-86f22cf6716e"
      },
      "source": [
        "history.history.keys()"
      ],
      "execution_count": 31,
      "outputs": [
        {
          "output_type": "execute_result",
          "data": {
            "text/plain": [
              "dict_keys(['loss', 'accuracy', 'val_loss', 'val_accuracy'])"
            ]
          },
          "metadata": {
            "tags": []
          },
          "execution_count": 31
        }
      ]
    },
    {
      "cell_type": "code",
      "metadata": {
        "id": "bXGKlBOaHe7n"
      },
      "source": [
        "import matplotlib.pyplot as plt "
      ],
      "execution_count": 32,
      "outputs": []
    },
    {
      "cell_type": "code",
      "metadata": {
        "id": "YX8O_71XHvbV"
      },
      "source": [
        "loss = history.history['loss']\n",
        "val_loss = history.history['val_loss']\n",
        "acc = history.history['accuracy']"
      ],
      "execution_count": 34,
      "outputs": []
    },
    {
      "cell_type": "code",
      "metadata": {
        "id": "NXpnvR9KIOIP"
      },
      "source": [
        "epochs = range(1,len(acc)+1)"
      ],
      "execution_count": 35,
      "outputs": []
    },
    {
      "cell_type": "code",
      "metadata": {
        "colab": {
          "base_uri": "https://localhost:8080/",
          "height": 279
        },
        "id": "owdBz4arIbhA",
        "outputId": "1536d2a0-7609-4edc-f76d-336c2553223b"
      },
      "source": [
        "plt.plot(epochs,loss,'b-',label='Training Loss')\n",
        "plt.plot(epochs,val_loss,'r-',label='Validation Loss')\n",
        "plt.xlabel('Epochs')\n",
        "plt.ylabel('Loss')\n",
        "plt.legend()\n",
        "plt.show()"
      ],
      "execution_count": 40,
      "outputs": [
        {
          "output_type": "display_data",
          "data": {
            "image/png": "[encoded data removed]",
            "text/plain": [
              "<Figure size 432x288 with 1 Axes>"
            ]
          },
          "metadata": {
            "tags": [],
            "needs_background": "light"
          }
        }
      ]
    },
    {
      "cell_type": "code",
      "metadata": {
        "id": "92wNJBGYJNTU"
      },
      "source": [
        "val_acc = history.history['val_accuracy']"
      ],
      "execution_count": 41,
      "outputs": []
    },
    {
      "cell_type": "code",
      "metadata": {
        "colab": {
          "base_uri": "https://localhost:8080/",
          "height": 279
        },
        "id": "4h7T4y4SJrdO",
        "outputId": "ae80e622-3d25-4b1c-9184-c3c6f184e641"
      },
      "source": [
        "plt.plot(epochs,acc,'b-',label='Training Accuracy')\n",
        "plt.plot(epochs,val_acc,'r-',label = 'Validation Accuracy')\n",
        "plt.xlabel('Epochs')\n",
        "plt.ylabel('Accuracy')\n",
        "plt.legend()\n",
        "plt.show()"
      ],
      "execution_count": 44,
      "outputs": [
        {
          "output_type": "display_data",
          "data": {
            "image/png": "[encoded data removed]",
            "text/plain": [
              "<Figure size 432x288 with 1 Axes>"
            ]
          },
          "metadata": {
            "tags": [],
            "needs_background": "light"
          }
        }
      ]
    },
    {
      "cell_type": "code",
      "metadata": {
        "id": "3sC0h3QlJ_kO"
      },
      "source": [
        ""
      ],
      "execution_count": null,
      "outputs": []
    }
  ]
}