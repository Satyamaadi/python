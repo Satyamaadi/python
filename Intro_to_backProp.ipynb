{
  "nbformat": 4,
  "nbformat_minor": 0,
  "metadata": {
    "colab": {
      "name": "Intro_to_backProp.ipynb",
      "provenance": [],
      "collapsed_sections": [],
      "authorship_tag": "ABX9TyOt5KpC8CLgDoZt6uUUDcGU",
      "include_colab_link": true
    },
    "kernelspec": {
      "name": "python3",
      "display_name": "Python 3"
    }
  },
  "cells": [
    {
      "cell_type": "markdown",
      "metadata": {
        "id": "view-in-github",
        "colab_type": "text"
      },
      "source": [
        "<a href=\"https://colab.research.google.com/github/Satyamaadi/python/blob/master/Intro_to_backProp.ipynb\" target=\"_parent\"><img src=\"https://colab.research.google.com/assets/colab-badge.svg\" alt=\"Open In Colab\"/></a>"
      ]
    },
    {
      "cell_type": "code",
      "metadata": {
        "id": "I_Z71aQYlzrL"
      },
      "source": [
        "import numpy as np"
      ],
      "execution_count": 1,
      "outputs": []
    },
    {
      "cell_type": "code",
      "metadata": {
        "id": "MIs37pqzl8dE"
      },
      "source": [
        "weights = np.array([0.5,0.48,-0.7])"
      ],
      "execution_count": 2,
      "outputs": []
    },
    {
      "cell_type": "code",
      "metadata": {
        "id": "hG8HCOQhmByC"
      },
      "source": [
        "alpha=0.1\n",
        "street_light = np.array([[1,0,1],[0,1,1],[0,0,1],[1,1,1],[0,1,1],[1,0,1]])"
      ],
      "execution_count": 3,
      "outputs": []
    },
    {
      "cell_type": "code",
      "metadata": {
        "id": "a4PhOo5-mXvb"
      },
      "source": [
        "walk_vs_stop = np.array([0,1,0,1,1,0])"
      ],
      "execution_count": 4,
      "outputs": []
    },
    {
      "cell_type": "code",
      "metadata": {
        "id": "hFcSBjcumfiZ"
      },
      "source": [
        "input=street_light[0]"
      ],
      "execution_count": 5,
      "outputs": []
    },
    {
      "cell_type": "code",
      "metadata": {
        "id": "6FSPGYw5mlvu"
      },
      "source": [
        "goal_prediction = walk_vs_stop[0]"
      ],
      "execution_count": 6,
      "outputs": []
    },
    {
      "cell_type": "code",
      "metadata": {
        "colab": {
          "base_uri": "https://localhost:8080/"
        },
        "id": "a3I-l479mp5d",
        "outputId": "bc7a5d7f-d816-45de-eb6a-511eaaa7ba88"
      },
      "source": [
        "for iteration in range(20):\n",
        "  prediction = input.dot(weights)\n",
        "  error = (goal_prediction-prediction)**2\n",
        "  delta = prediction - goal_prediction\n",
        "  weights = weights - (alpha*(input*delta))\n",
        "  print(\"Error:\",error,'Prediction:',prediction)"
      ],
      "execution_count": 8,
      "outputs": [
        {
          "output_type": "stream",
          "text": [
            "Error: 5.316911983140017e-06 Prediction: -0.0023058430092137705\n",
            "Error: 3.4028236692096106e-06 Prediction: -0.0018446744073710164\n",
            "Error: 2.177807148294282e-06 Prediction: -0.0014757395258968575\n",
            "Error: 1.3937965749083403e-06 Prediction: -0.001180591620717486\n",
            "Error: 8.920298079413378e-07 Prediction: -0.0009444732965739888\n",
            "Error: 5.708990770825904e-07 Prediction: -0.0007555786372592799\n",
            "Error: 3.653754093328579e-07 Prediction: -0.0006044629098074239\n",
            "Error: 2.3384026197294315e-07 Prediction: -0.0004835703278458503\n",
            "Error: 1.4965776766264926e-07 Prediction: -0.00038685626227663583\n",
            "Error: 9.578097130409553e-08 Prediction: -0.00030948500982130867\n",
            "Error: 6.129982163457715e-08 Prediction: -0.0002475880078569581\n",
            "Error: 3.923188584614697e-08 Prediction: -0.0001980704062856109\n",
            "Error: 2.5108406941548135e-08 Prediction: -0.00015845632502853313\n",
            "Error: 1.6069380442568288e-08 Prediction: -0.00012676506002273769\n",
            "Error: 1.0284403483261718e-08 Prediction: -0.00010141204801827897\n",
            "Error: 6.5820182292947054e-09 Prediction: -8.112963841466758e-05\n",
            "Error: 4.212491666737083e-09 Prediction: -6.490371073164525e-05\n",
            "Error: 2.6959946667163447e-09 Prediction: -5.192296858536061e-05\n",
            "Error: 1.7254365866910818e-09 Prediction: -4.153837486819967e-05\n",
            "Error: 1.1042794154763895e-09 Prediction: -3.3230699894470916e-05\n"
          ],
          "name": "stdout"
        }
      ]
    },
    {
      "cell_type": "markdown",
      "metadata": {
        "id": "OEyP9fWjnd3j"
      },
      "source": [
        "##Building our neural network"
      ]
    },
    {
      "cell_type": "code",
      "metadata": {
        "id": "DGz38BemnEWc"
      },
      "source": [
        "import numpy as np"
      ],
      "execution_count": 9,
      "outputs": []
    },
    {
      "cell_type": "code",
      "metadata": {
        "id": "Z74PlHY4nkRV"
      },
      "source": [
        "a = np.array([0,1,2,1])\n",
        "b = np.array([2,2,2,3])"
      ],
      "execution_count": 10,
      "outputs": []
    },
    {
      "cell_type": "code",
      "metadata": {
        "colab": {
          "base_uri": "https://localhost:8080/"
        },
        "id": "DVp9B983nsm6",
        "outputId": "8d562041-c49c-4619-cb7a-75eabf7e31fa"
      },
      "source": [
        "print(a+b)\n",
        "print(a*b)\n",
        "print(.5*a)\n",
        "print(0.5+b)"
      ],
      "execution_count": 11,
      "outputs": [
        {
          "output_type": "stream",
          "text": [
            "[2 3 4 4]\n",
            "[0 2 4 3]\n",
            "[0.  0.5 1.  0.5]\n",
            "[2.5 2.5 2.5 3.5]\n"
          ],
          "name": "stdout"
        }
      ]
    },
    {
      "cell_type": "markdown",
      "metadata": {
        "id": "iat-I420oL6Y"
      },
      "source": [
        "##Learning the whole dataset"
      ]
    },
    {
      "cell_type": "code",
      "metadata": {
        "colab": {
          "base_uri": "https://localhost:8080/"
        },
        "id": "H9uiRI93n0Pr",
        "outputId": "1ab021eb-622f-42fa-9f6b-d7691da54f6a"
      },
      "source": [
        "weights=np.array([0.5,0.48,-0.7])\n",
        "alpha=0.1\n",
        "streetlight = np.array([[1,0,1],[0,1,1],[0,0,1],[1,1,1],[0,1,1],[1,0,1]])\n",
        "walk_vs_stop = np.array([0,1,0,1,1,0])\n",
        "input = street_light[0]\n",
        "goal_prediction = walk_vs_stop[0]\n",
        "for iteration in range(40):\n",
        "  error_for_all_lights=0\n",
        "  for row_indx in range(len(walk_vs_stop)):\n",
        "    input = street_light[row_indx]\n",
        "    goal_prediction = walk_vs_stop[row_indx]\n",
        "    prediction = input.dot(weights)\n",
        "    error = (goal_prediction - prediction)**2\n",
        "    error_for_all_lights+=error\n",
        "    delta = prediction - goal_prediction\n",
        "    weights = weights - (alpha*(input*delta))\n",
        "    print(\"Prediction\",prediction,'Error',error_for_all_lights)"
      ],
      "execution_count": 12,
      "outputs": [
        {
          "output_type": "stream",
          "text": [
            "Prediction -0.19999999999999996 Error 0.03999999999999998\n",
            "Prediction -0.19999999999999996 Error 1.48\n",
            "Prediction -0.5599999999999999 Error 1.7935999999999999\n",
            "Prediction 0.6160000000000001 Error 1.9410559999999997\n",
            "Prediction 0.17279999999999995 Error 2.62531584\n",
            "Prediction 0.17552 Error 2.6561231104\n",
            "Prediction 0.14041599999999999 Error 0.019716653055999997\n",
            "Prediction 0.3066464 Error 0.50045586768896\n",
            "Prediction -0.34513824 Error 0.6195762723992576\n",
            "Prediction 1.006637344 Error 0.619620326734632\n",
            "Prediction 0.4785034751999999 Error 0.891578952113109\n",
            "Prediction 0.26700416768 Error 0.9628701776715985\n",
            "Prediction 0.213603334144 Error 0.04562638435743332\n",
            "Prediction 0.5347420299776 Error 0.26209136302679775\n",
            "Prediction -0.26067345110016 Error 0.33004201113526527\n",
            "Prediction 1.1319428845096962 Error 0.3474509359080043\n",
            "Prediction 0.6274723921901568 Error 0.4862277544885286\n",
            "Prediction 0.25433999330650114 Error 0.5509165866836797\n",
            "Prediction 0.20347199464520088 Error 0.041400852604896655\n",
            "Prediction 0.6561967149569552 Error 0.15960155141128576\n",
            "Prediction -0.221948503950995 Error 0.2088626898173706\n",
            "Prediction 1.166258650532124 Error 0.23650462869413352\n",
            "Prediction 0.7139004922542389 Error 0.3183575570265003\n",
            "Prediction 0.21471099528371604 Error 0.36445836852222424\n",
            "Prediction 0.17176879622697283 Error 0.029504519357263316\n",
            "Prediction 0.7324724146523222 Error 0.10107552827922237\n",
            "Prediction -0.19966478845083285 Error 0.1409415560263382\n",
            "Prediction 1.1697769945341199 Error 0.16976578389937677\n",
            "Prediction 0.7719890116601171 Error 0.22175479470310697\n",
            "Prediction 0.17297997428859369 Error 0.2516768662079895\n",
            "Prediction 0.13838397943087496 Error 0.019150125763124824\n",
            "Prediction 0.7864548139561468 Error 0.0647516722456287\n",
            "Prediction -0.1836567869927348 Error 0.09848148765412346\n",
            "Prediction 1.163248019006011 Error 0.1251314033635104\n",
            "Prediction 0.8148799260629888 Error 0.15940084513795488\n",
            "Prediction 0.1362897844408577 Error 0.17797575048089034\n",
            "Prediction 0.10903182755268614 Error 0.01188793941947869\n",
            "Prediction 0.8273717796510367 Error 0.04168844188032892\n",
            "Prediction -0.17037324196481937 Error 0.07071548345793181\n",
            "Prediction 1.1537962739591756 Error 0.0943687773416576\n",
            "Prediction 0.8481754931254761 Error 0.11741945822934995\n",
            "Prediction 0.1059488041691444 Error 0.12864460733422164\n",
            "Prediction 0.0847590433353155 Error 0.007184095427117891\n",
            "Prediction 0.859469609749935 Error 0.026932886010953446\n",
            "Prediction -0.1585508402022421 Error 0.052071254939790354\n",
            "Prediction 1.1438418857156731 Error 0.07276174302603113\n",
            "Prediction 0.8746623946770374 Error 0.08847125833412586\n",
            "Prediction 0.08148074110264475 Error 0.09511036950476208\n",
            "Prediction 0.06518459288211581 Error 0.004249031149207183\n",
            "Prediction 0.8850633823431538 Error 0.017459457227603222\n",
            "Prediction -0.14771905585408038 Error 0.03928037669002414\n",
            "Prediction 1.1341830033853888 Error 0.0572854550875474\n",
            "Prediction 0.8959860107828534 Error 0.06810436504041208\n",
            "Prediction 0.0619780399014222 Error 0.07194564247043436\n",
            "Prediction 0.04958243192113776 Error 0.0024584175552142605\n",
            "Prediction 0.9056327614440267 Error 0.011363593267894233\n",
            "Prediction -0.13768337501215525 Error 0.03032030502263201\n",
            "Prediction 1.1250605910610996 Error 0.04596045645918359\n",
            "Prediction 0.9132624284442169 Error 0.05348386277857818\n",
            "Prediction 0.04653264583708144 Error 0.05564914990717743\n",
            "Prediction 0.03722611666966513 Error 0.0013857837623035202\n",
            "Prediction 0.922234066504699 Error 0.007433324174699103\n",
            "Prediction -0.12834662236261596 Error 0.023906179646591055\n",
            "Prediction 1.116526024487899 Error 0.037484494029545484\n",
            "Prediction 0.9273167105424409 Error 0.0427673545959168\n",
            "Prediction 0.03435527296969987 Error 0.04394763937673939\n",
            "Prediction 0.027484218375759886 Error 0.0007553822597264574\n",
            "Prediction 0.9356694192994068 Error 0.004893805873001987\n",
            "Prediction -0.11964712469387503 Error 0.019209240320513667\n",
            "Prediction 1.1085678053734553 Error 0.030996208684122145\n",
            "Prediction 0.9387866868342218 Error 0.03474327839285377\n",
            "Prediction 0.024792915481941458 Error 0.035357967050948465\n",
            "Prediction 0.019834332385553155 Error 0.0003934007411806027\n",
            "Prediction 0.946566624680628 Error 0.003248526339201473\n",
            "Prediction -0.11153724870006754 Error 0.01568908418678219\n",
            "Prediction 1.1011550767549563 Error 0.025921433740083287\n",
            "Prediction 0.948176009263518 Error 0.028607159755938263\n",
            "Prediction 0.017315912033043404 Error 0.02890700056547436\n",
            "Prediction 0.013852729626434732 Error 0.00019189811810310255\n",
            "Prediction 0.9554239432448665 Error 0.0021789229539399893\n",
            "Prediction -0.10397589092234266 Error 0.012989908847034888\n",
            "Prediction 1.0942524239871314 Error 0.021873428274484873\n",
            "Prediction 0.9558862588907013 Error 0.0238194504291431\n",
            "Prediction 0.011498267782398985 Error 0.023951660591138853\n",
            "Prediction 0.009198614225919194 Error 8.461450367728297e-05\n",
            "Prediction 0.9626393189117293 Error 0.0014804349950567532\n",
            "Prediction -0.09692579020989642 Error 0.010875043802869605\n",
            "Prediction 1.087824783849832 Error 0.018588236461139326\n",
            "Prediction 0.9622390773804066 Error 0.020014123738222245\n",
            "Prediction 0.006998674002545002 Error 0.020063105176016144\n",
            "Prediction 0.005598939202035996 Error 3.134812018809548e-05\n",
            "Prediction 0.9685315005838672 Error 0.0010216145756912478\n",
            "Prediction -0.09035250869077546 Error 0.009185190402407905\n",
            "Prediction 1.0818389613301889 Error 0.015882805994012053\n",
            "Prediction 0.9674926590701334 Error 0.016939533208342634\n",
            "Prediction 0.003544193999268516 Error 0.016952094519447087\n",
            "Prediction 0.0028353551994148157 Error 8.03923910684863e-06\n",
            "Prediction 0.9733561723362383 Error 0.000717932791683083\n",
            "Prediction -0.0842239920152223 Error 0.007811613622663312\n",
            "Prediction 1.0762639960116431 Error 0.013627810710327232\n",
            "Prediction 0.9718545378681842 Error 0.014419977748940709\n",
            "Prediction 0.0009168131382832068 Error 0.014420818295271236\n",
            "Prediction 0.0007334505106265654 Error 5.379496515383696e-07\n",
            "Prediction 0.9773186039296565 Error 0.0005149836773513307\n",
            "Prediction -0.07851033295953944 Error 0.006678856058769075\n",
            "Prediction 1.0710711494147542 Error 0.011729964337903395\n",
            "Prediction 0.9754916865567282 Error 0.01233062176573705\n",
            "Prediction -0.0010574652271341245 Error 0.012331739998443648\n",
            "Prediction -0.0008459721817072885 Error 7.156689322225895e-07\n",
            "Prediction 0.9805836929862668 Error 0.00037770864698376776\n",
            "Prediction -0.07318360881847627 Error 0.005733549246679526\n",
            "Prediction 1.066233777045345 Error 0.010120462468371989\n",
            "Prediction 0.9785385598617921 Error 0.010581055881177873\n",
            "Prediction -0.0025173975573930946 Error 0.010587393171639842\n",
            "Prediction -0.002013918045914484 Error 4.055865895660013e-06\n",
            "Prediction 0.9832839794497644 Error 0.0002834812089315581\n",
            "Prediction -0.06821774801198803 Error 0.004937142352758655\n",
            "Prediction 1.0617271739912904 Error 0.008747386361709688\n",
            "Prediction 0.9811035235627523 Error 0.009104463183453145\n",
            "Prediction -0.0035735447350425317 Error 0.009117233405426495\n",
            "Prediction -0.002858835788034024 Error 8.172942062944119e-06\n",
            "Prediction 0.9855260569025094 Error 0.00021766797085234036\n",
            "Prediction -0.06358841060413677 Error 0.004261153934012634\n",
            "Prediction 1.05752842286588 Error 0.007570673371448126\n",
            "Prediction 0.9832740020092452 Error 0.00785043238023486\n",
            "Prediction -0.004313918034364962 Error 0.00786904226904208\n",
            "Prediction -0.003451134427491974 Error 1.1910328836620354e-05\n",
            "Prediction 0.9873957068535818 Error 0.00017077853455746514\n",
            "Prediction -0.059272877470408075 Error 0.0036840525381794742\n",
            "Prediction 1.0536162524729626 Error 0.006558755067423947\n",
            "Prediction 0.9851206027353137 Error 0.006780151530384302\n",
            "Prediction -0.004808501248434842 Error 0.006803273214640502\n",
            "Prediction -0.0038468009987478735 Error 1.4797877923967637e-05\n",
            "Prediction 0.9889620124129692 Error 0.0001366350478954133\n",
            "Prediction -0.05524994626077355 Error 0.0031891916097137782\n",
            "Prediction 1.049970908776931 Error 0.005686283333706127\n",
            "Prediction 0.9867004228010665 Error 0.005863162087376519\n",
            "Prediction -0.005112871449710697 Error 0.005889303541837786\n",
            "Prediction -0.004090297159768559 Error 1.6730530855210743e-05\n",
            "Prediction 0.9902806551018011 Error 0.00011119619610535617\n",
            "Prediction -0.051499833441728114 Error 0.0027634290406310935\n",
            "Prediction 1.0465740376293469 Error 0.004932570021730911\n",
            "Prediction 0.9880596998997442 Error 0.0050751407882150806\n",
            "Prediction -0.0052710974096659285 Error 0.0051029252561172675\n",
            "Prediction -0.004216877927732746 Error 1.7782059457399616e-05\n",
            "Prediction 0.9913965574535352 Error 9.180128310772094e-05\n",
            "Prediction -0.048004082062078055 Error 0.0023961931777304454\n",
            "Prediction 1.043408578143574 Error 0.004280497834177217\n",
            "Prediction 0.9892359385403211 Error 0.004396362853284962\n",
            "Prediction -0.005318059364078823 Error 0.004424644608684828\n",
            "Prediction -0.0042544474912630525 Error 1.810032345591448e-05\n",
            "Prediction 0.992346001517791 Error 7.668401622157286e-05\n",
            "Prediction -0.044745474990504665 Error 0.0020788415483474513\n",
            "Prediction 1.0404586655589985 Error 0.00371574516716234\n",
            "Prediction 0.9902596156014837 Error 0.0038106202553932\n",
            "Prediction -0.005281305317687134 Error 0.0038385124412518303\n",
            "Prediction -0.0042250442541497055 Error 1.785099894952344e-05\n",
            "Prediction 0.9931583274383705 Error 6.465948239007722e-05\n",
            "Prediction -0.041707953394155776 Error 0.0018042128587191476\n",
            "Prediction 1.0377095425371112 Error 0.003226222457077349\n",
            "Prediction 0.9911555487826897 Error 0.00330444677441273\n",
            "Prediction -0.005182536193432452 Error 0.0033313054558089675\n",
            "Prediction -0.004146028954745959 Error 1.7189556093591867e-05\n",
            "Prediction 0.9938572955409696 Error 5.492237416458412e-05\n",
            "Prediction -0.03887654022599941 Error 0.0015663077541083342\n",
            "Prediction 1.0351474779634813 Error 0.002801652961301736\n",
            "Prediction 0.9919439948626794 Error 0.0028665521800742724\n",
            "Prediction -0.00503879377425797 Error 0.0028919416227737734\n",
            "Prediction -0.004031035019406375 Error 1.624924332768055e-05\n",
            "Prediction 0.9944621787695098 Error 4.691670730854833e-05\n",
            "Prediction -0.03623726848360008 Error 0.0013600563344610638\n",
            "Prediction 1.032759692455092 Error 0.0024332537842132696\n",
            "Prediction 0.9926415313729495 Error 0.0024874008447485557\n",
            "Prediction -0.004863410672429416 Error 0.002511053608117256\n",
            "Prediction -0.003890728537943533 Error 1.5137768555968222e-05\n",
            "Prediction 0.9949886390193969 Error 4.025150743387912e-05\n",
            "Prediction -0.03377711399894662 Error 0.0011811449375317147\n",
            "Prediction 1.0305342898820642 Error 0.0021134877961336423\n",
            "Prediction 0.9932617646389992 Error 0.002158891611913884\n",
            "Prediction -0.004666769772712614 Error 0.0021806703520253884\n",
            "Prediction -0.003733415818170091 Error 1.393839367136265e-05\n",
            "Prediction 0.9954494302702878 Error 3.464607853633597e-05\n",
            "Prediction -0.03148393251909879 Error 0.0010258840854035023\n",
            "Prediction 1.0284601943056741 Error 0.0018358667453202294\n",
            "Prediction 0.9938158986070053 Error 0.0018741098553590688\n",
            "Prediction -0.004456911151490314 Error 0.0018939739123713475\n",
            "Prediction -0.003565528921192253 Error 1.271299648785839e-05\n",
            "Prediction 0.9958549628928723 Error 2.9894329107323617e-05\n",
            "Prediction -0.029346400840475826 Error 0.0008911055713972039\n",
            "Prediction 1.0265270918125804 Error 0.0015947921714302737\n",
            "Prediction 0.9943131920358295 Error 0.0016271319562516271\n",
            "Prediction -0.004240016908292479 Error 0.0016451096996342332\n",
            "Prediction -0.0033920135266339822 Error 1.1505755764867905e-05\n",
            "Prediction 0.9962137566721563 Error 2.5841394302508984e-05\n",
            "Prediction -0.02735396176499221 Error 0.0007740806185431648\n",
            "Prediction 1.0247253767906936 Error 0.0013854248759849366\n",
            "Prediction 0.9947613261560856 Error 0.0014128685796278497\n",
            "Prediction -0.004020798285770878 Error 0.0014290353984827077\n",
            "Prediction -0.003216638628616701 Error 1.0346764067109132e-05\n",
            "Prediction 0.9965328046163073 Error 2.236820789580887e-05\n",
            "Prediction -0.025496772653362886 Error 0.0006724536236330824\n",
            "Prediction 1.0230461022472208 Error 0.0012035764524224385\n",
            "Prediction 0.9951667005089379 Error 0.0012269372363927402\n",
            "Prediction -0.0038028045995257484 Error 0.0012413985592149145\n",
            "Prediction -0.003042243679620596 Error 9.255246606191463e-06\n",
            "Prediction 0.996817865235065 Error 1.938122826839944e-05\n",
            "Prediction -0.023765657359234325 Error 0.0005841876979849281\n",
            "Prediction 1.0214809338160067 Error 0.0010456182155925877\n",
            "Prediction 0.995534671160774 Error 0.0010655573772350112\n",
            "Prediction -0.0035886696105582767 Error 0.0010784359268087556\n",
            "Prediction -0.0028709356884466207 Error 8.242271727196472e-06\n",
            "Prediction 0.9970736974585198 Error 1.6805518291469868e-05\n",
            "Prediction -0.022152061336940452 Error 0.0005075193397670419\n",
            "Prediction 1.0200221071408409 Error 0.0009084041141263521\n",
            "Prediction 0.9958697426723416 Error 0.0009254631397190278\n",
            "Prediction -0.0033803078583175654 Error 0.0009368896209360312\n",
            "Prediction -0.0027042462866540516 Error 7.312947978882227e-06\n",
            "Prediction 0.9973042495523706 Error 1.4580018454776203e-05\n",
            "Prediction -0.02064800972530455 Error 0.00044092032407104753\n",
            "Prediction 1.018662388355171 Error 0.000789205063190273\n",
            "Prediction 0.9961757229433927 Error 0.0008038301581959656\n",
            "Prediction -0.0031790709774033414 Error 0.0008139366504753339\n",
            "Prediction -0.002543256781922673 Error 6.468155058795671e-06\n",
            "Prediction 0.9975128111306469 Error 1.2654263530629438e-05\n",
            "Prediction -0.019246068219762574 Error 0.00038306540545038435\n",
            "Prediction 1.0173950374076535 Error 0.0006856527318640478\n",
            "Prediction 0.9964558482449631 Error 0.0006982137435267787\n",
            "Prediction -0.0029858720226535913 Error 0.0007071291752624441\n",
            "Prediction -0.002388697618122871 Error 5.705876310825877e-06\n",
            "Prediction 0.9977021355600483 Error 1.0986057295220529e-05\n",
            "Prediction -0.01793930655497516 Error 0.00033280477696859533\n",
            "Prediction 1.0162137740080082 Error 0.0005956912445513565\n",
            "Prediction 0.9967128843019345 Error 0.0006064963741638251\n",
            "Prediction -0.0028012842268006904 Error 0.0006143435674831474\n",
            "Prediction -0.0022410273814405524 Error 5.022203724366299e-06\n",
            "Prediction 0.9978745386023716 Error 9.539789877174641e-06\n",
            "Prediction -0.016721264429884947 Error 0.0002891404740113102\n",
            "Prediction 1.0151127459893812 Error 0.0005175355653508669\n",
            "Prediction 0.9969492081270097 Error 0.0005268428964031705\n",
            "Prediction -0.0026256193329783125 Error 0.00053373677328488\n"
          ],
          "name": "stdout"
        }
      ]
    },
    {
      "cell_type": "markdown",
      "metadata": {
        "id": "CISC_MuSqc6p"
      },
      "source": [
        "##First Deep neural network"
      ]
    },
    {
      "cell_type": "code",
      "metadata": {
        "id": "E_zgANmxp_Ck"
      },
      "source": [
        "import numpy as np"
      ],
      "execution_count": 13,
      "outputs": []
    },
    {
      "cell_type": "code",
      "metadata": {
        "id": "gWv0BGC9qjGx"
      },
      "source": [
        "np.random.seed(1)"
      ],
      "execution_count": 14,
      "outputs": []
    },
    {
      "cell_type": "code",
      "metadata": {
        "id": "ahvMxwdvqmEP"
      },
      "source": [
        "def relu(x):\n",
        "  return (x > 0) * x"
      ],
      "execution_count": 15,
      "outputs": []
    },
    {
      "cell_type": "code",
      "metadata": {
        "id": "ECtSdT8yqrST"
      },
      "source": [
        "alpha=0.2\n",
        "hidden_size=4"
      ],
      "execution_count": 16,
      "outputs": []
    },
    {
      "cell_type": "code",
      "metadata": {
        "id": "G2G1TZHhqw2a"
      },
      "source": [
        "street_light = np.array([[1,0,1],[0,1,1],[0,0,1],[1,1,1]])"
      ],
      "execution_count": 17,
      "outputs": []
    },
    {
      "cell_type": "code",
      "metadata": {
        "id": "3bkr5kHqq8EZ"
      },
      "source": [
        "walk_vs_stop = np.array([1,1,0,0]).T"
      ],
      "execution_count": 18,
      "outputs": []
    },
    {
      "cell_type": "code",
      "metadata": {
        "id": "WM343glzrEXq"
      },
      "source": [
        "weight0_1 = 2*np.random.random((3,hidden_size))-1\n",
        "weight1_2 = 2*np.random.random((hidden_size,1))-1"
      ],
      "execution_count": 19,
      "outputs": []
    },
    {
      "cell_type": "code",
      "metadata": {
        "id": "FFKHnfV2rdpG"
      },
      "source": [
        "layer_0 = street_light[0]\n",
        "layer_1 = relu(np.dot(layer_0,weight0_1))\n",
        "layer_2 = np.dot(layer_1,weight1_2)\n",
        "\n"
      ],
      "execution_count": 23,
      "outputs": []
    },
    {
      "cell_type": "code",
      "metadata": {
        "id": "8_zSgWjlrgsy"
      },
      "source": [
        ""
      ],
      "execution_count": null,
      "outputs": []
    }
  ]
}