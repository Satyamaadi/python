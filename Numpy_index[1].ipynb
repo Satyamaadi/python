{
  "nbformat": 4,
  "nbformat_minor": 0,
  "metadata": {
    "colab": {
      "name": "Numpy_index[1].ipynb",
      "provenance": [],
      "collapsed_sections": [],
      "authorship_tag": "ABX9TyPlElZuEGh/RhoSPNhmdXu1",
      "include_colab_link": true
    },
    "kernelspec": {
      "name": "python3",
      "display_name": "Python 3"
    }
  },
  "cells": [
    {
      "cell_type": "markdown",
      "metadata": {
        "id": "view-in-github",
        "colab_type": "text"
      },
      "source": [
        "<a href=\"https://colab.research.google.com/github/Satyamaadi/python/blob/master/Numpy_index%5B1%5D.ipynb\" target=\"_parent\"><img src=\"https://colab.research.google.com/assets/colab-badge.svg\" alt=\"Open In Colab\"/></a>"
      ]
    },
    {
      "cell_type": "markdown",
      "metadata": {
        "id": "49uuf6_7fc-O"
      },
      "source": [
        "Basic data loading from sklearn"
      ]
    },
    {
      "cell_type": "code",
      "metadata": {
        "id": "e-BecxfOekto"
      },
      "source": [
        "from sklearn import datasets"
      ],
      "execution_count": 1,
      "outputs": []
    },
    {
      "cell_type": "code",
      "metadata": {
        "id": "hSxLt1snewUn"
      },
      "source": [
        "digits = datasets.load_digits()"
      ],
      "execution_count": 2,
      "outputs": []
    },
    {
      "cell_type": "code",
      "metadata": {
        "id": "h1OjJc1Ze31p"
      },
      "source": [
        "features = digits.data"
      ],
      "execution_count": 3,
      "outputs": []
    },
    {
      "cell_type": "code",
      "metadata": {
        "id": "BRtpqbOifCpE"
      },
      "source": [
        "target = digits.target"
      ],
      "execution_count": 6,
      "outputs": []
    },
    {
      "cell_type": "markdown",
      "metadata": {
        "id": "VofhwiC4fqfP"
      },
      "source": [
        "#Loading Data from sklearn for linear regression\n",
        "##this is a pre-cleaned and built data often called toy data"
      ]
    },
    {
      "cell_type": "code",
      "metadata": {
        "id": "_AKYHQy7fJn3"
      },
      "source": [
        "from sklearn.datasets import make_regression"
      ],
      "execution_count": 7,
      "outputs": []
    },
    {
      "cell_type": "code",
      "metadata": {
        "id": "GtW8tpxcf16l"
      },
      "source": [
        "feature,target,coefficient = make_regression(n_samples=100,\n",
        "                                             n_features=3,\n",
        "                                             n_informative=3,\n",
        "                                             n_targets=1,\n",
        "                                             noise=0.0,\n",
        "                                             coef=True,\n",
        "                                             random_state=1)"
      ],
      "execution_count": 8,
      "outputs": []
    },
    {
      "cell_type": "markdown",
      "metadata": {
        "id": "eL9cqxLygvn8"
      },
      "source": [
        "#Loading data for classification\n"
      ]
    },
    {
      "cell_type": "code",
      "metadata": {
        "id": "ltDdVMmbgjdc"
      },
      "source": [
        "from sklearn.datasets import make_classification"
      ],
      "execution_count": 9,
      "outputs": []
    },
    {
      "cell_type": "code",
      "metadata": {
        "id": "rmtD_8vug3TH"
      },
      "source": [
        "feature,target = make_classification(n_samples=100,\n",
        "                                                 n_features=3,\n",
        "                                                 n_informative=2,\n",
        "                                                 n_redundant=0,\n",
        "                                                 n_classes=2,\n",
        "                                                 weights=[0.25,0.75],\n",
        "                                                 random_state=1)"
      ],
      "execution_count": 11,
      "outputs": []
    },
    {
      "cell_type": "code",
      "metadata": {
        "id": "yUbADjaQhRjj"
      },
      "source": [
        ""
      ],
      "execution_count": null,
      "outputs": []
    },
    {
      "cell_type": "markdown",
      "metadata": {
        "id": "ZtVvJdJOhczF"
      },
      "source": [
        "#Loading data for clustering"
      ]
    },
    {
      "cell_type": "code",
      "metadata": {
        "id": "mgmRsH0jhfkW"
      },
      "source": [
        "from sklearn.datasets import make_blobs"
      ],
      "execution_count": 14,
      "outputs": []
    },
    {
      "cell_type": "code",
      "metadata": {
        "id": "-Bieq8smhlFE"
      },
      "source": [
        "features,target = make_blobs(n_samples=100,\n",
        "                             n_features=3,\n",
        "                             centers=3,\n",
        "                             cluster_std=0.5,\n",
        "                             shuffle=True,\n",
        "                             random_state=1)"
      ],
      "execution_count": 15,
      "outputs": []
    },
    {
      "cell_type": "code",
      "metadata": {
        "id": "JGhUAykrh_aq"
      },
      "source": [
        "import matplotlib.pyplot as plt\n"
      ],
      "execution_count": 16,
      "outputs": []
    },
    {
      "cell_type": "code",
      "metadata": {
        "colab": {
          "base_uri": "https://localhost:8080/",
          "height": 285
        },
        "id": "Lkn58U1uidlQ",
        "outputId": "9bd5bfba-4887-432d-9456-22b9d491b618"
      },
      "source": [
        "plt.scatter(target[:],features[:,1],c=target)"
      ],
      "execution_count": 27,
      "outputs": [
        {
          "output_type": "execute_result",
          "data": {
            "text/plain": [
              "<matplotlib.collections.PathCollection at 0x7fd671d25f60>"
            ]
          },
          "metadata": {
            "tags": []
          },
          "execution_count": 27
        },
        {
          "output_type": "display_data",
          "data": {
            "image/png": "[encoded data removed]",
            "text/plain": [
              "<Figure size 432x288 with 1 Axes>"
            ]
          },
          "metadata": {
            "tags": [],
            "needs_background": "light"
          }
        }
      ]
    },
    {
      "cell_type": "markdown",
      "metadata": {
        "id": "hj_OGqHhjfGD"
      },
      "source": [
        "#Loading a csv file using pandas"
      ]
    },
    {
      "cell_type": "code",
      "metadata": {
        "id": "QjSuanz1jlqJ"
      },
      "source": [
        "import pandas as pd"
      ],
      "execution_count": 28,
      "outputs": []
    },
    {
      "cell_type": "code",
      "metadata": {
        "id": "NVOHQEY3jm8f"
      },
      "source": [
        "url = 'https://www.stats.govt.nz/assets/Uploads/Business-employment-data/Business-employment-data-September-2020-quarter/Download-data/business-employment-data-september-2020-quarter-csv.zip'"
      ],
      "execution_count": 35,
      "outputs": []
    },
    {
      "cell_type": "code",
      "metadata": {
        "id": "t7JdD99JjuqU"
      },
      "source": [
        "df = pd.read_csv(url)"
      ],
      "execution_count": 36,
      "outputs": []
    },
    {
      "cell_type": "code",
      "metadata": {
        "colab": {
          "base_uri": "https://localhost:8080/",
          "height": 487
        },
        "id": "ELCRIPm-jxGc",
        "outputId": "8479fc83-8110-48a5-9b60-147ef65fe888"
      },
      "source": [
        "df.head()"
      ],
      "execution_count": 37,
      "outputs": [
        {
          "output_type": "execute_result",
          "data": {
            "text/html": [
              "<div>\n",
              "<style scoped>\n",
              "    .dataframe tbody tr th:only-of-type {\n",
              "        vertical-align: middle;\n",
              "    }\n",
              "\n",
              "    .dataframe tbody tr th {\n",
              "        vertical-align: top;\n",
              "    }\n",
              "\n",
              "    .dataframe thead th {\n",
              "        text-align: right;\n",
              "    }\n",
              "</style>\n",
              "<table border=\"1\" class=\"dataframe\">\n",
              "  <thead>\n",
              "    <tr style=\"text-align: right;\">\n",
              "      <th></th>\n",
              "      <th>Series_reference</th>\n",
              "      <th>Period</th>\n",
              "      <th>Data_value</th>\n",
              "      <th>Suppressed</th>\n",
              "      <th>STATUS</th>\n",
              "      <th>UNITS</th>\n",
              "      <th>Magnitude</th>\n",
              "      <th>Subject</th>\n",
              "      <th>Group</th>\n",
              "      <th>Series_title_1</th>\n",
              "      <th>Series_title_2</th>\n",
              "      <th>Series_title_3</th>\n",
              "      <th>Series_title_4</th>\n",
              "      <th>Series_title_5</th>\n",
              "    </tr>\n",
              "  </thead>\n",
              "  <tbody>\n",
              "    <tr>\n",
              "      <th>0</th>\n",
              "      <td>BDCQ.SEA1AA</td>\n",
              "      <td>2011.06</td>\n",
              "      <td>80078.0</td>\n",
              "      <td>NaN</td>\n",
              "      <td>F</td>\n",
              "      <td>Number</td>\n",
              "      <td>0</td>\n",
              "      <td>Business Data Collection - BDC</td>\n",
              "      <td>Industry by employment variable</td>\n",
              "      <td>Filled jobs</td>\n",
              "      <td>Agriculture, Forestry and Fishing</td>\n",
              "      <td>Actual</td>\n",
              "      <td>NaN</td>\n",
              "      <td>NaN</td>\n",
              "    </tr>\n",
              "    <tr>\n",
              "      <th>1</th>\n",
              "      <td>BDCQ.SEA1AA</td>\n",
              "      <td>2011.09</td>\n",
              "      <td>78324.0</td>\n",
              "      <td>NaN</td>\n",
              "      <td>F</td>\n",
              "      <td>Number</td>\n",
              "      <td>0</td>\n",
              "      <td>Business Data Collection - BDC</td>\n",
              "      <td>Industry by employment variable</td>\n",
              "      <td>Filled jobs</td>\n",
              "      <td>Agriculture, Forestry and Fishing</td>\n",
              "      <td>Actual</td>\n",
              "      <td>NaN</td>\n",
              "      <td>NaN</td>\n",
              "    </tr>\n",
              "    <tr>\n",
              "      <th>2</th>\n",
              "      <td>BDCQ.SEA1AA</td>\n",
              "      <td>2011.12</td>\n",
              "      <td>85850.0</td>\n",
              "      <td>NaN</td>\n",
              "      <td>F</td>\n",
              "      <td>Number</td>\n",
              "      <td>0</td>\n",
              "      <td>Business Data Collection - BDC</td>\n",
              "      <td>Industry by employment variable</td>\n",
              "      <td>Filled jobs</td>\n",
              "      <td>Agriculture, Forestry and Fishing</td>\n",
              "      <td>Actual</td>\n",
              "      <td>NaN</td>\n",
              "      <td>NaN</td>\n",
              "    </tr>\n",
              "    <tr>\n",
              "      <th>3</th>\n",
              "      <td>BDCQ.SEA1AA</td>\n",
              "      <td>2012.03</td>\n",
              "      <td>90743.0</td>\n",
              "      <td>NaN</td>\n",
              "      <td>F</td>\n",
              "      <td>Number</td>\n",
              "      <td>0</td>\n",
              "      <td>Business Data Collection - BDC</td>\n",
              "      <td>Industry by employment variable</td>\n",
              "      <td>Filled jobs</td>\n",
              "      <td>Agriculture, Forestry and Fishing</td>\n",
              "      <td>Actual</td>\n",
              "      <td>NaN</td>\n",
              "      <td>NaN</td>\n",
              "    </tr>\n",
              "    <tr>\n",
              "      <th>4</th>\n",
              "      <td>BDCQ.SEA1AA</td>\n",
              "      <td>2012.06</td>\n",
              "      <td>81780.0</td>\n",
              "      <td>NaN</td>\n",
              "      <td>F</td>\n",
              "      <td>Number</td>\n",
              "      <td>0</td>\n",
              "      <td>Business Data Collection - BDC</td>\n",
              "      <td>Industry by employment variable</td>\n",
              "      <td>Filled jobs</td>\n",
              "      <td>Agriculture, Forestry and Fishing</td>\n",
              "      <td>Actual</td>\n",
              "      <td>NaN</td>\n",
              "      <td>NaN</td>\n",
              "    </tr>\n",
              "  </tbody>\n",
              "</table>\n",
              "</div>"
            ],
            "text/plain": [
              "  Series_reference   Period  ...  Series_title_4 Series_title_5\n",
              "0      BDCQ.SEA1AA  2011.06  ...             NaN            NaN\n",
              "1      BDCQ.SEA1AA  2011.09  ...             NaN            NaN\n",
              "2      BDCQ.SEA1AA  2011.12  ...             NaN            NaN\n",
              "3      BDCQ.SEA1AA  2012.03  ...             NaN            NaN\n",
              "4      BDCQ.SEA1AA  2012.06  ...             NaN            NaN\n",
              "\n",
              "[5 rows x 14 columns]"
            ]
          },
          "metadata": {
            "tags": []
          },
          "execution_count": 37
        }
      ]
    },
    {
      "cell_type": "markdown",
      "metadata": {
        "id": "t2vHmewJlPK4"
      },
      "source": [
        "##we can use pd.read_excel() and pd.read_json() for their respective types\n"
      ]
    },
    {
      "cell_type": "code",
      "metadata": {
        "id": "A0TM6p7NlXDL"
      },
      "source": [
        "from sqlalchemy import create_engine"
      ],
      "execution_count": 38,
      "outputs": []
    },
    {
      "cell_type": "code",
      "metadata": {
        "id": "TBr50p0ClkSz"
      },
      "source": [
        "db_conn = create_engine('sqlite:///sample.db')"
      ],
      "execution_count": 39,
      "outputs": []
    },
    {
      "cell_type": "code",
      "metadata": {
        "id": "StL5RqmNlr-q"
      },
      "source": [
        "df = pd.read_sql_query('SELECT * FROM test',db_conn)\n",
        "df = pd.read_sql_query('INSERT INTO TEST VALUES(\"SHIKHAR\")',db_conn)"
      ],
      "execution_count": null,
      "outputs": []
    },
    {
      "cell_type": "code",
      "metadata": {
        "colab": {
          "base_uri": "https://localhost:8080/",
          "height": 81
        },
        "id": "zJIaljwXl4RA",
        "outputId": "808e6a9a-9799-4f45-da91-06b205ccd9ed"
      },
      "source": [
        "df"
      ],
      "execution_count": 51,
      "outputs": [
        {
          "output_type": "execute_result",
          "data": {
            "text/html": [
              "<div>\n",
              "<style scoped>\n",
              "    .dataframe tbody tr th:only-of-type {\n",
              "        vertical-align: middle;\n",
              "    }\n",
              "\n",
              "    .dataframe tbody tr th {\n",
              "        vertical-align: top;\n",
              "    }\n",
              "\n",
              "    .dataframe thead th {\n",
              "        text-align: right;\n",
              "    }\n",
              "</style>\n",
              "<table border=\"1\" class=\"dataframe\">\n",
              "  <thead>\n",
              "    <tr style=\"text-align: right;\">\n",
              "      <th></th>\n",
              "      <th>name</th>\n",
              "    </tr>\n",
              "  </thead>\n",
              "  <tbody>\n",
              "    <tr>\n",
              "      <th>0</th>\n",
              "      <td>SHIKHAR</td>\n",
              "    </tr>\n",
              "  </tbody>\n",
              "</table>\n",
              "</div>"
            ],
            "text/plain": [
              "      name\n",
              "0  SHIKHAR"
            ]
          },
          "metadata": {
            "tags": []
          },
          "execution_count": 51
        }
      ]
    },
    {
      "cell_type": "code",
      "metadata": {
        "id": "TJ2Z2OCsmbcy"
      },
      "source": [
        ""
      ],
      "execution_count": null,
      "outputs": []
    }
  ]
}