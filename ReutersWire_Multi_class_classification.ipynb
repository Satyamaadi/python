{
  "nbformat": 4,
  "nbformat_minor": 0,
  "metadata": {
    "colab": {
      "name": "ReutersWire_Multi_class_classification.ipynb",
      "provenance": [],
      "collapsed_sections": [],
      "authorship_tag": "ABX9TyPtuXOS5cU3mB1Xb9vzSbQX",
      "include_colab_link": true
    },
    "kernelspec": {
      "name": "python3",
      "display_name": "Python 3"
    }
  },
  "cells": [
    {
      "cell_type": "markdown",
      "metadata": {
        "id": "view-in-github",
        "colab_type": "text"
      },
      "source": [
        "<a href=\"https://colab.research.google.com/github/Satyamaadi/python/blob/master/ReutersWire_Multi_class_classification.ipynb\" target=\"_parent\"><img src=\"https://colab.research.google.com/assets/colab-badge.svg\" alt=\"Open In Colab\"/></a>"
      ]
    },
    {
      "cell_type": "code",
      "metadata": {
        "id": "Thc3asCxz_0W"
      },
      "source": [
        "from keras.datasets import reuters"
      ],
      "execution_count": 1,
      "outputs": []
    },
    {
      "cell_type": "code",
      "metadata": {
        "colab": {
          "base_uri": "https://localhost:8080/"
        },
        "id": "DZLavtch0Rd-",
        "outputId": "e94d161d-7047-4081-a269-b3fee9e790ad"
      },
      "source": [
        "(train_data,train_labels),(test_data,test_labels) = reuters.load_data(num_words=10000)"
      ],
      "execution_count": 2,
      "outputs": [
        {
          "output_type": "stream",
          "text": [
            "Downloading data from https://storage.googleapis.com/tensorflow/tf-keras-datasets/reuters.npz\n",
            "2113536/2110848 [==============================] - 0s 0us/step\n"
          ],
          "name": "stdout"
        },
        {
          "output_type": "stream",
          "text": [
            "/usr/local/lib/python3.6/dist-packages/tensorflow/python/keras/datasets/reuters.py:148: VisibleDeprecationWarning: Creating an ndarray from ragged nested sequences (which is a list-or-tuple of lists-or-tuples-or ndarrays with different lengths or shapes) is deprecated. If you meant to do this, you must specify 'dtype=object' when creating the ndarray\n",
            "  x_train, y_train = np.array(xs[:idx]), np.array(labels[:idx])\n",
            "/usr/local/lib/python3.6/dist-packages/tensorflow/python/keras/datasets/reuters.py:149: VisibleDeprecationWarning: Creating an ndarray from ragged nested sequences (which is a list-or-tuple of lists-or-tuples-or ndarrays with different lengths or shapes) is deprecated. If you meant to do this, you must specify 'dtype=object' when creating the ndarray\n",
            "  x_test, y_test = np.array(xs[idx:]), np.array(labels[idx:])\n"
          ],
          "name": "stderr"
        }
      ]
    },
    {
      "cell_type": "code",
      "metadata": {
        "colab": {
          "base_uri": "https://localhost:8080/"
        },
        "id": "lGl5Qjox0s05",
        "outputId": "6b5d6aaf-834f-4753-e39c-1d098eced0ed"
      },
      "source": [
        "(train_data.shape,test_data.shape),(train_labels.shape,test_labels.shape)"
      ],
      "execution_count": 3,
      "outputs": [
        {
          "output_type": "execute_result",
          "data": {
            "text/plain": [
              "(((8982,), (2246,)), ((8982,), (2246,)))"
            ]
          },
          "metadata": {
            "tags": []
          },
          "execution_count": 3
        }
      ]
    },
    {
      "cell_type": "code",
      "metadata": {
        "id": "V8kz3bp_03X0"
      },
      "source": [
        "import numpy as np"
      ],
      "execution_count": 4,
      "outputs": []
    },
    {
      "cell_type": "code",
      "metadata": {
        "id": "o7ICoLeK1KYb"
      },
      "source": [
        "def vectorize_sequences(sequence,dimesion=10000):\n",
        "  results = np.zeros((len(sequence),dimesion))\n",
        "  for i,sequence in enumerate(sequence):\n",
        "    results[i,sequence] = 1\n",
        "  return results   "
      ],
      "execution_count": 5,
      "outputs": []
    },
    {
      "cell_type": "code",
      "metadata": {
        "id": "N6zEPGyP1vUQ"
      },
      "source": [
        "x_train = vectorize_sequences(test_data)\n",
        "x_test = vectorize_sequences(train_data)"
      ],
      "execution_count": 6,
      "outputs": []
    },
    {
      "cell_type": "code",
      "metadata": {
        "id": "oO7tReT-4d_Z"
      },
      "source": [
        "from keras.utils.np_utils import to_categorical"
      ],
      "execution_count": 7,
      "outputs": []
    },
    {
      "cell_type": "code",
      "metadata": {
        "id": "_7z2XLVM3BaF"
      },
      "source": [
        "def to_one_hot(labels, dimension=46):\n",
        "    results = np.zeros((len(labels), dimension))\n",
        "    for i, label in enumerate(labels):\n",
        "        results[i, label] = 1.\n",
        "    return results\n",
        "\n",
        "one_hot_train_labels = to_one_hot(train_labels)\n",
        "one_hot_test_labels = to_one_hot(test_labels)"
      ],
      "execution_count": 8,
      "outputs": []
    },
    {
      "cell_type": "code",
      "metadata": {
        "id": "HGiNKDXe3Vts"
      },
      "source": [
        "from keras import models,layers"
      ],
      "execution_count": 9,
      "outputs": []
    },
    {
      "cell_type": "code",
      "metadata": {
        "id": "vpn14sei7HQM"
      },
      "source": [
        "model = models.Sequential()"
      ],
      "execution_count": 10,
      "outputs": []
    },
    {
      "cell_type": "code",
      "metadata": {
        "id": "tD-fFooo7Msm"
      },
      "source": [
        "model.add(layers.Dense(64,input_shape=(10000,),activation='relu'))"
      ],
      "execution_count": 11,
      "outputs": []
    },
    {
      "cell_type": "code",
      "metadata": {
        "id": "KQzJfgfN7aaP"
      },
      "source": [
        "model.add(layers.Dense(64,activation='relu'))"
      ],
      "execution_count": 12,
      "outputs": []
    },
    {
      "cell_type": "code",
      "metadata": {
        "id": "CJEdxBZ67gGo"
      },
      "source": [
        "model.add(layers.Dense(46,activation='softmax'))"
      ],
      "execution_count": 13,
      "outputs": []
    },
    {
      "cell_type": "code",
      "metadata": {
        "id": "b16EwESc7l2k"
      },
      "source": [
        "model.compile(optimizer='rmsprop',loss='categorical_crossentropy',metrics=['accuracy'])"
      ],
      "execution_count": 14,
      "outputs": []
    },
    {
      "cell_type": "code",
      "metadata": {
        "id": "YfX5YxlY7_8X"
      },
      "source": [
        "x_val = x_train[:1000]\n",
        "partial_x_train = x_train[1000:2000]\n",
        "y_val = one_hot_train_labels[:1000]\n",
        "partial_y_train = one_hot_train_labels[1000:2000]"
      ],
      "execution_count": 35,
      "outputs": []
    },
    {
      "cell_type": "code",
      "metadata": {
        "colab": {
          "base_uri": "https://localhost:8080/"
        },
        "id": "HzuWCwRE89yt",
        "outputId": "5bfb9879-8a48-4e55-bc4e-ee382d300396"
      },
      "source": [
        "len(partial_x_train)"
      ],
      "execution_count": 36,
      "outputs": [
        {
          "output_type": "execute_result",
          "data": {
            "text/plain": [
              "1000"
            ]
          },
          "metadata": {
            "tags": []
          },
          "execution_count": 36
        }
      ]
    },
    {
      "cell_type": "code",
      "metadata": {
        "colab": {
          "base_uri": "https://localhost:8080/"
        },
        "id": "xVB2czRg71lN",
        "outputId": "69a4d8b3-cfac-4cab-b4d0-148aa394856b"
      },
      "source": [
        "history = model.fit(partial_x_train,partial_y_train,epochs=20,validation_data=(x_val,y_val),batch_size=512)"
      ],
      "execution_count": 37,
      "outputs": [
        {
          "output_type": "stream",
          "text": [
            "Epoch 1/20\n",
            "2/2 [==============================] - 0s 164ms/step - loss: 0.7281 - accuracy: 0.8560 - val_loss: 2.7676 - val_accuracy: 0.3030\n",
            "Epoch 2/20\n",
            "2/2 [==============================] - 0s 104ms/step - loss: 0.6791 - accuracy: 0.8690 - val_loss: 2.8059 - val_accuracy: 0.3150\n",
            "Epoch 3/20\n",
            "2/2 [==============================] - 0s 102ms/step - loss: 0.6364 - accuracy: 0.8780 - val_loss: 2.8168 - val_accuracy: 0.3060\n",
            "Epoch 4/20\n",
            "2/2 [==============================] - 0s 101ms/step - loss: 0.5954 - accuracy: 0.8870 - val_loss: 2.8486 - val_accuracy: 0.2810\n",
            "Epoch 5/20\n",
            "2/2 [==============================] - 0s 101ms/step - loss: 0.5557 - accuracy: 0.9040 - val_loss: 2.8931 - val_accuracy: 0.2820\n",
            "Epoch 6/20\n",
            "2/2 [==============================] - 0s 101ms/step - loss: 0.5165 - accuracy: 0.9060 - val_loss: 2.9062 - val_accuracy: 0.2840\n",
            "Epoch 7/20\n",
            "2/2 [==============================] - 0s 101ms/step - loss: 0.4826 - accuracy: 0.9180 - val_loss: 2.9300 - val_accuracy: 0.2860\n",
            "Epoch 8/20\n",
            "2/2 [==============================] - 0s 119ms/step - loss: 0.4510 - accuracy: 0.9250 - val_loss: 3.0228 - val_accuracy: 0.2860\n",
            "Epoch 9/20\n",
            "2/2 [==============================] - 0s 104ms/step - loss: 0.4210 - accuracy: 0.9260 - val_loss: 3.0154 - val_accuracy: 0.3040\n",
            "Epoch 10/20\n",
            "2/2 [==============================] - 0s 100ms/step - loss: 0.3929 - accuracy: 0.9350 - val_loss: 3.0599 - val_accuracy: 0.2990\n",
            "Epoch 11/20\n",
            "2/2 [==============================] - 0s 102ms/step - loss: 0.3673 - accuracy: 0.9390 - val_loss: 3.0694 - val_accuracy: 0.2840\n",
            "Epoch 12/20\n",
            "2/2 [==============================] - 0s 103ms/step - loss: 0.3447 - accuracy: 0.9440 - val_loss: 3.1207 - val_accuracy: 0.2670\n",
            "Epoch 13/20\n",
            "2/2 [==============================] - 0s 103ms/step - loss: 0.3239 - accuracy: 0.9480 - val_loss: 3.1304 - val_accuracy: 0.2730\n",
            "Epoch 14/20\n",
            "2/2 [==============================] - 0s 103ms/step - loss: 0.3019 - accuracy: 0.9500 - val_loss: 3.2048 - val_accuracy: 0.2950\n",
            "Epoch 15/20\n",
            "2/2 [==============================] - 0s 101ms/step - loss: 0.2832 - accuracy: 0.9540 - val_loss: 3.2480 - val_accuracy: 0.2930\n",
            "Epoch 16/20\n",
            "2/2 [==============================] - 0s 105ms/step - loss: 0.2651 - accuracy: 0.9550 - val_loss: 3.2435 - val_accuracy: 0.2750\n",
            "Epoch 17/20\n",
            "2/2 [==============================] - 0s 129ms/step - loss: 0.2507 - accuracy: 0.9590 - val_loss: 3.2864 - val_accuracy: 0.2600\n",
            "Epoch 18/20\n",
            "2/2 [==============================] - 0s 259ms/step - loss: 0.2372 - accuracy: 0.9620 - val_loss: 3.3214 - val_accuracy: 0.2680\n",
            "Epoch 19/20\n",
            "2/2 [==============================] - 0s 103ms/step - loss: 0.2211 - accuracy: 0.9640 - val_loss: 3.3616 - val_accuracy: 0.2670\n",
            "Epoch 20/20\n",
            "2/2 [==============================] - 0s 102ms/step - loss: 0.2057 - accuracy: 0.9670 - val_loss: 3.4104 - val_accuracy: 0.2730\n"
          ],
          "name": "stdout"
        }
      ]
    },
    {
      "cell_type": "code",
      "metadata": {
        "id": "7M7atXjp8UTW"
      },
      "source": [
        "predictions = model.predict(x_test)"
      ],
      "execution_count": 20,
      "outputs": []
    },
    {
      "cell_type": "code",
      "metadata": {
        "colab": {
          "base_uri": "https://localhost:8080/"
        },
        "id": "NdhQIPU7t3CY",
        "outputId": "38cd9abd-8102-4b25-c279-e305186e22e3"
      },
      "source": [
        "predictions[0].sum()"
      ],
      "execution_count": 22,
      "outputs": [
        {
          "output_type": "execute_result",
          "data": {
            "text/plain": [
              "0.99999994"
            ]
          },
          "metadata": {
            "tags": []
          },
          "execution_count": 22
        }
      ]
    },
    {
      "cell_type": "code",
      "metadata": {
        "colab": {
          "base_uri": "https://localhost:8080/"
        },
        "id": "C5kUGNVEuDYU",
        "outputId": "c6c27d48-6d32-405c-ddec-1b6ccb668f36"
      },
      "source": [
        "np.argmax(predictions[9])"
      ],
      "execution_count": 24,
      "outputs": [
        {
          "output_type": "execute_result",
          "data": {
            "text/plain": [
              "3"
            ]
          },
          "metadata": {
            "tags": []
          },
          "execution_count": 24
        }
      ]
    },
    {
      "cell_type": "code",
      "metadata": {
        "id": "w9HTxd3HuN6C"
      },
      "source": [
        ""
      ],
      "execution_count": null,
      "outputs": []
    }
  ]
}