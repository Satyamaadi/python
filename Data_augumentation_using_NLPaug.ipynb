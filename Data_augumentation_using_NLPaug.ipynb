{
  "nbformat": 4,
  "nbformat_minor": 0,
  "metadata": {
    "colab": {
      "name": "Data_augumentation_using_NLPaug.ipynb",
      "provenance": [],
      "collapsed_sections": [],
      "authorship_tag": "ABX9TyMhBmvdZe4IrYH8PBN1UOy1",
      "include_colab_link": true
    },
    "kernelspec": {
      "name": "python3",
      "display_name": "Python 3"
    }
  },
  "cells": [
    {
      "cell_type": "markdown",
      "metadata": {
        "id": "view-in-github",
        "colab_type": "text"
      },
      "source": [
        "<a href=\"https://colab.research.google.com/github/Satyamaadi/python/blob/master/Data_augumentation_using_NLPaug.ipynb\" target=\"_parent\"><img src=\"https://colab.research.google.com/assets/colab-badge.svg\" alt=\"Open In Colab\"/></a>"
      ]
    },
    {
      "cell_type": "code",
      "metadata": {
        "colab": {
          "base_uri": "https://localhost:8080/"
        },
        "id": "vT3QLazEbkp4",
        "outputId": "1fb6b4bf-ab86-464f-94cd-fd3127e66cbe"
      },
      "source": [
        "!pip install nlpaug"
      ],
      "execution_count": 1,
      "outputs": [
        {
          "output_type": "stream",
          "text": [
            "Collecting nlpaug\n",
            "\u001b[?25l  Downloading https://files.pythonhosted.org/packages/03/6d/34f342ba443ca8a74682962f71c465cfcaaa69e9a437cdcf1756986c110d/nlpaug-1.1.2-py3-none-any.whl (387kB)\n",
            "\r\u001b[K     |▉                               | 10kB 15.8MB/s eta 0:00:01\r\u001b[K     |█▊                              | 20kB 21.6MB/s eta 0:00:01\r\u001b[K     |██▌                             | 30kB 9.2MB/s eta 0:00:01\r\u001b[K     |███▍                            | 40kB 9.2MB/s eta 0:00:01\r\u001b[K     |████▎                           | 51kB 4.7MB/s eta 0:00:01\r\u001b[K     |█████                           | 61kB 5.2MB/s eta 0:00:01\r\u001b[K     |██████                          | 71kB 5.6MB/s eta 0:00:01\r\u001b[K     |██████▊                         | 81kB 6.2MB/s eta 0:00:01\r\u001b[K     |███████▋                        | 92kB 5.9MB/s eta 0:00:01\r\u001b[K     |████████▌                       | 102kB 6.3MB/s eta 0:00:01\r\u001b[K     |█████████▎                      | 112kB 6.3MB/s eta 0:00:01\r\u001b[K     |██████████▏                     | 122kB 6.3MB/s eta 0:00:01\r\u001b[K     |███████████                     | 133kB 6.3MB/s eta 0:00:01\r\u001b[K     |███████████▉                    | 143kB 6.3MB/s eta 0:00:01\r\u001b[K     |████████████▊                   | 153kB 6.3MB/s eta 0:00:01\r\u001b[K     |█████████████▌                  | 163kB 6.3MB/s eta 0:00:01\r\u001b[K     |██████████████▍                 | 174kB 6.3MB/s eta 0:00:01\r\u001b[K     |███████████████▏                | 184kB 6.3MB/s eta 0:00:01\r\u001b[K     |████████████████                | 194kB 6.3MB/s eta 0:00:01\r\u001b[K     |█████████████████               | 204kB 6.3MB/s eta 0:00:01\r\u001b[K     |█████████████████▊              | 215kB 6.3MB/s eta 0:00:01\r\u001b[K     |██████████████████▋             | 225kB 6.3MB/s eta 0:00:01\r\u001b[K     |███████████████████▍            | 235kB 6.3MB/s eta 0:00:01\r\u001b[K     |████████████████████▎           | 245kB 6.3MB/s eta 0:00:01\r\u001b[K     |█████████████████████▏          | 256kB 6.3MB/s eta 0:00:01\r\u001b[K     |██████████████████████          | 266kB 6.3MB/s eta 0:00:01\r\u001b[K     |██████████████████████▉         | 276kB 6.3MB/s eta 0:00:01\r\u001b[K     |███████████████████████▋        | 286kB 6.3MB/s eta 0:00:01\r\u001b[K     |████████████████████████▌       | 296kB 6.3MB/s eta 0:00:01\r\u001b[K     |█████████████████████████▍      | 307kB 6.3MB/s eta 0:00:01\r\u001b[K     |██████████████████████████▏     | 317kB 6.3MB/s eta 0:00:01\r\u001b[K     |███████████████████████████     | 327kB 6.3MB/s eta 0:00:01\r\u001b[K     |████████████████████████████    | 337kB 6.3MB/s eta 0:00:01\r\u001b[K     |████████████████████████████▊   | 348kB 6.3MB/s eta 0:00:01\r\u001b[K     |█████████████████████████████▋  | 358kB 6.3MB/s eta 0:00:01\r\u001b[K     |██████████████████████████████▍ | 368kB 6.3MB/s eta 0:00:01\r\u001b[K     |███████████████████████████████▎| 378kB 6.3MB/s eta 0:00:01\r\u001b[K     |████████████████████████████████| 389kB 6.3MB/s \n",
            "\u001b[?25hInstalling collected packages: nlpaug\n",
            "Successfully installed nlpaug-1.1.2\n"
          ],
          "name": "stdout"
        }
      ]
    },
    {
      "cell_type": "markdown",
      "metadata": {
        "id": "uvSMG2Q6eZ7p"
      },
      "source": [
        "##Character level augumentation:\n",
        "###Since in OCR and Keyboard typing there can be errors, so augumentation tries preventing those errors"
      ]
    },
    {
      "cell_type": "code",
      "metadata": {
        "id": "_YC6-sP6cZ2W"
      },
      "source": [
        "text=\"The quick brown fox jumps over the lazy dog .\""
      ],
      "execution_count": 2,
      "outputs": []
    },
    {
      "cell_type": "code",
      "metadata": {
        "colab": {
          "base_uri": "https://localhost:8080/"
        },
        "id": "jpAkrvWJcmNy",
        "outputId": "f20705fc-cb12-412d-cfaf-218cafdb0b13"
      },
      "source": [
        "import nlpaug.augmenter.char as nac\n",
        "import nlpaug.augmenter.word as naw\n",
        "import nlpaug.augmenter.sentence as nas\n",
        "import nlpaug.flow as nafc\n",
        "\n",
        "from nlpaug.util import Action\n",
        "import os\n",
        "!git clone https://github.com/makcedward/nlpaug.git\n",
        "os.environ[\"MODEL_DIR\"] = 'nlpaug/model/'"
      ],
      "execution_count": 3,
      "outputs": [
        {
          "output_type": "stream",
          "text": [
            "Cloning into 'nlpaug'...\n",
            "remote: Enumerating objects: 40, done.\u001b[K\n",
            "remote: Counting objects: 100% (40/40), done.\u001b[K\n",
            "remote: Compressing objects: 100% (32/32), done.\u001b[K\n",
            "remote: Total 4502 (delta 11), reused 20 (delta 8), pack-reused 4462\u001b[K\n",
            "Receiving objects: 100% (4502/4502), 2.94 MiB | 11.55 MiB/s, done.\n",
            "Resolving deltas: 100% (3171/3171), done.\n"
          ],
          "name": "stdout"
        }
      ]
    },
    {
      "cell_type": "code",
      "metadata": {
        "id": "OI7U35Uvcx7s"
      },
      "source": [
        "aug = nac.OcrAug()"
      ],
      "execution_count": 4,
      "outputs": []
    },
    {
      "cell_type": "code",
      "metadata": {
        "id": "pxX6fx7RdDiA"
      },
      "source": [
        "augumented_text = aug.augment(text,n=3)"
      ],
      "execution_count": 5,
      "outputs": []
    },
    {
      "cell_type": "code",
      "metadata": {
        "colab": {
          "base_uri": "https://localhost:8080/"
        },
        "id": "qvOAcbg2dwb3",
        "outputId": "8da63c90-26bf-4c26-f3f2-e7a69b578262"
      },
      "source": [
        "print(augumented_text)"
      ],
      "execution_count": 6,
      "outputs": [
        {
          "output_type": "stream",
          "text": [
            "['The quick brown fox jump8 over the lazy do9.', 'The quick bkown fox jumps over the 1azy dog.', 'The qoick brown fox jomps over the lazy dog.']\n"
          ],
          "name": "stdout"
        }
      ]
    },
    {
      "cell_type": "code",
      "metadata": {
        "id": "kIF0hnKLd0Sr"
      },
      "source": [
        "aug = nac.KeyboardAug()"
      ],
      "execution_count": 7,
      "outputs": []
    },
    {
      "cell_type": "code",
      "metadata": {
        "id": "j3g9-FRqeKT2"
      },
      "source": [
        "augumented_text = aug.augment(text,n=3)"
      ],
      "execution_count": 8,
      "outputs": []
    },
    {
      "cell_type": "code",
      "metadata": {
        "colab": {
          "base_uri": "https://localhost:8080/"
        },
        "id": "7B5wXdFneSVU",
        "outputId": "731f1d4e-c9a8-458d-e67c-4cdf99838e05"
      },
      "source": [
        "print(augumented_text)"
      ],
      "execution_count": 9,
      "outputs": [
        {
          "output_type": "stream",
          "text": [
            "['The qJick brown fox jkmps over the laxy dog.', 'The qkick broqn fox jumps ove# the lazy dog.', 'The @uick brown fox Mumps ov$r the lazy dog.']\n"
          ],
          "name": "stdout"
        }
      ]
    },
    {
      "cell_type": "code",
      "metadata": {
        "id": "Tg_WQ4Z0e-X7"
      },
      "source": [
        ""
      ],
      "execution_count": null,
      "outputs": []
    }
  ]
}