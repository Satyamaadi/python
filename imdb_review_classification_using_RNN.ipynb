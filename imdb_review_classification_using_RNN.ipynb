{
  "nbformat": 4,
  "nbformat_minor": 0,
  "metadata": {
    "colab": {
      "name": "imdb_review_classification_using_RNN.ipynb",
      "provenance": [],
      "collapsed_sections": [],
      "authorship_tag": "ABX9TyP+BAz+cLR0nT84xQtTD+6M",
      "include_colab_link": true
    },
    "kernelspec": {
      "name": "python3",
      "display_name": "Python 3"
    }
  },
  "cells": [
    {
      "cell_type": "markdown",
      "metadata": {
        "id": "view-in-github",
        "colab_type": "text"
      },
      "source": [
        "<a href=\"https://colab.research.google.com/github/Satyamaadi/python/blob/master/imdb_review_classification_using_RNN.ipynb\" target=\"_parent\"><img src=\"https://colab.research.google.com/assets/colab-badge.svg\" alt=\"Open In Colab\"/></a>"
      ]
    },
    {
      "cell_type": "code",
      "metadata": {
        "id": "Ge-0khYbiSAw"
      },
      "source": [
        "from keras.datasets import imdb\n",
        "from keras.preprocessing import sequence"
      ],
      "execution_count": 5,
      "outputs": []
    },
    {
      "cell_type": "code",
      "metadata": {
        "id": "TTDXBl7lii7p"
      },
      "source": [
        "max_features = 10000\n",
        "max_len = 500\n",
        "batch_size = 32"
      ],
      "execution_count": 6,
      "outputs": []
    },
    {
      "cell_type": "code",
      "metadata": {
        "colab": {
          "base_uri": "https://localhost:8080/"
        },
        "id": "HNw7rSDUi5ev",
        "outputId": "b95aad67-d3c3-40c6-c86a-daf803a2eed7"
      },
      "source": [
        "(train_data,train_label),(test_data,test_label) = imdb.load_data(num_words=max_features)\n"
      ],
      "execution_count": 7,
      "outputs": [
        {
          "output_type": "stream",
          "text": [
            "Downloading data from https://storage.googleapis.com/tensorflow/tf-keras-datasets/imdb.npz\n",
            "17465344/17464789 [==============================] - 0s 0us/step\n"
          ],
          "name": "stdout"
        },
        {
          "output_type": "stream",
          "text": [
            "<string>:6: VisibleDeprecationWarning: Creating an ndarray from ragged nested sequences (which is a list-or-tuple of lists-or-tuples-or ndarrays with different lengths or shapes) is deprecated. If you meant to do this, you must specify 'dtype=object' when creating the ndarray\n",
            "/usr/local/lib/python3.6/dist-packages/tensorflow/python/keras/datasets/imdb.py:159: VisibleDeprecationWarning: Creating an ndarray from ragged nested sequences (which is a list-or-tuple of lists-or-tuples-or ndarrays with different lengths or shapes) is deprecated. If you meant to do this, you must specify 'dtype=object' when creating the ndarray\n",
            "  x_train, y_train = np.array(xs[:idx]), np.array(labels[:idx])\n",
            "/usr/local/lib/python3.6/dist-packages/tensorflow/python/keras/datasets/imdb.py:160: VisibleDeprecationWarning: Creating an ndarray from ragged nested sequences (which is a list-or-tuple of lists-or-tuples-or ndarrays with different lengths or shapes) is deprecated. If you meant to do this, you must specify 'dtype=object' when creating the ndarray\n",
            "  x_test, y_test = np.array(xs[idx:]), np.array(labels[idx:])\n"
          ],
          "name": "stderr"
        }
      ]
    },
    {
      "cell_type": "code",
      "metadata": {
        "colab": {
          "base_uri": "https://localhost:8080/"
        },
        "id": "Pxc4QJq6jHy9",
        "outputId": "c87cfd9b-9a73-46e8-9e65-4038bf1f12a1"
      },
      "source": [
        "print(len(test_data),'Train Sequences',len(train_data),'Test Sequences')"
      ],
      "execution_count": 8,
      "outputs": [
        {
          "output_type": "stream",
          "text": [
            "25000 Train Sequences 25000 Test Sequences\n"
          ],
          "name": "stdout"
        }
      ]
    },
    {
      "cell_type": "code",
      "metadata": {
        "id": "D8cwxTF4jTtZ"
      },
      "source": [
        "train_data = sequence.pad_sequences(train_data,maxlen=max_len)\n",
        "test_data = sequence.pad_sequences(test_data,maxlen=max_len)"
      ],
      "execution_count": 9,
      "outputs": []
    },
    {
      "cell_type": "code",
      "metadata": {
        "id": "QZzOCIxUjtBp"
      },
      "source": [
        "from keras.models import Sequential"
      ],
      "execution_count": 10,
      "outputs": []
    },
    {
      "cell_type": "code",
      "metadata": {
        "id": "_uVZMPBlj796"
      },
      "source": [
        "from keras.layers import Embedding,SimpleRNN,Dense"
      ],
      "execution_count": 18,
      "outputs": []
    },
    {
      "cell_type": "code",
      "metadata": {
        "id": "Z3_Q7V71j_zJ"
      },
      "source": [
        "model = Sequential()"
      ],
      "execution_count": 12,
      "outputs": []
    },
    {
      "cell_type": "code",
      "metadata": {
        "id": "GJib27oBkCbU"
      },
      "source": [
        "model.add(Embedding(max_features,32))"
      ],
      "execution_count": 14,
      "outputs": []
    },
    {
      "cell_type": "code",
      "metadata": {
        "id": "ZgsF0ZfokIov"
      },
      "source": [
        "model.add(SimpleRNN(32))"
      ],
      "execution_count": 15,
      "outputs": []
    },
    {
      "cell_type": "code",
      "metadata": {
        "id": "gjV1COBWkRA1"
      },
      "source": [
        "model.add(Dense(1,activation='relu'))"
      ],
      "execution_count": 19,
      "outputs": []
    },
    {
      "cell_type": "code",
      "metadata": {
        "id": "rRTg7GTykU_d"
      },
      "source": [
        "model.compile(optimizer='rmsprop',loss='binary_crossentropy',metrics=['accuracy'])"
      ],
      "execution_count": 20,
      "outputs": []
    },
    {
      "cell_type": "code",
      "metadata": {
        "colab": {
          "base_uri": "https://localhost:8080/"
        },
        "id": "mPzETLGykmNZ",
        "outputId": "6c64049c-edf8-496b-f402-76d9e21e194d"
      },
      "source": [
        "history = model.fit(train_data,train_label,epochs=7,batch_size=128,validation_split=0.2)"
      ],
      "execution_count": 21,
      "outputs": [
        {
          "output_type": "stream",
          "text": [
            "Epoch 1/7\n",
            "157/157 [==============================] - 24s 143ms/step - loss: 3.3247 - accuracy: 0.5041 - val_loss: 0.6887 - val_accuracy: 0.5564\n",
            "Epoch 2/7\n",
            "157/157 [==============================] - 22s 140ms/step - loss: 0.5945 - accuracy: 0.6852 - val_loss: 0.7008 - val_accuracy: 0.6862\n",
            "Epoch 3/7\n",
            "157/157 [==============================] - 22s 140ms/step - loss: 0.3899 - accuracy: 0.8540 - val_loss: 1.1161 - val_accuracy: 0.7086\n",
            "Epoch 4/7\n",
            "157/157 [==============================] - 22s 140ms/step - loss: 0.2333 - accuracy: 0.9309 - val_loss: 1.0495 - val_accuracy: 0.7318\n",
            "Epoch 5/7\n",
            "157/157 [==============================] - 22s 138ms/step - loss: 0.2297 - accuracy: 0.9497 - val_loss: 1.0879 - val_accuracy: 0.7666\n",
            "Epoch 6/7\n",
            "157/157 [==============================] - 22s 137ms/step - loss: 0.0988 - accuracy: 0.9844 - val_loss: 1.4286 - val_accuracy: 0.7730\n",
            "Epoch 7/7\n",
            "157/157 [==============================] - 22s 137ms/step - loss: 0.0813 - accuracy: 0.9891 - val_loss: 1.6500 - val_accuracy: 0.7814\n"
          ],
          "name": "stdout"
        }
      ]
    },
    {
      "cell_type": "markdown",
      "metadata": {
        "id": "REI6k0w1l4uU"
      },
      "source": [
        "##Why not use SimpleRNN\n",
        "\n",
        "In practice, you’ll always use one of these, because SimpleRNN is generally too\n",
        "simplistic to be of real use. SimpleRNN has a major issue: although it should theoretically\n",
        "be able to retain at time t information about inputs seen many timesteps before, in\n",
        "practice, such long-term dependencies are impossible to learn. This is due to the van-\n",
        "ishing gradient problem, an effect that is similar to what is observed with non-recurrent\n",
        "networks (feedforward networks) that are many layers deep: as you keep adding layers\n",
        "to a network, the network eventually becomes untrainable. The theoretical reasons for\n",
        "this effect were studied by Hochreiter, Schmidhuber, and Bengio in the early 1990s. 2\n",
        "The LSTM and GRU layers are designed to solve this problem."
      ]
    }
  ]
}