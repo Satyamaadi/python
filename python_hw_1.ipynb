{
  "cells": [
    {
      "cell_type": "markdown",
      "metadata": {
        "id": "view-in-github",
        "colab_type": "text"
      },
      "source": [
        "<a href=\"https://colab.research.google.com/github/Satyamaadi/python/blob/master/python_hw_1.ipynb\" target=\"_parent\"><img src=\"https://colab.research.google.com/assets/colab-badge.svg\" alt=\"Open In Colab\"/></a>"
      ]
    },
    {
      "cell_type": "code",
      "source": [
        "l = \"central\""
      ],
      "metadata": {
        "id": "8wkVFHXJsN5N"
      },
      "execution_count": 1,
      "outputs": []
    },
    {
      "cell_type": "code",
      "source": [
        "print(l)"
      ],
      "metadata": {
        "id": "MJbp3LrNsTqL",
        "outputId": "8ed8ca95-f040-4d68-a54c-cc9c4f455c9e",
        "colab": {
          "base_uri": "https://localhost:8080/"
        }
      },
      "execution_count": 3,
      "outputs": [
        {
          "output_type": "stream",
          "name": "stdout",
          "text": [
            "central\n"
          ]
        }
      ]
    },
    {
      "cell_type": "code",
      "source": [
        "#slicing using 1 as step\n",
        "print(l[::1])"
      ],
      "metadata": {
        "id": "WyVtF4B8sV_y",
        "outputId": "0b158c4a-c9d2-4254-b32e-912f51b715b7",
        "colab": {
          "base_uri": "https://localhost:8080/"
        }
      },
      "execution_count": 4,
      "outputs": [
        {
          "output_type": "stream",
          "name": "stdout",
          "text": [
            "central\n"
          ]
        }
      ]
    },
    {
      "cell_type": "code",
      "source": [
        "#slicing using -1 as step\n",
        "print(l[::-1])"
      ],
      "metadata": {
        "id": "UBMsvZDTtYqx",
        "outputId": "d6497196-0b63-4655-8ccc-98789102bea0",
        "colab": {
          "base_uri": "https://localhost:8080/"
        }
      },
      "execution_count": 5,
      "outputs": [
        {
          "output_type": "stream",
          "name": "stdout",
          "text": [
            "lartnec\n"
          ]
        }
      ]
    },
    {
      "cell_type": "code",
      "source": [
        "#to show 0 is not taken by default ,if -1 \n",
        "#is uses as step\n",
        "\n",
        "print(l[0::-1])"
      ],
      "metadata": {
        "id": "Ow4hPyMrti6w",
        "outputId": "9b94e5e7-ebf7-4a4b-f5f6-46a78ebf383c",
        "colab": {
          "base_uri": "https://localhost:8080/"
        }
      },
      "execution_count": 6,
      "outputs": [
        {
          "output_type": "stream",
          "name": "stdout",
          "text": [
            "c\n"
          ]
        }
      ]
    },
    {
      "cell_type": "code",
      "source": [
        "#if we use len with -1,we get reverse\n",
        "\n",
        "print(l[len(l)::-1])"
      ],
      "metadata": {
        "id": "Knzfs7mit03y",
        "outputId": "37cedef7-8845-4569-faac-daed26924692",
        "colab": {
          "base_uri": "https://localhost:8080/"
        }
      },
      "execution_count": 8,
      "outputs": [
        {
          "output_type": "stream",
          "name": "stdout",
          "text": [
            "lartnec\n"
          ]
        }
      ]
    }
  ],
  "metadata": {
    "colab": {
      "collapsed_sections": [],
      "name": "Welcome to Colaboratory",
      "provenance": [],
      "include_colab_link": true
    },
    "kernelspec": {
      "display_name": "Python 3",
      "name": "python3"
    }
  },
  "nbformat": 4,
  "nbformat_minor": 0
}