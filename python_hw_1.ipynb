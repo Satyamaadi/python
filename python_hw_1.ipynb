{
  "cells": [
    {
      "cell_type": "markdown",
      "metadata": {
        "id": "view-in-github",
        "colab_type": "text"
      },
      "source": [
        "<a href=\"https://colab.research.google.com/github/Satyamaadi/python/blob/master/python_hw_1.ipynb\" target=\"_parent\"><img src=\"https://colab.research.google.com/assets/colab-badge.svg\" alt=\"Open In Colab\"/></a>"
      ]
    },
    {
      "cell_type": "code",
      "source": [
        "l = \"central\""
      ],
      "metadata": {
        "id": "8wkVFHXJsN5N"
      },
      "execution_count": 1,
      "outputs": []
    },
    {
      "cell_type": "code",
      "source": [
        "print(l)"
      ],
      "metadata": {
        "id": "MJbp3LrNsTqL",
        "outputId": "ef81947d-9d5c-4194-a1d5-fa340059bb33",
        "colab": {
          "base_uri": "https://localhost:8080/"
        }
      },
      "execution_count": 2,
      "outputs": [
        {
          "output_type": "stream",
          "name": "stdout",
          "text": [
            "central\n"
          ]
        }
      ]
    },
    {
      "cell_type": "code",
      "source": [
        "#slicing using 1 as step\n",
        "print(l[0::1])"
      ],
      "metadata": {
        "id": "WyVtF4B8sV_y",
        "outputId": "32767575-d0f4-44b4-abbe-f2dbd734dd7b",
        "colab": {
          "base_uri": "https://localhost:8080/"
        }
      },
      "execution_count": 3,
      "outputs": [
        {
          "output_type": "stream",
          "name": "stdout",
          "text": [
            "central\n"
          ]
        }
      ]
    },
    {
      "cell_type": "code",
      "source": [
        "#slicing using -1 as step\n",
        "print(l[::-1])"
      ],
      "metadata": {
        "id": "UBMsvZDTtYqx",
        "outputId": "4d74b52c-e17b-4023-d835-86d3b18f6fb9",
        "colab": {
          "base_uri": "https://localhost:8080/"
        }
      },
      "execution_count": 4,
      "outputs": [
        {
          "output_type": "stream",
          "name": "stdout",
          "text": [
            "lartnec\n"
          ]
        }
      ]
    },
    {
      "cell_type": "code",
      "source": [
        "#to show 0 is not taken by default ,if -1 \n",
        "#is uses as step\n",
        "\n",
        "print(l[0::-1])"
      ],
      "metadata": {
        "id": "Ow4hPyMrti6w",
        "outputId": "0a3dfb03-5e95-4820-fe71-356d8c534c6a",
        "colab": {
          "base_uri": "https://localhost:8080/"
        }
      },
      "execution_count": 5,
      "outputs": [
        {
          "output_type": "stream",
          "name": "stdout",
          "text": [
            "c\n"
          ]
        }
      ]
    },
    {
      "cell_type": "code",
      "source": [
        "#if we use len with -1,we get reverse\n",
        "\n",
        "print(l[len(l)::-1])"
      ],
      "metadata": {
        "id": "Knzfs7mit03y",
        "outputId": "d9b4b5d0-f205-4ca0-86b2-d9f373a09205",
        "colab": {
          "base_uri": "https://localhost:8080/"
        }
      },
      "execution_count": 6,
      "outputs": [
        {
          "output_type": "stream",
          "name": "stdout",
          "text": [
            "lartnec\n"
          ]
        }
      ]
    }
  ],
  "metadata": {
    "colab": {
      "collapsed_sections": [],
      "name": "Welcome to Colaboratory",
      "provenance": [],
      "include_colab_link": true
    },
    "kernelspec": {
      "display_name": "Python 3",
      "name": "python3"
    }
  },
  "nbformat": 4,
  "nbformat_minor": 0
}