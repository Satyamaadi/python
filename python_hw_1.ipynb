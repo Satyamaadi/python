{
  "cells": [
    {
      "cell_type": "markdown",
      "metadata": {
        "id": "view-in-github",
        "colab_type": "text"
      },
      "source": [
        "<a href=\"https://colab.research.google.com/github/Satyamaadi/python/blob/master/python_hw_1.ipynb\" target=\"_parent\"><img src=\"https://colab.research.google.com/assets/colab-badge.svg\" alt=\"Open In Colab\"/></a>"
      ]
    },
    {
      "cell_type": "code",
      "source": [
        "l = \"central\""
      ],
      "metadata": {
        "id": "8wkVFHXJsN5N"
      },
      "execution_count": null,
      "outputs": []
    },
    {
      "cell_type": "code",
      "source": [
        "print(l)"
      ],
      "metadata": {
        "id": "MJbp3LrNsTqL",
        "outputId": "ef81947d-9d5c-4194-a1d5-fa340059bb33",
        "colab": {
          "base_uri": "https://localhost:8080/"
        }
      },
      "execution_count": null,
      "outputs": [
        {
          "output_type": "stream",
          "name": "stdout",
          "text": [
            "central\n"
          ]
        }
      ]
    },
    {
      "cell_type": "code",
      "source": [
        "#slicing using 1 as step\n",
        "print(l[0::1])"
      ],
      "metadata": {
        "id": "WyVtF4B8sV_y",
        "outputId": "32767575-d0f4-44b4-abbe-f2dbd734dd7b",
        "colab": {
          "base_uri": "https://localhost:8080/"
        }
      },
      "execution_count": null,
      "outputs": [
        {
          "output_type": "stream",
          "name": "stdout",
          "text": [
            "central\n"
          ]
        }
      ]
    },
    {
      "cell_type": "code",
      "source": [
        "#slicing using -1 as step\n",
        "print(l[::-1])"
      ],
      "metadata": {
        "id": "UBMsvZDTtYqx",
        "outputId": "4d74b52c-e17b-4023-d835-86d3b18f6fb9",
        "colab": {
          "base_uri": "https://localhost:8080/"
        }
      },
      "execution_count": null,
      "outputs": [
        {
          "output_type": "stream",
          "name": "stdout",
          "text": [
            "lartnec\n"
          ]
        }
      ]
    },
    {
      "cell_type": "code",
      "source": [
        "#to show 0 is not taken by default ,if -1 \n",
        "#is uses as step\n",
        "\n",
        "print(l[0::-1])"
      ],
      "metadata": {
        "id": "Ow4hPyMrti6w",
        "outputId": "0a3dfb03-5e95-4820-fe71-356d8c534c6a",
        "colab": {
          "base_uri": "https://localhost:8080/"
        }
      },
      "execution_count": null,
      "outputs": [
        {
          "output_type": "stream",
          "name": "stdout",
          "text": [
            "c\n"
          ]
        }
      ]
    },
    {
      "cell_type": "code",
      "source": [
        "#if we use len with -1,we get reverse\n",
        "\n",
        "print(l[len(l)::-1])"
      ],
      "metadata": {
        "id": "Knzfs7mit03y",
        "outputId": "d9b4b5d0-f205-4ca0-86b2-d9f373a09205",
        "colab": {
          "base_uri": "https://localhost:8080/"
        }
      },
      "execution_count": null,
      "outputs": [
        {
          "output_type": "stream",
          "name": "stdout",
          "text": [
            "lartnec\n"
          ]
        }
      ]
    },
    {
      "cell_type": "markdown",
      "source": [
        "Assignment -2"
      ],
      "metadata": {
        "id": "zLlnTRtf9T1_"
      }
    },
    {
      "cell_type": "code",
      "source": [
        "path=['one.py','two.py','t1.txt','t2.txt','t3.txt','t4.txt~','t4.txt~','t5.txt~','three._py','four._py']"
      ],
      "metadata": {
        "id": "gBrVvjmONx6K"
      },
      "execution_count": null,
      "outputs": []
    },
    {
      "cell_type": "code",
      "source": [
        "path=['one.py','two.py','t1.txt','t2.txt','t3.txt','t4.txt~','t4.txt~','t5.txt~','three._py','four._py']\n",
        "l=[]\n",
        "py ,txt = 0,0\n",
        "for i in path:\n",
        "  l.append(i.split('.'))\n",
        "for i in l:\n",
        "  i[1] = i[1].strip('_ ~')\n",
        "  if i[1] == 'py':\n",
        "    py+=1\n",
        "  if i[1] == 'txt':\n",
        "    txt+=1 \n",
        "print(\"Python files:\",py,\"Text files:\" , txt)    \n",
        "\n"
      ],
      "metadata": {
        "id": "nbWdPE-9N5hy",
        "outputId": "53b0eb53-a9e9-48f4-9e9c-02d30b07a607",
        "colab": {
          "base_uri": "https://localhost:8080/"
        }
      },
      "execution_count": null,
      "outputs": [
        {
          "output_type": "stream",
          "name": "stdout",
          "text": [
            "Python files: 4 Text files: 6\n"
          ]
        }
      ]
    },
    {
      "cell_type": "markdown",
      "source": [
        "Assignment-3"
      ],
      "metadata": {
        "id": "Aa2bD1zP9Wtx"
      }
    },
    {
      "cell_type": "code",
      "source": [
        "x='/home/Desktop/temp.txt.csv'\n",
        "y='/home/Desktop/temp.temp.txt'\n",
        "\n",
        "fname1 = x.split('/')\n",
        "print(fname1[3])\n",
        "fname2 = y.split('/')\n",
        "print(fname2[3])\n",
        "print('Both files have same name: ',fname1[3].split('.')[0] == fname2[3].split('.')[0])\n",
        "print('Both files have same extension: ',fname1[3].split('.')[2] == fname2[3].split('.')[2])"
      ],
      "metadata": {
        "id": "P-R8FBht7xgn",
        "outputId": "b036751e-3904-47a3-ff4c-0bbd1e78828b",
        "colab": {
          "base_uri": "https://localhost:8080/"
        }
      },
      "execution_count": 12,
      "outputs": [
        {
          "output_type": "stream",
          "name": "stdout",
          "text": [
            "temp.txt.csv\n",
            "temp.temp.txt\n",
            "Both files have same name:  True\n",
            "Both files have same extension:  False\n"
          ]
        }
      ]
    }
  ],
  "metadata": {
    "colab": {
      "collapsed_sections": [],
      "name": "Welcome to Colaboratory",
      "provenance": [],
      "include_colab_link": true
    },
    "kernelspec": {
      "display_name": "Python 3",
      "name": "python3"
    }
  },
  "nbformat": 4,
  "nbformat_minor": 0
}