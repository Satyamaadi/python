{
  "cells": [
    {
      "cell_type": "markdown",
      "metadata": {
        "id": "view-in-github",
        "colab_type": "text"
      },
      "source": [
        "<a href=\"https://colab.research.google.com/github/Satyamaadi/python/blob/master/python_hw_1.ipynb\" target=\"_parent\"><img src=\"https://colab.research.google.com/assets/colab-badge.svg\" alt=\"Open In Colab\"/></a>"
      ]
    },
    {
      "cell_type": "code",
      "source": [
        "l = \"central\""
      ],
      "metadata": {
        "id": "8wkVFHXJsN5N"
      },
      "execution_count": null,
      "outputs": []
    },
    {
      "cell_type": "code",
      "source": [
        "print(l)"
      ],
      "metadata": {
        "id": "MJbp3LrNsTqL",
        "outputId": "ef81947d-9d5c-4194-a1d5-fa340059bb33",
        "colab": {
          "base_uri": "https://localhost:8080/"
        }
      },
      "execution_count": null,
      "outputs": [
        {
          "output_type": "stream",
          "name": "stdout",
          "text": [
            "central\n"
          ]
        }
      ]
    },
    {
      "cell_type": "code",
      "source": [
        "#slicing using 1 as step\n",
        "print(l[0::1])"
      ],
      "metadata": {
        "id": "WyVtF4B8sV_y",
        "outputId": "32767575-d0f4-44b4-abbe-f2dbd734dd7b",
        "colab": {
          "base_uri": "https://localhost:8080/"
        }
      },
      "execution_count": null,
      "outputs": [
        {
          "output_type": "stream",
          "name": "stdout",
          "text": [
            "central\n"
          ]
        }
      ]
    },
    {
      "cell_type": "code",
      "source": [
        "#slicing using -1 as step\n",
        "print(l[::-1])"
      ],
      "metadata": {
        "id": "UBMsvZDTtYqx",
        "outputId": "4d74b52c-e17b-4023-d835-86d3b18f6fb9",
        "colab": {
          "base_uri": "https://localhost:8080/"
        }
      },
      "execution_count": null,
      "outputs": [
        {
          "output_type": "stream",
          "name": "stdout",
          "text": [
            "lartnec\n"
          ]
        }
      ]
    },
    {
      "cell_type": "code",
      "source": [
        "#to show 0 is not taken by default ,if -1 \n",
        "#is uses as step\n",
        "\n",
        "print(l[0::-1])"
      ],
      "metadata": {
        "id": "Ow4hPyMrti6w",
        "outputId": "0a3dfb03-5e95-4820-fe71-356d8c534c6a",
        "colab": {
          "base_uri": "https://localhost:8080/"
        }
      },
      "execution_count": null,
      "outputs": [
        {
          "output_type": "stream",
          "name": "stdout",
          "text": [
            "c\n"
          ]
        }
      ]
    },
    {
      "cell_type": "code",
      "source": [
        "#if we use len with -1,we get reverse\n",
        "\n",
        "print(l[len(l)::-1])"
      ],
      "metadata": {
        "id": "Knzfs7mit03y",
        "outputId": "d9b4b5d0-f205-4ca0-86b2-d9f373a09205",
        "colab": {
          "base_uri": "https://localhost:8080/"
        }
      },
      "execution_count": null,
      "outputs": [
        {
          "output_type": "stream",
          "name": "stdout",
          "text": [
            "lartnec\n"
          ]
        }
      ]
    },
    {
      "cell_type": "markdown",
      "source": [
        "Assignment -2"
      ],
      "metadata": {
        "id": "zLlnTRtf9T1_"
      }
    },
    {
      "cell_type": "code",
      "source": [
        "path=['one.py','two.py','t1.txt','t2.txt','t3.txt','t4.txt~','t4.txt~','t5.txt~','three._py','four._py']"
      ],
      "metadata": {
        "id": "gBrVvjmONx6K"
      },
      "execution_count": null,
      "outputs": []
    },
    {
      "cell_type": "code",
      "source": [
        "path=['one.py','two.py','t1.txt','t2.txt','t3.txt','t4.txt~','t4.txt~','t5.txt~','three._py','four._py']\n",
        "l=[]\n",
        "py ,txt = 0,0\n",
        "for i in path:\n",
        "  l.append(i.split('.'))\n",
        "for i in l:\n",
        "  i[1] = i[1].strip('_ ~')\n",
        "  if i[1] == 'py':\n",
        "    py+=1\n",
        "  if i[1] == 'txt':\n",
        "    txt+=1 \n",
        "print(\"Python files:\",py,\"Text files:\" , txt)    \n",
        "\n"
      ],
      "metadata": {
        "id": "nbWdPE-9N5hy",
        "outputId": "53b0eb53-a9e9-48f4-9e9c-02d30b07a607",
        "colab": {
          "base_uri": "https://localhost:8080/"
        }
      },
      "execution_count": null,
      "outputs": [
        {
          "output_type": "stream",
          "name": "stdout",
          "text": [
            "Python files: 4 Text files: 6\n"
          ]
        }
      ]
    },
    {
      "cell_type": "markdown",
      "source": [
        "Assignment-3"
      ],
      "metadata": {
        "id": "Aa2bD1zP9Wtx"
      }
    },
    {
      "cell_type": "code",
      "source": [
        "x='/home/Desktop/temp.txt.csv'\n",
        "y='/home/Desktop/temp.temp.txt'\n",
        "\n",
        "fname1 = x.split('/')\n",
        "print(fname1[3])\n",
        "fname2 = y.split('/')\n",
        "print(fname2[3])\n",
        "print('Both files have same name: ',fname1[3].split('.')[0] == fname2[3].split('.')[0])\n",
        "print('Both files have same extension: ',fname1[3].split('.')[2] == fname2[3].split('.')[2])"
      ],
      "metadata": {
        "id": "P-R8FBht7xgn",
        "outputId": "b036751e-3904-47a3-ff4c-0bbd1e78828b",
        "colab": {
          "base_uri": "https://localhost:8080/"
        }
      },
      "execution_count": null,
      "outputs": [
        {
          "output_type": "stream",
          "name": "stdout",
          "text": [
            "temp.txt.csv\n",
            "temp.temp.txt\n",
            "Both files have same name:  True\n",
            "Both files have same extension:  False\n"
          ]
        }
      ]
    },
    {
      "cell_type": "code",
      "source": [
        "lsit1 = [\"Hello\", \"Hi\", 10, 20, 30,  \"Hi\", 20, 30]"
      ],
      "metadata": {
        "id": "bUuoOc0-_352"
      },
      "execution_count": 1,
      "outputs": []
    },
    {
      "cell_type": "code",
      "source": [
        "for i in lsit1:\n",
        "  if lsit1.count(i) >1:\n",
        "    print(i,'index at: ',lsit1.index(i))"
      ],
      "metadata": {
        "id": "jyKRcciU_7qi",
        "outputId": "344ec0f2-e57e-4378-aeef-16ab03d7c27e",
        "colab": {
          "base_uri": "https://localhost:8080/"
        }
      },
      "execution_count": 2,
      "outputs": [
        {
          "output_type": "stream",
          "name": "stdout",
          "text": [
            "Hi index at:  1\n",
            "20 index at:  3\n",
            "30 index at:  4\n",
            "Hi index at:  1\n",
            "20 index at:  3\n",
            "30 index at:  4\n"
          ]
        }
      ]
    },
    {
      "cell_type": "code",
      "source": [
        "ls = set(lsit1)"
      ],
      "metadata": {
        "id": "N6EU3Uh9GG55"
      },
      "execution_count": 3,
      "outputs": []
    },
    {
      "cell_type": "code",
      "source": [
        "def count_prv(ls,v):\n",
        "  return ls.count(v)"
      ],
      "metadata": {
        "id": "qDFQb_kH59o_"
      },
      "execution_count": 10,
      "outputs": []
    },
    {
      "cell_type": "code",
      "source": [
        "count_prv(['Hi'],['Hi'])"
      ],
      "metadata": {
        "id": "kfSzqo_g8Ujf",
        "outputId": "bd49bd10-5789-4d9f-9996-25db1fb15e83",
        "colab": {
          "base_uri": "https://localhost:8080/"
        }
      },
      "execution_count": 18,
      "outputs": [
        {
          "output_type": "execute_result",
          "data": {
            "text/plain": [
              "0"
            ]
          },
          "metadata": {},
          "execution_count": 18
        }
      ]
    },
    {
      "cell_type": "code",
      "source": [
        "list(enumerate(lsit1))"
      ],
      "metadata": {
        "id": "vIal2k8REIXR",
        "outputId": "60dd8505-100f-41f5-93d7-a03d4320b97c",
        "colab": {
          "base_uri": "https://localhost:8080/"
        }
      },
      "execution_count": 25,
      "outputs": [
        {
          "output_type": "execute_result",
          "data": {
            "text/plain": [
              "[(0, 'Hello'),\n",
              " (1, 'Hi'),\n",
              " (2, 10),\n",
              " (3, 20),\n",
              " (4, 30),\n",
              " (5, 'Hi'),\n",
              " (6, 20),\n",
              " (7, 30)]"
            ]
          },
          "metadata": {},
          "execution_count": 25
        }
      ]
    },
    {
      "cell_type": "code",
      "source": [
        "list(filter(lambda x : lsit1.count(x)>1,lsit1))"
      ],
      "metadata": {
        "id": "T4dJvKabHeEu",
        "outputId": "d9e3d812-7b65-47d9-de55-bfcf5fe42045",
        "colab": {
          "base_uri": "https://localhost:8080/"
        }
      },
      "execution_count": 36,
      "outputs": [
        {
          "output_type": "execute_result",
          "data": {
            "text/plain": [
              "['Hi', 20, 30, 'Hi', 20, 30]"
            ]
          },
          "metadata": {},
          "execution_count": 36
        }
      ]
    },
    {
      "cell_type": "code",
      "source": [
        "lsit1 = [\"Hello\", \"Hi\", 10, 20, 30,  \"Hi\", 20, 30]"
      ],
      "metadata": {
        "id": "y92CzuEEKKzS"
      },
      "execution_count": 51,
      "outputs": []
    },
    {
      "cell_type": "code",
      "source": [
        "list(filter(lambda x : lsit1.count(x)>1,lsit1))"
      ],
      "metadata": {
        "id": "Yp_L6xBYKLWK",
        "outputId": "1137ed45-e419-444a-e98c-1c967e68c237",
        "colab": {
          "base_uri": "https://localhost:8080/"
        }
      },
      "execution_count": 52,
      "outputs": [
        {
          "output_type": "execute_result",
          "data": {
            "text/plain": [
              "['Hi', 20, 30, 'Hi', 20, 30]"
            ]
          },
          "metadata": {},
          "execution_count": 52
        }
      ]
    },
    {
      "cell_type": "code",
      "source": [
        "cp = lsit1"
      ],
      "metadata": {
        "id": "-FTTiqAIK5_G"
      },
      "execution_count": 53,
      "outputs": []
    },
    {
      "cell_type": "code",
      "source": [
        "[str(x) for x in cp ].sort()\n",
        "cp"
      ],
      "metadata": {
        "id": "zv3O-QcNDxFl",
        "outputId": "136e8387-3caa-4067-941b-da38427019db",
        "colab": {
          "base_uri": "https://localhost:8080/"
        }
      },
      "execution_count": 54,
      "outputs": [
        {
          "output_type": "execute_result",
          "data": {
            "text/plain": [
              "['Hello', 'Hi', 10, 20, 30, 'Hi', 20, 30]"
            ]
          },
          "metadata": {},
          "execution_count": 54
        }
      ]
    }
  ],
  "metadata": {
    "colab": {
      "collapsed_sections": [],
      "name": "Welcome to Colaboratory",
      "provenance": [],
      "include_colab_link": true
    },
    "kernelspec": {
      "display_name": "Python 3",
      "name": "python3"
    }
  },
  "nbformat": 4,
  "nbformat_minor": 0
}