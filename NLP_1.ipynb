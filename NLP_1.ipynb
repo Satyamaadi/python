{
  "nbformat": 4,
  "nbformat_minor": 0,
  "metadata": {
    "colab": {
      "name": "NLP_1.ipynb",
      "provenance": [],
      "collapsed_sections": [],
      "authorship_tag": "ABX9TyM+9zOiDVidCpwS2z5AMnfE",
      "include_colab_link": true
    },
    "kernelspec": {
      "name": "python3",
      "display_name": "Python 3"
    }
  },
  "cells": [
    {
      "cell_type": "markdown",
      "metadata": {
        "id": "view-in-github",
        "colab_type": "text"
      },
      "source": [
        "<a href=\"https://colab.research.google.com/github/Satyamaadi/python/blob/master/NLP_1.ipynb\" target=\"_parent\"><img src=\"https://colab.research.google.com/assets/colab-badge.svg\" alt=\"Open In Colab\"/></a>"
      ]
    },
    {
      "cell_type": "code",
      "metadata": {
        "id": "WV_cEHadUg_-"
      },
      "source": [
        "from pprint import pprint\n",
        "from bs4 import BeautifulSoup\n",
        "from urllib.request import urlopen"
      ],
      "execution_count": 1,
      "outputs": []
    },
    {
      "cell_type": "code",
      "metadata": {
        "id": "235V_H-LUz9s"
      },
      "source": [
        "URL = 'https://www.google.com'"
      ],
      "execution_count": 4,
      "outputs": []
    },
    {
      "cell_type": "code",
      "metadata": {
        "id": "dh7Ak22oVEGI"
      },
      "source": [
        "html = urlopen(URL).read()"
      ],
      "execution_count": 5,
      "outputs": []
    },
    {
      "cell_type": "code",
      "metadata": {
        "id": "K-Lm3_PYVJYO"
      },
      "source": [
        "soupified = BeautifulSoup(html,'html.parser')"
      ],
      "execution_count": 7,
      "outputs": []
    },
    {
      "cell_type": "code",
      "metadata": {
        "colab": {
          "base_uri": "https://localhost:8080/"
        },
        "id": "eASOrIBzVWog",
        "outputId": "d62c28f4-c084-44b4-e8d1-22fc80813d46"
      },
      "source": [
        "pprint(soupified.prettify())"
      ],
      "execution_count": 8,
      "outputs": [
        {
          "output_type": "stream",
          "text": [
            "('<!DOCTYPE doctype html>\\n'\n",
            " '<html itemscope=\"\" itemtype=\"http://schema.org/WebPage\" lang=\"en\">\\n'\n",
            " ' <head>\\n'\n",
            " '  <meta content=\"Search the world\\'s information, including webpages, '\n",
            " 'images, videos and more. Google has many special features to help you find '\n",
            " 'exactly what you\\'re looking for.\" name=\"description\"/>\\n'\n",
            " '  <meta content=\"noodp\" name=\"robots\"/>\\n'\n",
            " '  <meta content=\"text/html; charset=utf-8\" http-equiv=\"Content-Type\"/>\\n'\n",
            " '  <meta '\n",
            " 'content=\"/images/branding/googleg/1x/googleg_standard_color_128dp.png\" '\n",
            " 'itemprop=\"image\"/>\\n'\n",
            " '  <title>\\n'\n",
            " '   Google\\n'\n",
            " '  </title>\\n'\n",
            " '  <script nonce=\"7QMeH4LDGdY6Nt2rN3YrNA==\">\\n'\n",
            " '   '\n",
            " \"(function(){window.google={kEI:'AyIiYKbBPJPbkwWvtZaABg',kEXPI:'0,1302429,56980,954,3110,1994,207,3204,10,1590,2316,383,246,5,1354,1300,3114,3,519,314,6,2336,3179,7,1116988,1233,1196560,489,316778,12207,51223,16115,28684,9188,8384,4859,1361,9290,3026,4742,12841,4020,978,13228,2054,920,873,10622,1142,13386,4517,2777,919,2278,7,2796,1593,1279,2212,530,149,1103,840,517,1466,56,157,4101,108,204,1135,1,3,2063,606,2023,1777,520,4176,93,328,1284,2943,5846,3227,1989,856,7,5599,6755,5096,7540,336,4929,108,1483,1924,908,2,941,2614,2397,10313,432,3,1546,44,1,820,1,4624,148,5990,5333,2652,4,498,1030,2304,1236,1145,4658,74,1717,266,2627,459,1555,4067,1035,4599,1426,374,340,3484,1297,1753,2658,491,4270,912,564,213,906,31,1173,130,2551,24,2998,211,1042,3284,2,2213,2305,638,37,1457,605,2,4659,320,2361,55,7349,28,11,731,665,324,1821,1520,2141,2551,479,142,370,1,1961,778,363,17,3121,6,155,753,3,163,3378,1,5349,636,92,922,613,865,817,360,291,500,1008,489,321,1,2446,1,18,1168,665,245,38,351,1,2,2,315,263,3374,1941,617,1260,89,148,299,1,657,2,60,377,9,628,179,362,4,575,1124,298,355,327,402,30,2858,665,46,77,138,367,890,5,70,34,190,2,337,220,5,113,213,506,178,230,173,175,71,688,10,1,7,1,25,445,264,80,1,1,3,108,175,170,654,684,1416,74,576,1367,488,17,1263,5696437,3870,35,63,38,8797910,549,333,444,1,2,80,1,900,896,1,9,2,2551,1,748,200,736,4,559,1,4265,1,1,2,1331,3299,248,595,1,2608,155,17,13,19,53,37,1,10,4,15,25,46,23957257,2773820,10172,1227367',kBL:'Zsxy'};google.sn='webhp';google.kHL='en';})();(function(){\\n\"\n",
            " 'google.lc=[];google.li=0;google.getEI=function(a){for(var '\n",
            " 'b;a&&(!a.getAttribute||!(b=a.getAttribute(\"eid\")));)a=a.parentNode;return '\n",
            " 'b||google.kEI};google.getLEI=function(a){for(var '\n",
            " 'b=null;a&&(!a.getAttribute||!(b=a.getAttribute(\"leid\")));)a=a.parentNode;return '\n",
            " 'b};google.ml=function(){return null};google.time=function(){return '\n",
            " 'Date.now()};google.log=function(a,b,c,d,f){if(c=google.logUrl(a,b,c,d,f)){a=new '\n",
            " 'Image;var '\n",
            " 'e=google.lc,g=google.li;e[g]=a;a.onerror=a.onload=a.onabort=function(){delete '\n",
            " 'e[g]};a.src=c;google.li=g+1}};google.logUrl=function(a,b,c,d,f){var '\n",
            " 'e=\"\";c||-1!=b.search(\"&ei=\")||(e=\"&ei=\"+google.getEI(d),-1==b.search(\"&lei=\")&&(d=google.getLEI(d))&&(e+=\"&lei=\"+d));d=\"\";!c&&window._cshid&&-1==b.search(\"&cshid=\")&&\"slh\"!=a&&(d=\"&cshid=\"+window._cshid);c=c||\"/\"+(f||\"gen_204\")+\"?atyp=i&ct=\"+a+\"&cad=\"+b+e+\"&zx=\"+Date.now()+d;/^http:/i.test(c)&&\"https:\"==window.location.protocol&&(google.ml(Error(\"a\"),!1,{src:c,glmm:1}),c=\"\");return '\n",
            " 'c};}).call(this);(function(){google.y={};google.x=function(a,b){if(a)var '\n",
            " 'c=a.id;else{do '\n",
            " 'c=Math.random();while(google.y[c])}google.y[c]=[a,b];return!1};google.lm=[];google.plm=function(a){google.lm.push.apply(google.lm,a)};google.lq=[];google.load=function(a,b,c){google.lq.push([[a],b,c])};google.loadAll=function(a,b){google.lq.push([a,b])};google.bx=!1;google.lx=function(){};}).call(this);google.f={};(function(){\\n'\n",
            " 'document.documentElement.addEventListener(\"submit\",function(b){var '\n",
            " 'a;if(a=b.target){var '\n",
            " 'c=a.getAttribute(\"data-submitfalse\");a=\"1\"==c||\"q\"==c&&!a.elements.q.value?!0:!1}else '\n",
            " 'a=!1;a&&(b.preventDefault(),b.stopPropagation())},!0);document.documentElement.addEventListener(\"click\",function(b){var '\n",
            " 'a;a:{for(a=b.target;a&&a!=document.documentElement;a=a.parentElement)if(\"A\"==a.tagName){a=\"1\"==a.getAttribute(\"data-nohref\");break '\n",
            " 'a}a=!1}a&&b.preventDefault()},!0);}).call(this);\\n'\n",
            " 'var a=window.location,b=a.href.indexOf(\"#\");if(0<=b){var '\n",
            " 'c=a.href.substring(b+1);/(^|&)q=/.test(c)&&-1==c.indexOf(\"#\")&&a.replace(\"/search?\"+c.replace(/(^|&)fp=[^&]*/g,\"\")+\"&cad=h\")};\\n'\n",
            " '  </script>\\n'\n",
            " '  <style>\\n'\n",
            " '   #gbar,#guser{font-size:13px;padding-top:1px '\n",
            " '!important;}#gbar{height:22px}#guser{padding-bottom:7px '\n",
            " '!important;text-align:right}.gbh,.gbd{border-top:1px solid '\n",
            " '#c9d7f1;font-size:1px}.gbh{height:0;position:absolute;top:24px;width:100%}@media '\n",
            " 'all{.gb1{height:22px;margin-right:.5em;vertical-align:top}#gbar{float:left}}a.gb1,a.gb4{text-decoration:underline '\n",
            " '!important}a.gb1,a.gb4{color:#00c !important}.gbi .gb4{color:#dd8e27 '\n",
            " '!important}.gbf .gb4{color:#900 !important}\\n'\n",
            " '  </style>\\n'\n",
            " '  <style>\\n'\n",
            " '   '\n",
            " 'body,td,a,p,.h{font-family:arial,sans-serif}body{margin:0;overflow-y:scroll}#gog{padding:3px '\n",
            " '8px 0}td{line-height:.8em}.gac_m '\n",
            " 'td{line-height:17px}form{margin-bottom:20px}.h{color:#1558d6}em{font-weight:bold;font-style:normal}.lst{height:25px;width:496px}.gsfi,.lst{font:18px '\n",
            " 'arial,sans-serif}.gsfs{font:17px '\n",
            " 'arial,sans-serif}.ds{display:inline-box;display:inline-block;margin:3px 0 '\n",
            " '4px;margin-left:4px}input{font-family:inherit}body{background:#fff;color:#000}a{color:#4b11a8;text-decoration:none}a:hover,a:active{text-decoration:underline}.fl '\n",
            " 'a{color:#1558d6}a:visited{color:#4b11a8}.sblc{padding-top:5px}.sblc '\n",
            " 'a{display:block;margin:2px '\n",
            " '0;margin-left:13px;font-size:11px}.lsbb{background:#f8f9fa;border:solid '\n",
            " '1px;border-color:#dadce0 #70757a #70757a '\n",
            " '#dadce0;height:30px}.lsbb{display:block}#WqQANb '\n",
            " 'a{display:inline-block;margin:0 '\n",
            " '12px}.lsb{background:url(/images/nav_logo229.png) 0 -261px '\n",
            " 'repeat-x;border:none;color:#000;cursor:pointer;height:30px;margin:0;outline:0;font:15px '\n",
            " 'arial,sans-serif;vertical-align:top}.lsb:active{background:#dadce0}.lst:focus{outline:none}\\n'\n",
            " '  </style>\\n'\n",
            " '  <script nonce=\"7QMeH4LDGdY6Nt2rN3YrNA==\">\\n'\n",
            " '  </script>\\n'\n",
            " ' </head>\\n'\n",
            " ' <body bgcolor=\"#fff\">\\n'\n",
            " '  <script nonce=\"7QMeH4LDGdY6Nt2rN3YrNA==\">\\n'\n",
            " \"   (function(){var src='/images/nav_logo229.png';var \"\n",
            " 'iesg=false;document.body.onload = function(){window.n && window.n();if '\n",
            " '(document.images){new Image().src=src;}\\n'\n",
            " 'if '\n",
            " '(!iesg){document.f&&document.f.q.focus();document.gbqf&&document.gbqf.q.focus();}\\n'\n",
            " '}\\n'\n",
            " '})();\\n'\n",
            " '  </script>\\n'\n",
            " '  <div id=\"mngb\">\\n'\n",
            " '   <div id=\"gbar\">\\n'\n",
            " '    <nobr>\\n'\n",
            " '     <b class=\"gb1\">\\n'\n",
            " '      Search\\n'\n",
            " '     </b>\\n'\n",
            " '     <a class=\"gb1\" href=\"https://www.google.com/imghp?hl=en&amp;tab=wi\">\\n'\n",
            " '      Images\\n'\n",
            " '     </a>\\n'\n",
            " '     <a class=\"gb1\" href=\"https://maps.google.com/maps?hl=en&amp;tab=wl\">\\n'\n",
            " '      Maps\\n'\n",
            " '     </a>\\n'\n",
            " '     <a class=\"gb1\" href=\"https://play.google.com/?hl=en&amp;tab=w8\">\\n'\n",
            " '      Play\\n'\n",
            " '     </a>\\n'\n",
            " '     <a class=\"gb1\" href=\"https://www.youtube.com/?gl=US&amp;tab=w1\">\\n'\n",
            " '      YouTube\\n'\n",
            " '     </a>\\n'\n",
            " '     <a class=\"gb1\" href=\"https://news.google.com/?tab=wn\">\\n'\n",
            " '      News\\n'\n",
            " '     </a>\\n'\n",
            " '     <a class=\"gb1\" href=\"https://mail.google.com/mail/?tab=wm\">\\n'\n",
            " '      Gmail\\n'\n",
            " '     </a>\\n'\n",
            " '     <a class=\"gb1\" href=\"https://drive.google.com/?tab=wo\">\\n'\n",
            " '      Drive\\n'\n",
            " '     </a>\\n'\n",
            " '     <a class=\"gb1\" '\n",
            " 'href=\"https://www.google.com/intl/en/about/products?tab=wh\" '\n",
            " 'style=\"text-decoration:none\">\\n'\n",
            " '      <u>\\n'\n",
            " '       More\\n'\n",
            " '      </u>\\n'\n",
            " '      »\\n'\n",
            " '     </a>\\n'\n",
            " '    </nobr>\\n'\n",
            " '   </div>\\n'\n",
            " '   <div id=\"guser\" width=\"100%\">\\n'\n",
            " '    <nobr>\\n'\n",
            " '     <span class=\"gbi\" id=\"gbn\">\\n'\n",
            " '     </span>\\n'\n",
            " '     <span class=\"gbf\" id=\"gbf\">\\n'\n",
            " '     </span>\\n'\n",
            " '     <span id=\"gbe\">\\n'\n",
            " '     </span>\\n'\n",
            " '     <a class=\"gb4\" href=\"http://www.google.com/history/optout?hl=en\">\\n'\n",
            " '      Web History\\n'\n",
            " '     </a>\\n'\n",
            " '     |\\n'\n",
            " '     <a class=\"gb4\" href=\"/preferences?hl=en\">\\n'\n",
            " '      Settings\\n'\n",
            " '     </a>\\n'\n",
            " '     |\\n'\n",
            " '     <a class=\"gb4\" '\n",
            " 'href=\"https://accounts.google.com/ServiceLogin?hl=en&amp;passive=true&amp;continue=https://www.google.com/&amp;ec=GAZAAQ\" '\n",
            " 'id=\"gb_70\" target=\"_top\">\\n'\n",
            " '      Sign in\\n'\n",
            " '     </a>\\n'\n",
            " '    </nobr>\\n'\n",
            " '   </div>\\n'\n",
            " '   <div class=\"gbh\" style=\"left:0\">\\n'\n",
            " '   </div>\\n'\n",
            " '   <div class=\"gbh\" style=\"right:0\">\\n'\n",
            " '   </div>\\n'\n",
            " '  </div>\\n'\n",
            " '  <center>\\n'\n",
            " '   <br clear=\"all\" id=\"lgpd\"/>\\n'\n",
            " '   <div id=\"lga\">\\n'\n",
            " '    <img alt=\"Google\" height=\"92\" id=\"hplogo\" '\n",
            " 'src=\"/images/branding/googlelogo/1x/googlelogo_white_background_color_272x92dp.png\" '\n",
            " 'style=\"padding:28px 0 14px\" width=\"272\"/>\\n'\n",
            " '    <br/>\\n'\n",
            " '    <br/>\\n'\n",
            " '   </div>\\n'\n",
            " '   <form action=\"/search\" name=\"f\">\\n'\n",
            " '    <table cellpadding=\"0\" cellspacing=\"0\">\\n'\n",
            " '     <tr valign=\"top\">\\n'\n",
            " '      <td width=\"25%\">\\n'\n",
            " '      </td>\\n'\n",
            " '      <td align=\"center\" nowrap=\"\">\\n'\n",
            " '       <input name=\"ie\" type=\"hidden\" value=\"ISO-8859-1\"/>\\n'\n",
            " '       <input name=\"hl\" type=\"hidden\" value=\"en\"/>\\n'\n",
            " '       <input name=\"source\" type=\"hidden\" value=\"hp\"/>\\n'\n",
            " '       <input name=\"biw\" type=\"hidden\"/>\\n'\n",
            " '       <input name=\"bih\" type=\"hidden\"/>\\n'\n",
            " '       <div class=\"ds\" style=\"height:32px;margin:4px 0\">\\n'\n",
            " '        <input autocomplete=\"off\" class=\"lst\" maxlength=\"2048\" name=\"q\" '\n",
            " 'size=\"57\" style=\"margin:0;padding:5px 8px 0 '\n",
            " '6px;vertical-align:top;color:#000\" title=\"Google Search\" value=\"\"/>\\n'\n",
            " '       </div>\\n'\n",
            " '       <br style=\"line-height:0\"/>\\n'\n",
            " '       <span class=\"ds\">\\n'\n",
            " '        <span class=\"lsbb\">\\n'\n",
            " '         <input class=\"lsb\" name=\"btnG\" type=\"submit\" value=\"Google '\n",
            " 'Search\"/>\\n'\n",
            " '        </span>\\n'\n",
            " '       </span>\\n'\n",
            " '       <span class=\"ds\">\\n'\n",
            " '        <span class=\"lsbb\">\\n'\n",
            " '         <input class=\"lsb\" id=\"tsuid1\" name=\"btnI\" type=\"submit\" '\n",
            " 'value=\"I\\'m Feeling Lucky\"/>\\n'\n",
            " '         <script nonce=\"7QMeH4LDGdY6Nt2rN3YrNA==\">\\n'\n",
            " \"          (function(){var id='tsuid1';document.getElementById(id).onclick = \"\n",
            " 'function(){if (this.form.q.value){this.checked = 1;if '\n",
            " '(this.form.iflsig)this.form.iflsig.disabled = false;}\\n'\n",
            " \"else top.location='/doodles/';};})();\\n\"\n",
            " '         </script>\\n'\n",
            " '         <input name=\"iflsig\" type=\"hidden\" '\n",
            " 'value=\"AINFCbYAAAAAYCIwFFnGszKUyjE2B-6ZoanT3CbSG4pf\"/>\\n'\n",
            " '        </span>\\n'\n",
            " '       </span>\\n'\n",
            " '      </td>\\n'\n",
            " '      <td align=\"left\" class=\"fl sblc\" nowrap=\"\" width=\"25%\">\\n'\n",
            " '       <a href=\"/advanced_search?hl=en&amp;authuser=0\">\\n'\n",
            " '        Advanced search\\n'\n",
            " '       </a>\\n'\n",
            " '      </td>\\n'\n",
            " '     </tr>\\n'\n",
            " '    </table>\\n'\n",
            " '    <input id=\"gbv\" name=\"gbv\" type=\"hidden\" value=\"1\"/>\\n'\n",
            " '    <script nonce=\"7QMeH4LDGdY6Nt2rN3YrNA==\">\\n'\n",
            " '     (function(){var '\n",
            " 'a,b=\"1\";if(document&&document.getElementById)if(\"undefined\"!=typeof '\n",
            " 'XMLHttpRequest)b=\"2\";else if(\"undefined\"!=typeof ActiveXObject){var '\n",
            " 'c,d,e=[\"MSXML2.XMLHTTP.6.0\",\"MSXML2.XMLHTTP.3.0\",\"MSXML2.XMLHTTP\",\"Microsoft.XMLHTTP\"];for(c=0;d=e[c++];)try{new '\n",
            " 'ActiveXObject(d),b=\"2\"}catch(h){}}a=b;if(\"2\"==a&&-1==location.search.indexOf(\"&gbv=2\")){var '\n",
            " 'f=google.gbvu,g=document.getElementById(\"gbv\");g&&(g.value=a);f&&window.setTimeout(function(){location.href=f},0)};}).call(this);\\n'\n",
            " '    </script>\\n'\n",
            " '   </form>\\n'\n",
            " '   <div id=\"gac_scont\">\\n'\n",
            " '   </div>\\n'\n",
            " '   <div style=\"font-size:83%;min-height:3.5em\">\\n'\n",
            " '    <br/>\\n'\n",
            " '   </div>\\n'\n",
            " '   <span id=\"footer\">\\n'\n",
            " '    <div style=\"font-size:10pt\">\\n'\n",
            " '     <div id=\"WqQANb\" style=\"margin:19px auto;text-align:center\">\\n'\n",
            " '      <a href=\"/intl/en/ads/\">\\n'\n",
            " '       Advertising\\xa0Programs\\n'\n",
            " '      </a>\\n'\n",
            " '      <a href=\"/services/\">\\n'\n",
            " '       Business Solutions\\n'\n",
            " '      </a>\\n'\n",
            " '      <a href=\"/intl/en/about.html\">\\n'\n",
            " '       About Google\\n'\n",
            " '      </a>\\n'\n",
            " '     </div>\\n'\n",
            " '    </div>\\n'\n",
            " '    <p style=\"font-size:8pt;color:#70757a\">\\n'\n",
            " '     © 2021 -\\n'\n",
            " '     <a href=\"/intl/en/policies/privacy/\">\\n'\n",
            " '      Privacy\\n'\n",
            " '     </a>\\n'\n",
            " '     -\\n'\n",
            " '     <a href=\"/intl/en/policies/terms/\">\\n'\n",
            " '      Terms\\n'\n",
            " '     </a>\\n'\n",
            " '    </p>\\n'\n",
            " '   </span>\\n'\n",
            " '  </center>\\n'\n",
            " '  <script nonce=\"7QMeH4LDGdY6Nt2rN3YrNA==\">\\n'\n",
            " '   (function(){window.google.cdo={height:0,width:0};(function(){var '\n",
            " 'a=window.innerWidth,b=window.innerHeight;if(!a||!b){var '\n",
            " 'c=window.document,d=\"CSS1Compat\"==c.compatMode?c.documentElement:c.body;a=d.clientWidth;b=d.clientHeight}a&&b&&(a!=google.cdo.width||b!=google.cdo.height)&&google.log(\"\",\"\",\"/client_204?&atyp=i&biw=\"+a+\"&bih=\"+b+\"&ei=\"+google.kEI);}).call(this);})();(function(){var '\n",
            " \"u='/xjs/_/js/k\\\\x3dxjs.hp.en_US.rAIju6ykilg.O/m\\\\x3dsb_he,d/am\\\\x3dAHiCOA/d\\\\x3d1/rs\\\\x3dACT90oF7OPNEHJ7Snd1au-km49BAE3Z84Q';\\n\"\n",
            " 'var '\n",
            " 'd=this||self,e=/^[\\\\w+/_-]+[=]{0,2}$/,f=null,g=function(a){return(a=a.querySelector&&a.querySelector(\"script[nonce]\"))&&(a=a.nonce||a.getAttribute(\"nonce\"))&&e.test(a)?a:\"\"},h=function(a){return '\n",
            " 'a};var l;var '\n",
            " 'n=function(a,b){this.g=b===m?a:\"\"};n.prototype.toString=function(){return '\n",
            " 'this.g+\"\"};var m={};function p(){var '\n",
            " 'a=u;google.lx=function(){q(a);google.lx=function(){}};google.bx||google.lx()}\\n'\n",
            " 'function q(a){var b=document;var '\n",
            " 'c=\"SCRIPT\";\"application/xhtml+xml\"===b.contentType&&(c=c.toLowerCase());c=b.createElement(c);if(void '\n",
            " '0===l){b=null;var '\n",
            " 'k=d.trustedTypes;if(k&&k.createPolicy){try{b=k.createPolicy(\"goog#html\",{createHTML:h,createScript:h,createScriptURL:h})}catch(r){d.console&&d.console.error(r.message)}l=b}else '\n",
            " 'l=b}a=(b=l)?b.createScriptURL(a):a;a=new n(a,m);c.src=a instanceof '\n",
            " 'n&&a.constructor===n?a.g:\"type_error:TrustedResourceUrl\";(a=c.ownerDocument&&c.ownerDocument.defaultView)&&\\n'\n",
            " 'a!=d?a=g(a.document):(null===f&&(f=g(d.document)),a=f);a&&c.setAttribute(\"nonce\",a);google.timers&&google.timers.load&&google.tick&&google.tick(\"load\",\"xjsls\");document.body.appendChild(c)};setTimeout(function(){p()},0);})();(function(){window.google.xjsu=\\'/xjs/_/js/k\\\\x3dxjs.hp.en_US.rAIju6ykilg.O/m\\\\x3dsb_he,d/am\\\\x3dAHiCOA/d\\\\x3d1/rs\\\\x3dACT90oF7OPNEHJ7Snd1au-km49BAE3Z84Q\\';})();function '\n",
            " '_DumpException(e){throw e;}\\n'\n",
            " 'function _F_installCss(c){}\\n'\n",
            " \"(function(){google.jl={dw:false,em:[],emw:false,lls:'default',pdt:0,snet:true,uwp:true};})();(function(){var \"\n",
            " \"pmc='{\\\\x22d\\\\x22:{},\\\\x22sb_he\\\\x22:{\\\\x22agen\\\\x22:true,\\\\x22cgen\\\\x22:true,\\\\x22client\\\\x22:\\\\x22heirloom-hp\\\\x22,\\\\x22dh\\\\x22:true,\\\\x22dhqt\\\\x22:true,\\\\x22ds\\\\x22:\\\\x22\\\\x22,\\\\x22ffql\\\\x22:\\\\x22en\\\\x22,\\\\x22fl\\\\x22:true,\\\\x22host\\\\x22:\\\\x22google.com\\\\x22,\\\\x22isbh\\\\x22:28,\\\\x22jsonp\\\\x22:true,\\\\x22msgs\\\\x22:{\\\\x22cibl\\\\x22:\\\\x22Clear \"\n",
            " 'Search\\\\x22,\\\\x22dym\\\\x22:\\\\x22Did you '\n",
            " 'mean:\\\\x22,\\\\x22lcky\\\\x22:\\\\x22I\\\\\\\\u0026#39;m Feeling '\n",
            " 'Lucky\\\\x22,\\\\x22lml\\\\x22:\\\\x22Learn more\\\\x22,\\\\x22oskt\\\\x22:\\\\x22Input '\n",
            " 'tools\\\\x22,\\\\x22psrc\\\\x22:\\\\x22This search was removed from your \\\\\\\\u003Ca '\n",
            " 'href\\\\x3d\\\\\\\\\\\\x22/history\\\\\\\\\\\\x22\\\\\\\\u003EWeb '\n",
            " 'History\\\\\\\\u003C/a\\\\\\\\u003E\\\\x22,\\\\x22psrl\\\\x22:\\\\x22Remove\\\\x22,\\\\x22sbit\\\\x22:\\\\x22Search '\n",
            " 'by image\\\\x22,\\\\x22srch\\\\x22:\\\\x22Google '\n",
            " 'Search\\\\x22},\\\\x22nrft\\\\x22:false,\\\\x22ovr\\\\x22:{},\\\\x22pq\\\\x22:\\\\x22\\\\x22,\\\\x22refpd\\\\x22:true,\\\\x22rfs\\\\x22:[],\\\\x22sbas\\\\x22:\\\\x220 '\n",
            " '3px 8px 0 rgba(0,0,0,0.2),0 0 0 1px '\n",
            " \"rgba(0,0,0,0.08)\\\\x22,\\\\x22sbpl\\\\x22:16,\\\\x22sbpr\\\\x22:16,\\\\x22scd\\\\x22:10,\\\\x22stok\\\\x22:\\\\x22Xb_8S99uE-CR0RTHfD0qjwz2hVM\\\\x22,\\\\x22uhde\\\\x22:false}}';google.pmc=JSON.parse(pmc);})();\\n\"\n",
            " '  </script>\\n'\n",
            " ' </body>\\n'\n",
            " '</html>')\n"
          ],
          "name": "stdout"
        }
      ]
    },
    {
      "cell_type": "code",
      "metadata": {
        "colab": {
          "base_uri": "https://localhost:8080/"
        },
        "id": "dDds5lacVgrw",
        "outputId": "0047acad-c9d7-4a8c-ab7a-0328702f0f2e"
      },
      "source": [
        "soupified.title"
      ],
      "execution_count": 9,
      "outputs": [
        {
          "output_type": "execute_result",
          "data": {
            "text/plain": [
              "<title>Google</title>"
            ]
          },
          "metadata": {
            "tags": []
          },
          "execution_count": 9
        }
      ]
    },
    {
      "cell_type": "code",
      "metadata": {
        "id": "96UEy8qSVukc"
      },
      "source": [
        "q1 = soupified.find(\"div\",{\"class\":'gb1'})"
      ],
      "execution_count": 10,
      "outputs": []
    },
    {
      "cell_type": "code",
      "metadata": {
        "colab": {
          "base_uri": "https://localhost:8080/"
        },
        "id": "ODAWPmrhWE_M",
        "outputId": "3d99dc4e-61b7-4ad9-bcfd-8e3baed489ed"
      },
      "source": [
        "print(q1)"
      ],
      "execution_count": 12,
      "outputs": [
        {
          "output_type": "stream",
          "text": [
            "None\n"
          ],
          "name": "stdout"
        }
      ]
    },
    {
      "cell_type": "code",
      "metadata": {
        "id": "5AmgX3vRWM0L"
      },
      "source": [
        ""
      ],
      "execution_count": null,
      "outputs": []
    }
  ]
}