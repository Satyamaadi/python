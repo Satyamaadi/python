{
  "nbformat": 4,
  "nbformat_minor": 0,
  "metadata": {
    "colab": {
      "name": "Handling_text_data.ipynb",
      "provenance": [],
      "collapsed_sections": [],
      "authorship_tag": "ABX9TyPmMukB0OSiI9K1JwNfmoeH",
      "include_colab_link": true
    },
    "kernelspec": {
      "name": "python3",
      "display_name": "Python 3"
    }
  },
  "cells": [
    {
      "cell_type": "markdown",
      "metadata": {
        "id": "view-in-github",
        "colab_type": "text"
      },
      "source": [
        "<a href=\"https://colab.research.google.com/github/Satyamaadi/python/blob/master/Handling_text_data.ipynb\" target=\"_parent\"><img src=\"https://colab.research.google.com/assets/colab-badge.svg\" alt=\"Open In Colab\"/></a>"
      ]
    },
    {
      "cell_type": "markdown",
      "metadata": {
        "id": "-JpGNrlWOwpW"
      },
      "source": [
        "##word tokenization"
      ]
    },
    {
      "cell_type": "code",
      "metadata": {
        "id": "rTTdTkTaNfCD"
      },
      "source": [
        "from nltk.tokenize import word_tokenize"
      ],
      "execution_count": 1,
      "outputs": []
    },
    {
      "cell_type": "code",
      "metadata": {
        "id": "kIunz5vLOEVC"
      },
      "source": [
        "string = 'Machine learning is the future'"
      ],
      "execution_count": 2,
      "outputs": []
    },
    {
      "cell_type": "code",
      "metadata": {
        "colab": {
          "base_uri": "https://localhost:8080/"
        },
        "id": "vjQ2PoJAOLa5",
        "outputId": "455879f2-22b3-4c17-b4b9-bd7be845d94d"
      },
      "source": [
        "word_tokenize(string)"
      ],
      "execution_count": 6,
      "outputs": [
        {
          "output_type": "execute_result",
          "data": {
            "text/plain": [
              "['Machine', 'learning', 'is', 'the', 'future']"
            ]
          },
          "metadata": {
            "tags": []
          },
          "execution_count": 6
        }
      ]
    },
    {
      "cell_type": "code",
      "metadata": {
        "colab": {
          "base_uri": "https://localhost:8080/"
        },
        "id": "YBet9A-ZOQC4",
        "outputId": "d456cec3-5ec2-4a93-ed14-452b5e9a981b"
      },
      "source": [
        "import nltk\n",
        "nltk.download('punkt')"
      ],
      "execution_count": 5,
      "outputs": [
        {
          "output_type": "stream",
          "text": [
            "[nltk_data] Downloading package punkt to /root/nltk_data...\n",
            "[nltk_data]   Unzipping tokenizers/punkt.zip.\n"
          ],
          "name": "stdout"
        },
        {
          "output_type": "execute_result",
          "data": {
            "text/plain": [
              "True"
            ]
          },
          "metadata": {
            "tags": []
          },
          "execution_count": 5
        }
      ]
    },
    {
      "cell_type": "markdown",
      "metadata": {
        "id": "F-O2ySQwO2wA"
      },
      "source": [
        "##Sentences tokenization"
      ]
    },
    {
      "cell_type": "code",
      "metadata": {
        "id": "NuSkcyKaOaYc"
      },
      "source": [
        "from nltk.tokenize import sent_tokenize"
      ],
      "execution_count": 7,
      "outputs": []
    },
    {
      "cell_type": "code",
      "metadata": {
        "id": "fTCrkGOkO-dw"
      },
      "source": [
        "string = 'Machine Learning and Deep Learning is future of CS'"
      ],
      "execution_count": 8,
      "outputs": []
    },
    {
      "cell_type": "code",
      "metadata": {
        "colab": {
          "base_uri": "https://localhost:8080/"
        },
        "id": "Cn1o7qkLPDye",
        "outputId": "e2c92af4-3d2a-4f1a-d05b-ca095ada69cf"
      },
      "source": [
        "sent_tokenize(string)"
      ],
      "execution_count": 9,
      "outputs": [
        {
          "output_type": "execute_result",
          "data": {
            "text/plain": [
              "['Machine Learning and Deep Learning is future of CS']"
            ]
          },
          "metadata": {
            "tags": []
          },
          "execution_count": 9
        }
      ]
    },
    {
      "cell_type": "markdown",
      "metadata": {
        "id": "svnJTUr2PNNy"
      },
      "source": [
        "##Removing Stop words i.e commin usage words"
      ]
    },
    {
      "cell_type": "code",
      "metadata": {
        "id": "rHp9y0NKPGm9"
      },
      "source": [
        "from nltk.corpus import stopwords"
      ],
      "execution_count": 10,
      "outputs": []
    },
    {
      "cell_type": "code",
      "metadata": {
        "colab": {
          "base_uri": "https://localhost:8080/"
        },
        "id": "rGr10ZMRPtjq",
        "outputId": "a3e68dc1-fb22-4221-a545-e38a96289def"
      },
      "source": [
        "nltk.download('stopwords')"
      ],
      "execution_count": 12,
      "outputs": [
        {
          "output_type": "stream",
          "text": [
            "[nltk_data] Downloading package stopwords to /root/nltk_data...\n",
            "[nltk_data]   Unzipping corpora/stopwords.zip.\n"
          ],
          "name": "stdout"
        },
        {
          "output_type": "execute_result",
          "data": {
            "text/plain": [
              "True"
            ]
          },
          "metadata": {
            "tags": []
          },
          "execution_count": 12
        }
      ]
    },
    {
      "cell_type": "code",
      "metadata": {
        "id": "wM47dX-uPWXy"
      },
      "source": [
        "stop_words = stopwords.words('english')"
      ],
      "execution_count": 13,
      "outputs": []
    },
    {
      "cell_type": "code",
      "metadata": {
        "colab": {
          "base_uri": "https://localhost:8080/",
          "height": 35
        },
        "id": "0q0w312ZQO2x",
        "outputId": "5fb2be25-2d27-4fd2-89ce-fd993f916452"
      },
      "source": [
        "string"
      ],
      "execution_count": 16,
      "outputs": [
        {
          "output_type": "execute_result",
          "data": {
            "application/vnd.google.colaboratory.intrinsic+json": {
              "type": "string"
            },
            "text/plain": [
              "'Machine Learning and Deep Learning is future of CS'"
            ]
          },
          "metadata": {
            "tags": []
          },
          "execution_count": 16
        }
      ]
    },
    {
      "cell_type": "code",
      "metadata": {
        "id": "wTs-kp62Qd_g"
      },
      "source": [
        "tw_ = ['The','Machine','Learning','Task']"
      ],
      "execution_count": 18,
      "outputs": []
    },
    {
      "cell_type": "code",
      "metadata": {
        "colab": {
          "base_uri": "https://localhost:8080/"
        },
        "id": "jtkJs_8OPrA6",
        "outputId": "b9f306b1-4354-4ecd-c6e2-ead712de7280"
      },
      "source": [
        "[word for word in tw_ if word not in stop_words]"
      ],
      "execution_count": 20,
      "outputs": [
        {
          "output_type": "execute_result",
          "data": {
            "text/plain": [
              "['The', 'Machine', 'Learning', 'Task']"
            ]
          },
          "metadata": {
            "tags": []
          },
          "execution_count": 20
        }
      ]
    },
    {
      "cell_type": "markdown",
      "metadata": {
        "id": "4YBdru-aQqj6"
      },
      "source": [
        "##Converting words to their root form"
      ]
    },
    {
      "cell_type": "code",
      "metadata": {
        "id": "81Mg6OWCP67Y"
      },
      "source": [
        "from nltk.stem.porter import PorterStemmer"
      ],
      "execution_count": 21,
      "outputs": []
    },
    {
      "cell_type": "code",
      "metadata": {
        "id": "oaxzXfeBQyKu"
      },
      "source": [
        "tw_ = ['I','am','humbled','by','this','experience']"
      ],
      "execution_count": 22,
      "outputs": []
    },
    {
      "cell_type": "code",
      "metadata": {
        "id": "nm8SPNhOQ7o9"
      },
      "source": [
        "porter = PorterStemmer()"
      ],
      "execution_count": 23,
      "outputs": []
    },
    {
      "cell_type": "code",
      "metadata": {
        "colab": {
          "base_uri": "https://localhost:8080/"
        },
        "id": "z8MTIM8EQ_aH",
        "outputId": "4a3bfec8-b292-4c79-ca9b-0227c22bdbed"
      },
      "source": [
        "[porter.stem(word) for word in tw_]"
      ],
      "execution_count": 24,
      "outputs": [
        {
          "output_type": "execute_result",
          "data": {
            "text/plain": [
              "['I', 'am', 'humbl', 'by', 'thi', 'experi']"
            ]
          },
          "metadata": {
            "tags": []
          },
          "execution_count": 24
        }
      ]
    },
    {
      "cell_type": "markdown",
      "metadata": {
        "id": "cQf2IhpGRbuw"
      },
      "source": [
        "##Tagging parts of speech"
      ]
    },
    {
      "cell_type": "code",
      "metadata": {
        "id": "Z5XVZAqfRG1m"
      },
      "source": [
        "from nltk import pos_tag"
      ],
      "execution_count": 25,
      "outputs": []
    },
    {
      "cell_type": "code",
      "metadata": {
        "id": "74ieQLndRiSs"
      },
      "source": [
        "from nltk import word_tokenize"
      ],
      "execution_count": 26,
      "outputs": []
    },
    {
      "cell_type": "code",
      "metadata": {
        "id": "10YwQO39Rlks"
      },
      "source": [
        "txt = \"My name is shikhar\""
      ],
      "execution_count": 27,
      "outputs": []
    },
    {
      "cell_type": "code",
      "metadata": {
        "colab": {
          "base_uri": "https://localhost:8080/"
        },
        "id": "UC3Ev1tcR19k",
        "outputId": "d511edb2-5556-4f5c-a94f-7a9295d271da"
      },
      "source": [
        "nltk.download('averaged_perceptron_tagger')"
      ],
      "execution_count": 29,
      "outputs": [
        {
          "output_type": "stream",
          "text": [
            "[nltk_data] Downloading package averaged_perceptron_tagger to\n",
            "[nltk_data]     /root/nltk_data...\n",
            "[nltk_data]   Unzipping taggers/averaged_perceptron_tagger.zip.\n"
          ],
          "name": "stdout"
        },
        {
          "output_type": "execute_result",
          "data": {
            "text/plain": [
              "True"
            ]
          },
          "metadata": {
            "tags": []
          },
          "execution_count": 29
        }
      ]
    },
    {
      "cell_type": "code",
      "metadata": {
        "id": "NOR-Ou6uRtX7"
      },
      "source": [
        "tagged_txt = pos_tag(word_tokenize(txt))"
      ],
      "execution_count": 30,
      "outputs": []
    },
    {
      "cell_type": "code",
      "metadata": {
        "colab": {
          "base_uri": "https://localhost:8080/"
        },
        "id": "6eB-BuVMRzEY",
        "outputId": "a82cc888-bd73-4617-ab32-bbcb6709acaa"
      },
      "source": [
        "tagged_txt"
      ],
      "execution_count": 31,
      "outputs": [
        {
          "output_type": "execute_result",
          "data": {
            "text/plain": [
              "[('My', 'PRP$'), ('name', 'NN'), ('is', 'VBZ'), ('shikhar', 'JJ')]"
            ]
          },
          "metadata": {
            "tags": []
          },
          "execution_count": 31
        }
      ]
    },
    {
      "cell_type": "markdown",
      "metadata": {
        "id": "g7eq7A1iTTdt"
      },
      "source": [
        "##Weighting word importance"
      ]
    },
    {
      "cell_type": "code",
      "metadata": {
        "id": "L7t6ShmKSBrS"
      },
      "source": [
        "import numpy as np"
      ],
      "execution_count": 32,
      "outputs": []
    },
    {
      "cell_type": "code",
      "metadata": {
        "id": "U8NfmHkNTauQ"
      },
      "source": [
        "from sklearn.feature_extraction.text import TfidfVectorizer"
      ],
      "execution_count": 33,
      "outputs": []
    },
    {
      "cell_type": "code",
      "metadata": {
        "id": "iIW2E3tMTg6M"
      },
      "source": [
        "text_data = np.array(['I love india','We respect elders','We have our culture and decorations'])"
      ],
      "execution_count": 35,
      "outputs": []
    },
    {
      "cell_type": "code",
      "metadata": {
        "id": "B9lfFsdBTvwO"
      },
      "source": [
        "tfidf = TfidfVectorizer()"
      ],
      "execution_count": 36,
      "outputs": []
    },
    {
      "cell_type": "code",
      "metadata": {
        "id": "3DqoVIx-T5G6"
      },
      "source": [
        "feature_matrix = tfidf.fit_transform(text_data)"
      ],
      "execution_count": 37,
      "outputs": []
    },
    {
      "cell_type": "code",
      "metadata": {
        "colab": {
          "base_uri": "https://localhost:8080/"
        },
        "id": "nxi3br-pUCGl",
        "outputId": "e29d79e0-422e-451e-f734-011140b05048"
      },
      "source": [
        "feature_matrix"
      ],
      "execution_count": 38,
      "outputs": [
        {
          "output_type": "execute_result",
          "data": {
            "text/plain": [
              "<3x10 sparse matrix of type '<class 'numpy.float64'>'\n",
              "\twith 11 stored elements in Compressed Sparse Row format>"
            ]
          },
          "metadata": {
            "tags": []
          },
          "execution_count": 38
        }
      ]
    },
    {
      "cell_type": "code",
      "metadata": {
        "colab": {
          "base_uri": "https://localhost:8080/"
        },
        "id": "PK6eePj9UEaT",
        "outputId": "7689491e-5459-4c0e-f42f-24f8b76ebbd4"
      },
      "source": [
        "feature_matrix.toarray()"
      ],
      "execution_count": 40,
      "outputs": [
        {
          "output_type": "execute_result",
          "data": {
            "text/plain": [
              "array([[0.        , 0.        , 0.        , 0.        , 0.        ,\n",
              "        0.70710678, 0.70710678, 0.        , 0.        , 0.        ],\n",
              "       [0.        , 0.        , 0.        , 0.62276601, 0.        ,\n",
              "        0.        , 0.        , 0.        , 0.62276601, 0.4736296 ],\n",
              "       [0.42339448, 0.42339448, 0.42339448, 0.        , 0.42339448,\n",
              "        0.        , 0.        , 0.42339448, 0.        , 0.32200242]])"
            ]
          },
          "metadata": {
            "tags": []
          },
          "execution_count": 40
        }
      ]
    },
    {
      "cell_type": "code",
      "metadata": {
        "colab": {
          "base_uri": "https://localhost:8080/"
        },
        "id": "om8FVt1vUaWO",
        "outputId": "b2813ef1-0a9d-4c67-ca4d-c1a6e14e420a"
      },
      "source": [
        "tfidf.vocabulary_"
      ],
      "execution_count": 41,
      "outputs": [
        {
          "output_type": "execute_result",
          "data": {
            "text/plain": [
              "{'and': 0,\n",
              " 'culture': 1,\n",
              " 'decorations': 2,\n",
              " 'elders': 3,\n",
              " 'have': 4,\n",
              " 'india': 5,\n",
              " 'love': 6,\n",
              " 'our': 7,\n",
              " 'respect': 8,\n",
              " 'we': 9}"
            ]
          },
          "metadata": {
            "tags": []
          },
          "execution_count": 41
        }
      ]
    },
    {
      "cell_type": "code",
      "metadata": {
        "id": "UfP4h-sLUiq7"
      },
      "source": [
        ""
      ],
      "execution_count": null,
      "outputs": []
    }
  ]
}