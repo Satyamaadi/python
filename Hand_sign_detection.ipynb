{
  "nbformat": 4,
  "nbformat_minor": 0,
  "metadata": {
    "colab": {
      "name": "Hand_sign_detection.ipynb",
      "provenance": [],
      "collapsed_sections": [],
      "authorship_tag": "ABX9TyMwoxegcH/hOhVqmB1Dts8X",
      "include_colab_link": true
    },
    "kernelspec": {
      "name": "python3",
      "display_name": "Python 3"
    },
    "accelerator": "GPU"
  },
  "cells": [
    {
      "cell_type": "markdown",
      "metadata": {
        "id": "view-in-github",
        "colab_type": "text"
      },
      "source": [
        "<a href=\"https://colab.research.google.com/github/Satyamaadi/python/blob/master/Hand_sign_detection.ipynb\" target=\"_parent\"><img src=\"https://colab.research.google.com/assets/colab-badge.svg\" alt=\"Open In Colab\"/></a>"
      ]
    },
    {
      "cell_type": "code",
      "metadata": {
        "colab": {
          "base_uri": "https://localhost:8080/"
        },
        "id": "bNOEZZaapOiH",
        "outputId": "46bbcc51-92a8-4b2b-a53e-325230288ffc"
      },
      "source": [
        "!git clone https://github.com/moelgendy/deep_learning_for_vision_systems"
      ],
      "execution_count": 2,
      "outputs": [
        {
          "output_type": "stream",
          "text": [
            "Cloning into 'deep_learning_for_vision_systems'...\n",
            "remote: Enumerating objects: 206, done.\u001b[K\n",
            "remote: Counting objects: 100% (206/206), done.\u001b[K\n",
            "remote: Compressing objects: 100% (163/163), done.\u001b[K\n",
            "remote: Total 3614 (delta 89), reused 149 (delta 43), pack-reused 3408\u001b[K\n",
            "Receiving objects: 100% (3614/3614), 181.22 MiB | 35.73 MiB/s, done.\n",
            "Resolving deltas: 100% (923/923), done.\n"
          ],
          "name": "stdout"
        }
      ]
    },
    {
      "cell_type": "code",
      "metadata": {
        "id": "wL78nMqApkeu"
      },
      "source": [
        "!cd deep_learning_for_vision_systems"
      ],
      "execution_count": 7,
      "outputs": []
    },
    {
      "cell_type": "code",
      "metadata": {
        "id": "fO27lMIsqXKv"
      },
      "source": [
        "train_path= 'deep_learning_for_vision_systems/chapter_06/sign_language_project/dataset/train'"
      ],
      "execution_count": 14,
      "outputs": []
    },
    {
      "cell_type": "code",
      "metadata": {
        "id": "8UmIxGigtv2C"
      },
      "source": [
        "test_path = 'deep_learning_for_vision_systems/chapter_06/sign_language_project/dataset/test'"
      ],
      "execution_count": 23,
      "outputs": []
    },
    {
      "cell_type": "code",
      "metadata": {
        "id": "pN9FnZgkqmxx"
      },
      "source": [
        "from keras.preprocessing.image import ImageDataGenerator"
      ],
      "execution_count": 16,
      "outputs": []
    },
    {
      "cell_type": "code",
      "metadata": {
        "colab": {
          "base_uri": "https://localhost:8080/"
        },
        "id": "kZRkoiz4r3Rk",
        "outputId": "14fc9fc7-37d4-4a51-bb2d-afcb40346a70"
      },
      "source": [
        "train_data = ImageDataGenerator().flow_from_directory(directory=train_path,target_size=(224,224),batch_size=32)"
      ],
      "execution_count": 22,
      "outputs": [
        {
          "output_type": "stream",
          "text": [
            "Found 1712 images belonging to 10 classes.\n"
          ],
          "name": "stdout"
        }
      ]
    },
    {
      "cell_type": "code",
      "metadata": {
        "colab": {
          "base_uri": "https://localhost:8080/"
        },
        "id": "IrfKJ_MUsJ37",
        "outputId": "8bb5f444-2bb4-4014-beae-ecbfd28754e5"
      },
      "source": [
        "test_data = ImageDataGenerator().flow_from_directory(directory=test_path,target_size=(224,224),batch_size=32)"
      ],
      "execution_count": 24,
      "outputs": [
        {
          "output_type": "stream",
          "text": [
            "Found 50 images belonging to 10 classes.\n"
          ],
          "name": "stdout"
        }
      ]
    },
    {
      "cell_type": "code",
      "metadata": {
        "id": "p6SmG5f9sL40"
      },
      "source": [
        "from keras.applications import vgg16"
      ],
      "execution_count": 25,
      "outputs": []
    },
    {
      "cell_type": "code",
      "metadata": {
        "colab": {
          "base_uri": "https://localhost:8080/"
        },
        "id": "Szat4aETuKGZ",
        "outputId": "19e8aa20-ed35-4672-f03a-11798b820954"
      },
      "source": [
        "model = vgg16.VGG16(weights='imagenet',include_top=False,input_shape=(224,224,3),pooling='avg')"
      ],
      "execution_count": 26,
      "outputs": [
        {
          "output_type": "stream",
          "text": [
            "Downloading data from https://storage.googleapis.com/tensorflow/keras-applications/vgg16/vgg16_weights_tf_dim_ordering_tf_kernels_notop.h5\n",
            "58892288/58889256 [==============================] - 1s 0us/step\n"
          ],
          "name": "stdout"
        }
      ]
    },
    {
      "cell_type": "code",
      "metadata": {
        "colab": {
          "base_uri": "https://localhost:8080/"
        },
        "id": "L6USEnfsubzP",
        "outputId": "fd70d804-fdc7-434a-bd07-a93af987a09d"
      },
      "source": [
        "model.summary()"
      ],
      "execution_count": 27,
      "outputs": [
        {
          "output_type": "stream",
          "text": [
            "Model: \"vgg16\"\n",
            "_________________________________________________________________\n",
            "Layer (type)                 Output Shape              Param #   \n",
            "=================================================================\n",
            "input_1 (InputLayer)         [(None, 224, 224, 3)]     0         \n",
            "_________________________________________________________________\n",
            "block1_conv1 (Conv2D)        (None, 224, 224, 64)      1792      \n",
            "_________________________________________________________________\n",
            "block1_conv2 (Conv2D)        (None, 224, 224, 64)      36928     \n",
            "_________________________________________________________________\n",
            "block1_pool (MaxPooling2D)   (None, 112, 112, 64)      0         \n",
            "_________________________________________________________________\n",
            "block2_conv1 (Conv2D)        (None, 112, 112, 128)     73856     \n",
            "_________________________________________________________________\n",
            "block2_conv2 (Conv2D)        (None, 112, 112, 128)     147584    \n",
            "_________________________________________________________________\n",
            "block2_pool (MaxPooling2D)   (None, 56, 56, 128)       0         \n",
            "_________________________________________________________________\n",
            "block3_conv1 (Conv2D)        (None, 56, 56, 256)       295168    \n",
            "_________________________________________________________________\n",
            "block3_conv2 (Conv2D)        (None, 56, 56, 256)       590080    \n",
            "_________________________________________________________________\n",
            "block3_conv3 (Conv2D)        (None, 56, 56, 256)       590080    \n",
            "_________________________________________________________________\n",
            "block3_pool (MaxPooling2D)   (None, 28, 28, 256)       0         \n",
            "_________________________________________________________________\n",
            "block4_conv1 (Conv2D)        (None, 28, 28, 512)       1180160   \n",
            "_________________________________________________________________\n",
            "block4_conv2 (Conv2D)        (None, 28, 28, 512)       2359808   \n",
            "_________________________________________________________________\n",
            "block4_conv3 (Conv2D)        (None, 28, 28, 512)       2359808   \n",
            "_________________________________________________________________\n",
            "block4_pool (MaxPooling2D)   (None, 14, 14, 512)       0         \n",
            "_________________________________________________________________\n",
            "block5_conv1 (Conv2D)        (None, 14, 14, 512)       2359808   \n",
            "_________________________________________________________________\n",
            "block5_conv2 (Conv2D)        (None, 14, 14, 512)       2359808   \n",
            "_________________________________________________________________\n",
            "block5_conv3 (Conv2D)        (None, 14, 14, 512)       2359808   \n",
            "_________________________________________________________________\n",
            "block5_pool (MaxPooling2D)   (None, 7, 7, 512)         0         \n",
            "_________________________________________________________________\n",
            "global_average_pooling2d (Gl (None, 512)               0         \n",
            "=================================================================\n",
            "Total params: 14,714,688\n",
            "Trainable params: 14,714,688\n",
            "Non-trainable params: 0\n",
            "_________________________________________________________________\n"
          ],
          "name": "stdout"
        }
      ]
    },
    {
      "cell_type": "code",
      "metadata": {
        "id": "a5aIJThCugMB"
      },
      "source": [
        "model.trainable = False"
      ],
      "execution_count": 28,
      "outputs": []
    },
    {
      "cell_type": "code",
      "metadata": {
        "colab": {
          "base_uri": "https://localhost:8080/"
        },
        "id": "zbYAxAvqupks",
        "outputId": "391bdf97-b3db-44f4-f511-a760778a3ec0"
      },
      "source": [
        "model.summary()"
      ],
      "execution_count": 29,
      "outputs": [
        {
          "output_type": "stream",
          "text": [
            "Model: \"vgg16\"\n",
            "_________________________________________________________________\n",
            "Layer (type)                 Output Shape              Param #   \n",
            "=================================================================\n",
            "input_1 (InputLayer)         [(None, 224, 224, 3)]     0         \n",
            "_________________________________________________________________\n",
            "block1_conv1 (Conv2D)        (None, 224, 224, 64)      1792      \n",
            "_________________________________________________________________\n",
            "block1_conv2 (Conv2D)        (None, 224, 224, 64)      36928     \n",
            "_________________________________________________________________\n",
            "block1_pool (MaxPooling2D)   (None, 112, 112, 64)      0         \n",
            "_________________________________________________________________\n",
            "block2_conv1 (Conv2D)        (None, 112, 112, 128)     73856     \n",
            "_________________________________________________________________\n",
            "block2_conv2 (Conv2D)        (None, 112, 112, 128)     147584    \n",
            "_________________________________________________________________\n",
            "block2_pool (MaxPooling2D)   (None, 56, 56, 128)       0         \n",
            "_________________________________________________________________\n",
            "block3_conv1 (Conv2D)        (None, 56, 56, 256)       295168    \n",
            "_________________________________________________________________\n",
            "block3_conv2 (Conv2D)        (None, 56, 56, 256)       590080    \n",
            "_________________________________________________________________\n",
            "block3_conv3 (Conv2D)        (None, 56, 56, 256)       590080    \n",
            "_________________________________________________________________\n",
            "block3_pool (MaxPooling2D)   (None, 28, 28, 256)       0         \n",
            "_________________________________________________________________\n",
            "block4_conv1 (Conv2D)        (None, 28, 28, 512)       1180160   \n",
            "_________________________________________________________________\n",
            "block4_conv2 (Conv2D)        (None, 28, 28, 512)       2359808   \n",
            "_________________________________________________________________\n",
            "block4_conv3 (Conv2D)        (None, 28, 28, 512)       2359808   \n",
            "_________________________________________________________________\n",
            "block4_pool (MaxPooling2D)   (None, 14, 14, 512)       0         \n",
            "_________________________________________________________________\n",
            "block5_conv1 (Conv2D)        (None, 14, 14, 512)       2359808   \n",
            "_________________________________________________________________\n",
            "block5_conv2 (Conv2D)        (None, 14, 14, 512)       2359808   \n",
            "_________________________________________________________________\n",
            "block5_conv3 (Conv2D)        (None, 14, 14, 512)       2359808   \n",
            "_________________________________________________________________\n",
            "block5_pool (MaxPooling2D)   (None, 7, 7, 512)         0         \n",
            "_________________________________________________________________\n",
            "global_average_pooling2d (Gl (None, 512)               0         \n",
            "=================================================================\n",
            "Total params: 14,714,688\n",
            "Trainable params: 0\n",
            "Non-trainable params: 14,714,688\n",
            "_________________________________________________________________\n"
          ],
          "name": "stdout"
        }
      ]
    },
    {
      "cell_type": "code",
      "metadata": {
        "id": "oMFd9escuwHm"
      },
      "source": [
        "last_layer = model.get_layer('global_average_pooling2d')"
      ],
      "execution_count": 30,
      "outputs": []
    },
    {
      "cell_type": "code",
      "metadata": {
        "id": "-rGnHEA8vDKK"
      },
      "source": [
        "last_output = last_layer.output"
      ],
      "execution_count": 31,
      "outputs": []
    },
    {
      "cell_type": "code",
      "metadata": {
        "id": "jXFwg-frvIHM"
      },
      "source": [
        "from keras.layers import Dense"
      ],
      "execution_count": 32,
      "outputs": []
    },
    {
      "cell_type": "code",
      "metadata": {
        "id": "i587KTUZvMjZ"
      },
      "source": [
        "x = Dense(10,activation='softmax',name='softmax')(last_output)"
      ],
      "execution_count": 33,
      "outputs": []
    },
    {
      "cell_type": "code",
      "metadata": {
        "id": "9BZLWo6CvkvF"
      },
      "source": [
        "from keras.models import Model"
      ],
      "execution_count": 35,
      "outputs": []
    },
    {
      "cell_type": "code",
      "metadata": {
        "id": "3Mf899KHvUsm"
      },
      "source": [
        "nx_model = Model(inputs=model.input,outputs=x)"
      ],
      "execution_count": 36,
      "outputs": []
    },
    {
      "cell_type": "code",
      "metadata": {
        "id": "uO3VOqvQvgsH"
      },
      "source": [
        "nx_model.compile(optimizer='adam',loss='categorical_crossentropy',metrics=['accuracy'])"
      ],
      "execution_count": 37,
      "outputs": []
    },
    {
      "cell_type": "code",
      "metadata": {
        "colab": {
          "base_uri": "https://localhost:8080/"
        },
        "id": "bRncUauovyVx",
        "outputId": "693cd670-e264-4b2b-9571-dfc4780bb2ed"
      },
      "source": [
        "nx_model.fit(train_data,epochs=20,steps_per_epoch=15,batch_size=32)"
      ],
      "execution_count": 39,
      "outputs": [
        {
          "output_type": "stream",
          "text": [
            "Epoch 1/20\n",
            "15/15 [==============================] - 10s 129ms/step - loss: 9.2817 - accuracy: 0.1150\n",
            "Epoch 2/20\n",
            "15/15 [==============================] - 2s 120ms/step - loss: 4.7848 - accuracy: 0.1626\n",
            "Epoch 3/20\n",
            "15/15 [==============================] - 2s 112ms/step - loss: 3.0244 - accuracy: 0.2925\n",
            "Epoch 4/20\n",
            "15/15 [==============================] - 2s 119ms/step - loss: 2.2100 - accuracy: 0.4227\n",
            "Epoch 5/20\n",
            "15/15 [==============================] - 3s 167ms/step - loss: 1.6782 - accuracy: 0.4918\n",
            "Epoch 6/20\n",
            "15/15 [==============================] - 2s 117ms/step - loss: 1.3398 - accuracy: 0.6107\n",
            "Epoch 7/20\n",
            "15/15 [==============================] - 2s 117ms/step - loss: 0.9194 - accuracy: 0.6898\n",
            "Epoch 8/20\n",
            "15/15 [==============================] - 2s 112ms/step - loss: 0.7904 - accuracy: 0.7252\n",
            "Epoch 9/20\n",
            "15/15 [==============================] - 2s 114ms/step - loss: 0.8527 - accuracy: 0.6984\n",
            "Epoch 10/20\n",
            "15/15 [==============================] - 2s 129ms/step - loss: 0.7105 - accuracy: 0.7477\n",
            "Epoch 11/20\n",
            "15/15 [==============================] - 2s 109ms/step - loss: 0.5672 - accuracy: 0.8144\n",
            "Epoch 12/20\n",
            "15/15 [==============================] - 2s 130ms/step - loss: 0.5494 - accuracy: 0.8001\n",
            "Epoch 13/20\n",
            "15/15 [==============================] - 2s 121ms/step - loss: 0.4964 - accuracy: 0.8231\n",
            "Epoch 14/20\n",
            "15/15 [==============================] - 2s 121ms/step - loss: 0.4193 - accuracy: 0.8449\n",
            "Epoch 15/20\n",
            "15/15 [==============================] - 2s 121ms/step - loss: 0.4132 - accuracy: 0.8627\n",
            "Epoch 16/20\n",
            "15/15 [==============================] - 2s 131ms/step - loss: 0.3973 - accuracy: 0.8497\n",
            "Epoch 17/20\n",
            "15/15 [==============================] - 2s 129ms/step - loss: 0.3774 - accuracy: 0.8861\n",
            "Epoch 18/20\n",
            "15/15 [==============================] - 2s 113ms/step - loss: 0.2264 - accuracy: 0.9311\n",
            "Epoch 19/20\n",
            "15/15 [==============================] - 2s 121ms/step - loss: 0.3048 - accuracy: 0.8966\n",
            "Epoch 20/20\n",
            "15/15 [==============================] - 2s 123ms/step - loss: 0.3005 - accuracy: 0.8912\n"
          ],
          "name": "stdout"
        },
        {
          "output_type": "execute_result",
          "data": {
            "text/plain": [
              "<tensorflow.python.keras.callbacks.History at 0x7f5da0364e80>"
            ]
          },
          "metadata": {
            "tags": []
          },
          "execution_count": 39
        }
      ]
    },
    {
      "cell_type": "code",
      "metadata": {
        "id": "UraBEARTwHyB"
      },
      "source": [
        "prediction=nx_model.predict(test_data)"
      ],
      "execution_count": null,
      "outputs": []
    },
    {
      "cell_type": "code",
      "metadata": {
        "id": "jVZFPspRwh9a"
      },
      "source": [
        "import numpy as np\n",
        "np.argmax(prediction[1])"
      ],
      "execution_count": null,
      "outputs": []
    },
    {
      "cell_type": "code",
      "metadata": {
        "id": "lPbLXkXOwqtG"
      },
      "source": [
        ""
      ],
      "execution_count": null,
      "outputs": []
    },
    {
      "cell_type": "code",
      "metadata": {
        "id": "PRH8JhrFxjY6"
      },
      "source": [
        ""
      ],
      "execution_count": null,
      "outputs": []
    }
  ]
}