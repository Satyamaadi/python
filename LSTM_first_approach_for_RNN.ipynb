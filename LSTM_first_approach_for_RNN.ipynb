{
  "nbformat": 4,
  "nbformat_minor": 0,
  "metadata": {
    "colab": {
      "name": "LSTM_first_approach_for_RNN.ipynb",
      "provenance": [],
      "collapsed_sections": [],
      "authorship_tag": "ABX9TyNWgNM3E91vqoPCjb+Wehb3",
      "include_colab_link": true
    },
    "kernelspec": {
      "name": "python3",
      "display_name": "Python 3"
    },
    "accelerator": "GPU"
  },
  "cells": [
    {
      "cell_type": "markdown",
      "metadata": {
        "id": "view-in-github",
        "colab_type": "text"
      },
      "source": [
        "<a href=\"https://colab.research.google.com/github/Satyamaadi/python/blob/master/LSTM_first_approach_for_RNN.ipynb\" target=\"_parent\"><img src=\"https://colab.research.google.com/assets/colab-badge.svg\" alt=\"Open In Colab\"/></a>"
      ]
    },
    {
      "cell_type": "code",
      "metadata": {
        "id": "wI3gWGKGoSXK"
      },
      "source": [
        "from keras.datasets import imdb\n",
        "from keras.preprocessing import sequence"
      ],
      "execution_count": 1,
      "outputs": []
    },
    {
      "cell_type": "code",
      "metadata": {
        "id": "Mk1mg7tOojjB"
      },
      "source": [
        "max_features = 10000\n",
        "max_len = 500\n",
        "batch_size = 32"
      ],
      "execution_count": 2,
      "outputs": []
    },
    {
      "cell_type": "code",
      "metadata": {
        "colab": {
          "base_uri": "https://localhost:8080/"
        },
        "id": "KPHg_2wkopk5",
        "outputId": "7858359a-4212-4483-8ba4-4a0a94d8dc98"
      },
      "source": [
        "(train_data,train_label),(test_data,test_label) = imdb.load_data(num_words=max_features)"
      ],
      "execution_count": 3,
      "outputs": [
        {
          "output_type": "stream",
          "text": [
            "Downloading data from https://storage.googleapis.com/tensorflow/tf-keras-datasets/imdb.npz\n",
            "17465344/17464789 [==============================] - 0s 0us/step\n"
          ],
          "name": "stdout"
        },
        {
          "output_type": "stream",
          "text": [
            "<string>:6: VisibleDeprecationWarning: Creating an ndarray from ragged nested sequences (which is a list-or-tuple of lists-or-tuples-or ndarrays with different lengths or shapes) is deprecated. If you meant to do this, you must specify 'dtype=object' when creating the ndarray\n",
            "/usr/local/lib/python3.6/dist-packages/tensorflow/python/keras/datasets/imdb.py:159: VisibleDeprecationWarning: Creating an ndarray from ragged nested sequences (which is a list-or-tuple of lists-or-tuples-or ndarrays with different lengths or shapes) is deprecated. If you meant to do this, you must specify 'dtype=object' when creating the ndarray\n",
            "  x_train, y_train = np.array(xs[:idx]), np.array(labels[:idx])\n",
            "/usr/local/lib/python3.6/dist-packages/tensorflow/python/keras/datasets/imdb.py:160: VisibleDeprecationWarning: Creating an ndarray from ragged nested sequences (which is a list-or-tuple of lists-or-tuples-or ndarrays with different lengths or shapes) is deprecated. If you meant to do this, you must specify 'dtype=object' when creating the ndarray\n",
            "  x_test, y_test = np.array(xs[idx:]), np.array(labels[idx:])\n"
          ],
          "name": "stderr"
        }
      ]
    },
    {
      "cell_type": "code",
      "metadata": {
        "colab": {
          "base_uri": "https://localhost:8080/"
        },
        "id": "ImPIZQ--oygF",
        "outputId": "82bb8cb0-bd6e-422e-dc01-8a61a6604d43"
      },
      "source": [
        "train_data[0:1]"
      ],
      "execution_count": 4,
      "outputs": [
        {
          "output_type": "execute_result",
          "data": {
            "text/plain": [
              "array([list([1, 14, 22, 16, 43, 530, 973, 1622, 1385, 65, 458, 4468, 66, 3941, 4, 173, 36, 256, 5, 25, 100, 43, 838, 112, 50, 670, 2, 9, 35, 480, 284, 5, 150, 4, 172, 112, 167, 2, 336, 385, 39, 4, 172, 4536, 1111, 17, 546, 38, 13, 447, 4, 192, 50, 16, 6, 147, 2025, 19, 14, 22, 4, 1920, 4613, 469, 4, 22, 71, 87, 12, 16, 43, 530, 38, 76, 15, 13, 1247, 4, 22, 17, 515, 17, 12, 16, 626, 18, 2, 5, 62, 386, 12, 8, 316, 8, 106, 5, 4, 2223, 5244, 16, 480, 66, 3785, 33, 4, 130, 12, 16, 38, 619, 5, 25, 124, 51, 36, 135, 48, 25, 1415, 33, 6, 22, 12, 215, 28, 77, 52, 5, 14, 407, 16, 82, 2, 8, 4, 107, 117, 5952, 15, 256, 4, 2, 7, 3766, 5, 723, 36, 71, 43, 530, 476, 26, 400, 317, 46, 7, 4, 2, 1029, 13, 104, 88, 4, 381, 15, 297, 98, 32, 2071, 56, 26, 141, 6, 194, 7486, 18, 4, 226, 22, 21, 134, 476, 26, 480, 5, 144, 30, 5535, 18, 51, 36, 28, 224, 92, 25, 104, 4, 226, 65, 16, 38, 1334, 88, 12, 16, 283, 5, 16, 4472, 113, 103, 32, 15, 16, 5345, 19, 178, 32])],\n",
              "      dtype=object)"
            ]
          },
          "metadata": {
            "tags": []
          },
          "execution_count": 4
        }
      ]
    },
    {
      "cell_type": "code",
      "metadata": {
        "colab": {
          "base_uri": "https://localhost:8080/"
        },
        "id": "LH79ZUTLo7mk",
        "outputId": "9d24e90e-cf7e-4610-ffd3-4fb82373f1f3"
      },
      "source": [
        "train_label[0:1]"
      ],
      "execution_count": 5,
      "outputs": [
        {
          "output_type": "execute_result",
          "data": {
            "text/plain": [
              "array([1])"
            ]
          },
          "metadata": {
            "tags": []
          },
          "execution_count": 5
        }
      ]
    },
    {
      "cell_type": "code",
      "metadata": {
        "id": "HG_B0gQ9o9-w"
      },
      "source": [
        "#label 0 is for positive sentiment\n",
        "#label 1 is for negative sentiment"
      ],
      "execution_count": null,
      "outputs": []
    },
    {
      "cell_type": "code",
      "metadata": {
        "id": "2NUVSAfMpHFm"
      },
      "source": [
        "train_data = sequence.pad_sequences(train_data,maxlen=max_len)"
      ],
      "execution_count": 6,
      "outputs": []
    },
    {
      "cell_type": "code",
      "metadata": {
        "id": "icVIhlNTpSyR"
      },
      "source": [
        "test_data = sequence.pad_sequences(test_data,maxlen=max_len)"
      ],
      "execution_count": 7,
      "outputs": []
    },
    {
      "cell_type": "code",
      "metadata": {
        "id": "k-4G30ozzE-Q"
      },
      "source": [
        "from keras.layers import LSTM,Dense,Embedding \n",
        "from keras.models import Sequential"
      ],
      "execution_count": 10,
      "outputs": []
    },
    {
      "cell_type": "code",
      "metadata": {
        "id": "Oe0vv1-V0FDG"
      },
      "source": [
        "model = Sequential()"
      ],
      "execution_count": 11,
      "outputs": []
    },
    {
      "cell_type": "code",
      "metadata": {
        "id": "EH0NIWcA0Jgj"
      },
      "source": [
        "model.add(Embedding(max_features,32))"
      ],
      "execution_count": 12,
      "outputs": []
    },
    {
      "cell_type": "code",
      "metadata": {
        "id": "qBChc7vh0WzV"
      },
      "source": [
        "model.add(LSTM(32))"
      ],
      "execution_count": 13,
      "outputs": []
    },
    {
      "cell_type": "code",
      "metadata": {
        "id": "zydWwVg90a3r"
      },
      "source": [
        "model.add(Dense(1,activation='sigmoid'))"
      ],
      "execution_count": 14,
      "outputs": []
    },
    {
      "cell_type": "code",
      "metadata": {
        "id": "BqJfsXmV0ei2"
      },
      "source": [
        "model.compile(optimizer='rmsprop',loss='binary_crossentropy',metrics=['accuracy'])"
      ],
      "execution_count": 15,
      "outputs": []
    },
    {
      "cell_type": "code",
      "metadata": {
        "colab": {
          "base_uri": "https://localhost:8080/"
        },
        "id": "xXgg8ttY0o2n",
        "outputId": "59ce9627-a3c8-4fce-d4e0-552339d14cde"
      },
      "source": [
        "history = model.fit(train_data,train_label,epochs=10,batch_size=128,validation_split=0.2)"
      ],
      "execution_count": 18,
      "outputs": [
        {
          "output_type": "stream",
          "text": [
            "Epoch 1/10\n",
            "157/157 [==============================] - 4s 28ms/step - loss: 0.1084 - accuracy: 0.9619 - val_loss: 0.3690 - val_accuracy: 0.8768\n",
            "Epoch 2/10\n",
            "157/157 [==============================] - 4s 28ms/step - loss: 0.1005 - accuracy: 0.9652 - val_loss: 0.3462 - val_accuracy: 0.8738\n",
            "Epoch 3/10\n",
            "157/157 [==============================] - 4s 28ms/step - loss: 0.0905 - accuracy: 0.9687 - val_loss: 0.3730 - val_accuracy: 0.8764\n",
            "Epoch 4/10\n",
            "157/157 [==============================] - 4s 28ms/step - loss: 0.0934 - accuracy: 0.9671 - val_loss: 0.3651 - val_accuracy: 0.8772\n",
            "Epoch 5/10\n",
            "157/157 [==============================] - 4s 28ms/step - loss: 0.0770 - accuracy: 0.9746 - val_loss: 0.4610 - val_accuracy: 0.8792\n",
            "Epoch 6/10\n",
            "157/157 [==============================] - 4s 28ms/step - loss: 0.0787 - accuracy: 0.9735 - val_loss: 0.4227 - val_accuracy: 0.8738\n",
            "Epoch 7/10\n",
            "157/157 [==============================] - 4s 28ms/step - loss: 0.0726 - accuracy: 0.9757 - val_loss: 0.4593 - val_accuracy: 0.8758\n",
            "Epoch 8/10\n",
            "157/157 [==============================] - 5s 29ms/step - loss: 0.0665 - accuracy: 0.9783 - val_loss: 0.4925 - val_accuracy: 0.8744\n",
            "Epoch 9/10\n",
            "157/157 [==============================] - 4s 28ms/step - loss: 0.0677 - accuracy: 0.9789 - val_loss: 0.5883 - val_accuracy: 0.8608\n",
            "Epoch 10/10\n",
            "157/157 [==============================] - 4s 28ms/step - loss: 0.0641 - accuracy: 0.9794 - val_loss: 0.4505 - val_accuracy: 0.8726\n"
          ],
          "name": "stdout"
        }
      ]
    },
    {
      "cell_type": "markdown",
      "metadata": {
        "id": "36TxrCho1Jmq"
      },
      "source": [
        "#Accuracy and loss plots"
      ]
    },
    {
      "cell_type": "code",
      "metadata": {
        "id": "9F5sx-VQ02rv"
      },
      "source": [
        "import matplotlib.pyplot as plt"
      ],
      "execution_count": 17,
      "outputs": []
    },
    {
      "cell_type": "code",
      "metadata": {
        "id": "92puYgxO1PiY"
      },
      "source": [
        "acc = history.history['accuracy']\n",
        "val_acc = history.history['val_accuracy']\n",
        "loss = history.history['loss']\n",
        "val_loss = history.history['val_loss']\n",
        "epochs = range(1,len(acc)+1)"
      ],
      "execution_count": 22,
      "outputs": []
    },
    {
      "cell_type": "code",
      "metadata": {
        "colab": {
          "base_uri": "https://localhost:8080/",
          "height": 296
        },
        "id": "-qIUQqq311ld",
        "outputId": "92dabbb9-d4b8-44d6-d39b-9479357d53d1"
      },
      "source": [
        "plt.plot(epochs,acc,'bo',label='Accuracy vs epochs')\n",
        "plt.plot(epochs,val_acc,'ro',label='Validation acc vs epochs')\n",
        "plt.xlabel('Epochs')\n",
        "plt.ylabel('Accuracy')\n",
        "plt.legend()"
      ],
      "execution_count": 24,
      "outputs": [
        {
          "output_type": "execute_result",
          "data": {
            "text/plain": [
              "<matplotlib.legend.Legend at 0x7f26402daa58>"
            ]
          },
          "metadata": {
            "tags": []
          },
          "execution_count": 24
        },
        {
          "output_type": "display_data",
          "data": {
            "image/png": "[encoded data removed]",
            "text/plain": [
              "<Figure size 432x288 with 1 Axes>"
            ]
          },
          "metadata": {
            "tags": [],
            "needs_background": "light"
          }
        }
      ]
    },
    {
      "cell_type": "code",
      "metadata": {
        "id": "d84iWlik2Fq6"
      },
      "source": [
        ""
      ],
      "execution_count": null,
      "outputs": []
    }
  ]
}