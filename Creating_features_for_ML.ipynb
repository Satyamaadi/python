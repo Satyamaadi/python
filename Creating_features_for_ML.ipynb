{
  "nbformat": 4,
  "nbformat_minor": 0,
  "metadata": {
    "colab": {
      "name": "Creating_features_for_ML.ipynb",
      "provenance": [],
      "collapsed_sections": [],
      "authorship_tag": "ABX9TyNEr0JZHl/TSKkPABsL7e7g",
      "include_colab_link": true
    },
    "kernelspec": {
      "name": "python3",
      "display_name": "Python 3"
    }
  },
  "cells": [
    {
      "cell_type": "markdown",
      "metadata": {
        "id": "view-in-github",
        "colab_type": "text"
      },
      "source": [
        "<a href=\"https://colab.research.google.com/github/Satyamaadi/python/blob/master/Creating_features_for_ML.ipynb\" target=\"_parent\"><img src=\"https://colab.research.google.com/assets/colab-badge.svg\" alt=\"Open In Colab\"/></a>"
      ]
    },
    {
      "cell_type": "code",
      "metadata": {
        "colab": {
          "base_uri": "https://localhost:8080/"
        },
        "id": "2x3caKFNyL2k",
        "outputId": "215af8ee-d1e0-41fd-e2e4-ee7f45cb9cca"
      },
      "source": [
        "!wget https://raw.githubusercontent.com/chrisalbon/sim_data/master/images/plane_256x256.jpg"
      ],
      "execution_count": 1,
      "outputs": [
        {
          "output_type": "stream",
          "text": [
            "--2021-01-16 06:03:38--  https://raw.githubusercontent.com/chrisalbon/sim_data/master/images/plane_256x256.jpg\n",
            "Resolving raw.githubusercontent.com (raw.githubusercontent.com)... 151.101.0.133, 151.101.64.133, 151.101.128.133, ...\n",
            "Connecting to raw.githubusercontent.com (raw.githubusercontent.com)|151.101.0.133|:443... connected.\n",
            "HTTP request sent, awaiting response... 200 OK\n",
            "Length: 22974 (22K) [image/jpeg]\n",
            "Saving to: ‘plane_256x256.jpg’\n",
            "\n",
            "plane_256x256.jpg   100%[===================>]  22.44K  --.-KB/s    in 0.001s  \n",
            "\n",
            "2021-01-16 06:03:38 (14.9 MB/s) - ‘plane_256x256.jpg’ saved [22974/22974]\n",
            "\n"
          ],
          "name": "stdout"
        }
      ]
    },
    {
      "cell_type": "code",
      "metadata": {
        "id": "yBTQwbqlyoZb"
      },
      "source": [
        "import numpy as np\n",
        "import cv2 \n",
        "import matplotlib.pyplot as plt\n"
      ],
      "execution_count": 2,
      "outputs": []
    },
    {
      "cell_type": "code",
      "metadata": {
        "id": "3dBeKoOozPnw"
      },
      "source": [
        "image = cv2.imread('plane_256x256.jpg',cv2.IMREAD_GRAYSCALE)"
      ],
      "execution_count": 3,
      "outputs": []
    },
    {
      "cell_type": "code",
      "metadata": {
        "id": "4aYOZ-RNzav1"
      },
      "source": [
        "image10x10 = cv2.resize(image,(10,10))"
      ],
      "execution_count": 4,
      "outputs": []
    },
    {
      "cell_type": "code",
      "metadata": {
        "colab": {
          "base_uri": "https://localhost:8080/"
        },
        "id": "OIowKpG3zkAU",
        "outputId": "e8482f06-631c-4629-a694-28a44311f1d6"
      },
      "source": [
        "image10x10.flatten()"
      ],
      "execution_count": 5,
      "outputs": [
        {
          "output_type": "execute_result",
          "data": {
            "text/plain": [
              "array([133, 130, 130, 129, 130, 129, 129, 128, 128, 127, 135, 131, 131,\n",
              "       131, 130, 130, 129, 128, 128, 128, 134, 132, 131, 131, 130, 129,\n",
              "       129, 128, 130, 133, 132, 158, 130, 133, 130,  46,  97,  26, 132,\n",
              "       143, 141,  36,  54,  91,   9,   9,  49, 144, 179,  41, 142,  95,\n",
              "        32,  36,  29,  43, 113, 141, 179, 187, 141, 124,  26,  25, 132,\n",
              "       135, 151, 175, 174, 184, 143, 151,  38, 133, 134, 139, 174, 177,\n",
              "       169, 174, 155, 141, 135, 137, 137, 152, 169, 168, 168, 179, 152,\n",
              "       139, 136, 135, 137, 143, 159, 166, 171, 175], dtype=uint8)"
            ]
          },
          "metadata": {
            "tags": []
          },
          "execution_count": 5
        }
      ]
    },
    {
      "cell_type": "code",
      "metadata": {
        "colab": {
          "base_uri": "https://localhost:8080/",
          "height": 282
        },
        "id": "MvVUJHoezm4N",
        "outputId": "b6dd01b6-a64c-4ba1-c611-63287cf189bc"
      },
      "source": [
        "plt.imshow(image10x10,cmap='gray')"
      ],
      "execution_count": 6,
      "outputs": [
        {
          "output_type": "execute_result",
          "data": {
            "text/plain": [
              "<matplotlib.image.AxesImage at 0x7fba3ec11828>"
            ]
          },
          "metadata": {
            "tags": []
          },
          "execution_count": 6
        },
        {
          "output_type": "display_data",
          "data": {
            "image/png": "[encoded data removed]",
            "text/plain": [
              "<Figure size 432x288 with 1 Axes>"
            ]
          },
          "metadata": {
            "tags": [],
            "needs_background": "light"
          }
        }
      ]
    },
    {
      "cell_type": "markdown",
      "metadata": {
        "id": "w5aQeuaf0cyo"
      },
      "source": [
        "##Mean color using cv2"
      ]
    },
    {
      "cell_type": "code",
      "metadata": {
        "id": "Ek62G6PvzuLT"
      },
      "source": [
        "image_bgr = cv2.imread('plane_256x256.jpg',cv2.IMREAD_COLOR)"
      ],
      "execution_count": 7,
      "outputs": []
    },
    {
      "cell_type": "code",
      "metadata": {
        "id": "oW34RiCP1W-B"
      },
      "source": [
        "channels = cv2.mean(image_bgr)"
      ],
      "execution_count": 8,
      "outputs": []
    },
    {
      "cell_type": "code",
      "metadata": {
        "id": "UaX6kdYz1a4Y"
      },
      "source": [
        "observation = np.array([(channels[2],channels[1],channels[0])])"
      ],
      "execution_count": 9,
      "outputs": []
    },
    {
      "cell_type": "code",
      "metadata": {
        "colab": {
          "base_uri": "https://localhost:8080/"
        },
        "id": "nA7f9Ivr1lpF",
        "outputId": "d98b5e10-1540-423f-c483-9bce600373f5"
      },
      "source": [
        "observation"
      ],
      "execution_count": 10,
      "outputs": [
        {
          "output_type": "execute_result",
          "data": {
            "text/plain": [
              "array([[ 90.52377319, 133.11940002, 169.02355957]])"
            ]
          },
          "metadata": {
            "tags": []
          },
          "execution_count": 10
        }
      ]
    },
    {
      "cell_type": "code",
      "metadata": {
        "id": "ELy1YcP01nAL"
      },
      "source": [
        ""
      ],
      "execution_count": null,
      "outputs": []
    }
  ]
}