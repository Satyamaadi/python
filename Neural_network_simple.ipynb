{
  "nbformat": 4,
  "nbformat_minor": 0,
  "metadata": {
    "colab": {
      "name": "Neural_network_simple.ipynb",
      "provenance": [],
      "authorship_tag": "ABX9TyNxG1Fgyk1lm11VuucHl34P",
      "include_colab_link": true
    },
    "kernelspec": {
      "name": "python3",
      "display_name": "Python 3"
    }
  },
  "cells": [
    {
      "cell_type": "markdown",
      "metadata": {
        "id": "view-in-github",
        "colab_type": "text"
      },
      "source": [
        "<a href=\"https://colab.research.google.com/github/Satyamaadi/python/blob/master/Neural_network_simple.ipynb\" target=\"_parent\"><img src=\"https://colab.research.google.com/assets/colab-badge.svg\" alt=\"Open In Colab\"/></a>"
      ]
    },
    {
      "cell_type": "markdown",
      "metadata": {
        "id": "_2HG8L2H0twK"
      },
      "source": [
        "##Simple neural net implementation"
      ]
    },
    {
      "cell_type": "code",
      "metadata": {
        "id": "TOnC4NKazwx5"
      },
      "source": [
        "def neural_network(input,weight):\n",
        "  return input * weight"
      ],
      "execution_count": 1,
      "outputs": []
    },
    {
      "cell_type": "code",
      "metadata": {
        "id": "_yK-21Jy0Bk3"
      },
      "source": [
        "sample_data=[1.5,2.5,9.0,5.9,3.0]"
      ],
      "execution_count": 2,
      "outputs": []
    },
    {
      "cell_type": "code",
      "metadata": {
        "id": "jy7mDTxk0I0x"
      },
      "source": [
        "inp = sample_data[0]"
      ],
      "execution_count": 4,
      "outputs": []
    },
    {
      "cell_type": "code",
      "metadata": {
        "id": "z7u2EOfT0Nkg"
      },
      "source": [
        "pred = neural_network(inp,0.01)"
      ],
      "execution_count": 5,
      "outputs": []
    },
    {
      "cell_type": "code",
      "metadata": {
        "colab": {
          "base_uri": "https://localhost:8080/"
        },
        "id": "Y6Byngcx0US4",
        "outputId": "02c49222-192c-467f-e79e-b795724832dd"
      },
      "source": [
        "pred"
      ],
      "execution_count": 6,
      "outputs": [
        {
          "output_type": "execute_result",
          "data": {
            "text/plain": [
              "0.015"
            ]
          },
          "metadata": {
            "tags": []
          },
          "execution_count": 6
        }
      ]
    },
    {
      "cell_type": "markdown",
      "metadata": {
        "id": "sg8qm49D0x-R"
      },
      "source": [
        "##Neural net with multiple input"
      ]
    },
    {
      "cell_type": "code",
      "metadata": {
        "id": "4yOYgMZS0Vfp"
      },
      "source": [
        "def sum_of_probabilities(a,b):\n",
        "  if len(a) == len(b):\n",
        "    s=0\n",
        "    for i in range(len(a)):\n",
        "      s = s + (a[i] * b[i])\n",
        "    return s  \n"
      ],
      "execution_count": 8,
      "outputs": []
    },
    {
      "cell_type": "code",
      "metadata": {
        "id": "uNIkLCTX1kxa"
      },
      "source": [
        "def neural_net(input,weight):\n",
        "  pred = sum_of_probabilities(input,weight)\n",
        "  return pred\n"
      ],
      "execution_count": 11,
      "outputs": []
    },
    {
      "cell_type": "code",
      "metadata": {
        "id": "iFF5YVqs1w91"
      },
      "source": [
        "toes = [8.5,9.5,9.9,9.0]\n",
        "wlrec = [0.65,0.8,0.8,0.9]\n",
        "fans = [1.2,1.3,0.5,1.0]"
      ],
      "execution_count": 12,
      "outputs": []
    },
    {
      "cell_type": "code",
      "metadata": {
        "id": "_X2OLHWN2UZe"
      },
      "source": [
        "input = [toes[0],wlrec[0],fans[0]]"
      ],
      "execution_count": 13,
      "outputs": []
    },
    {
      "cell_type": "code",
      "metadata": {
        "id": "W2pEoFLH2beA"
      },
      "source": [
        "prediction = neural_net(input,[0.1,0.2,0])"
      ],
      "execution_count": 14,
      "outputs": []
    },
    {
      "cell_type": "code",
      "metadata": {
        "colab": {
          "base_uri": "https://localhost:8080/"
        },
        "id": "ruJNFnN02h9A",
        "outputId": "ff3f5cb5-b549-410b-8048-bc93b8516ee0"
      },
      "source": [
        "prediction"
      ],
      "execution_count": 15,
      "outputs": [
        {
          "output_type": "execute_result",
          "data": {
            "text/plain": [
              "0.9800000000000001"
            ]
          },
          "metadata": {
            "tags": []
          },
          "execution_count": 15
        }
      ]
    },
    {
      "cell_type": "code",
      "metadata": {
        "id": "OPXWr2p32jDD"
      },
      "source": [
        ""
      ],
      "execution_count": null,
      "outputs": []
    }
  ]
}