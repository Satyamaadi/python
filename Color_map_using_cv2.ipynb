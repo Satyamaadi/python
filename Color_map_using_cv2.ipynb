{
  "nbformat": 4,
  "nbformat_minor": 0,
  "metadata": {
    "colab": {
      "name": "Color_map_using_cv2.ipynb",
      "provenance": [],
      "authorship_tag": "ABX9TyNIlpyOWCqjiYvf69Sj7Oy4",
      "include_colab_link": true
    },
    "kernelspec": {
      "name": "python3",
      "display_name": "Python 3"
    }
  },
  "cells": [
    {
      "cell_type": "markdown",
      "metadata": {
        "id": "view-in-github",
        "colab_type": "text"
      },
      "source": [
        "<a href=\"https://colab.research.google.com/github/Satyamaadi/python/blob/master/Color_map_using_cv2.ipynb\" target=\"_parent\"><img src=\"https://colab.research.google.com/assets/colab-badge.svg\" alt=\"Open In Colab\"/></a>"
      ]
    },
    {
      "cell_type": "code",
      "metadata": {
        "id": "3HTjBAnJFxuN"
      },
      "source": [
        "import cv2\n",
        "import matplotlib.pyplot as plt"
      ],
      "execution_count": 1,
      "outputs": []
    },
    {
      "cell_type": "code",
      "metadata": {
        "id": "5Ef-SAb2GB8D"
      },
      "source": [
        "def show_with_matplotlib(color_img, title, pos):\n",
        "    img_RGB = color_img[:, :, ::-1]\n",
        "\n",
        "    ax = plt.subplot(2, 7, pos)\n",
        "    plt.imshow(img_RGB)\n",
        "    plt.title(title)\n",
        "    plt.axis('off')\n",
        "    "
      ],
      "execution_count": 8,
      "outputs": []
    },
    {
      "cell_type": "code",
      "metadata": {
        "colab": {
          "base_uri": "https://localhost:8080/"
        },
        "id": "7GW8YK7yGarY",
        "outputId": "5dbaa3c6-6c71-47d6-f20c-e891c1328cb3"
      },
      "source": [
        "!wget https://cdn.eso.org/images/thumb300y/eso1907a.jpg"
      ],
      "execution_count": 3,
      "outputs": [
        {
          "output_type": "stream",
          "text": [
            "--2021-01-25 05:53:21--  https://cdn.eso.org/images/thumb300y/eso1907a.jpg\n",
            "Resolving cdn.eso.org (cdn.eso.org)... 185.93.0.19, 185.152.66.29, 185.152.66.14, ...\n",
            "Connecting to cdn.eso.org (cdn.eso.org)|185.93.0.19|:443... connected.\n",
            "HTTP request sent, awaiting response... 200 OK\n",
            "Length: 7817 (7.6K) [image/jpeg]\n",
            "Saving to: ‘eso1907a.jpg’\n",
            "\n",
            "\reso1907a.jpg          0%[                    ]       0  --.-KB/s               \reso1907a.jpg        100%[===================>]   7.63K  --.-KB/s    in 0s      \n",
            "\n",
            "2021-01-25 05:53:21 (653 MB/s) - ‘eso1907a.jpg’ saved [7817/7817]\n",
            "\n"
          ],
          "name": "stdout"
        }
      ]
    },
    {
      "cell_type": "code",
      "metadata": {
        "id": "TLrRUzxuGpBO"
      },
      "source": [
        "image = cv2.imread('eso1907a.jpg',cv2.IMREAD_GRAYSCALE)"
      ],
      "execution_count": 6,
      "outputs": []
    },
    {
      "cell_type": "code",
      "metadata": {
        "colab": {
          "base_uri": "https://localhost:8080/"
        },
        "id": "rQhRQIeyG0f4",
        "outputId": "a1b92707-a0eb-4c0d-b340-83acdd35fc62"
      },
      "source": [
        "type(image)"
      ],
      "execution_count": 5,
      "outputs": [
        {
          "output_type": "execute_result",
          "data": {
            "text/plain": [
              "numpy.ndarray"
            ]
          },
          "metadata": {
            "tags": []
          },
          "execution_count": 5
        }
      ]
    },
    {
      "cell_type": "code",
      "metadata": {
        "id": "Z9SO2EFGG2UH"
      },
      "source": [
        "colormaps = [\"AUTUMN\", \"BONE\", \"JET\", \"WINTER\", \"RAINBOW\", \"OCEAN\", \"SUMMER\", \"SPRING\", \"COOL\", \"HSV\", \"HOT\", \"PINK\",\"PARULA\"]"
      ],
      "execution_count": 7,
      "outputs": []
    },
    {
      "cell_type": "code",
      "metadata": {
        "colab": {
          "base_uri": "https://localhost:8080/",
          "height": 52
        },
        "id": "DxvODEacHBBI",
        "outputId": "37f1e8b6-0877-46a0-8297-b9a005a3f13c"
      },
      "source": [
        "plt.figure(figsize=(12, 5))\n",
        "plt.suptitle(\"Colormaps\", fontsize=14, fontweight='bold')"
      ],
      "execution_count": 9,
      "outputs": [
        {
          "output_type": "execute_result",
          "data": {
            "text/plain": [
              "Text(0.5, 0.98, 'Colormaps')"
            ]
          },
          "metadata": {
            "tags": []
          },
          "execution_count": 9
        },
        {
          "output_type": "display_data",
          "data": {
            "text/plain": [
              "<Figure size 864x360 with 0 Axes>"
            ]
          },
          "metadata": {
            "tags": []
          }
        }
      ]
    },
    {
      "cell_type": "code",
      "metadata": {
        "colab": {
          "base_uri": "https://localhost:8080/",
          "height": 189
        },
        "id": "bKX9hBrhHFwD",
        "outputId": "00c64d9c-9e02-4338-c86f-17f939f61a29"
      },
      "source": [
        "show_with_matplotlib(cv2.cvtColor(image, cv2.COLOR_GRAY2BGR), \"GRAY\", 1)\n",
        "\n",
        "# Now we iterate to apply all the colormaps and add the Figure:\n",
        "for idx, val in enumerate(colormaps):\n",
        "    # print(\"idx: {}, val: {}\".format(idx, val))\n",
        "    show_with_matplotlib(cv2.applyColorMap(image, idx), val, idx + 2)\n",
        "\n",
        "# Show the created image:\n",
        "plt.show()"
      ],
      "execution_count": 12,
      "outputs": [
        {
          "output_type": "display_data",
          "data": {
            "image/png": "[encoded data removed]",
            "text/plain": [
              "<Figure size 432x288 with 14 Axes>"
            ]
          },
          "metadata": {
            "tags": [],
            "needs_background": "light"
          }
        }
      ]
    },
    {
      "cell_type": "code",
      "metadata": {
        "id": "GtgsGIBSHKFB"
      },
      "source": [
        ""
      ],
      "execution_count": null,
      "outputs": []
    }
  ]
}