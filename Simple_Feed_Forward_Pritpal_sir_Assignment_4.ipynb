{
  "nbformat": 4,
  "nbformat_minor": 0,
  "metadata": {
    "colab": {
      "name": "Simple_Feed_Forward_Pritpal_sir_Assignment_4.ipynb",
      "provenance": [],
      "authorship_tag": "ABX9TyOlEuyzn6uFXPWHttzctkoB",
      "include_colab_link": true
    },
    "kernelspec": {
      "name": "python3",
      "display_name": "Python 3"
    },
    "language_info": {
      "name": "python"
    }
  },
  "cells": [
    {
      "cell_type": "markdown",
      "metadata": {
        "id": "view-in-github",
        "colab_type": "text"
      },
      "source": [
        "<a href=\"https://colab.research.google.com/github/Satyamaadi/python/blob/master/Simple_Feed_Forward_Pritpal_sir_Assignment_4.ipynb\" target=\"_parent\"><img src=\"https://colab.research.google.com/assets/colab-badge.svg\" alt=\"Open In Colab\"/></a>"
      ]
    },
    {
      "cell_type": "code",
      "execution_count": 1,
      "metadata": {
        "id": "5zN3T8LOWOdN"
      },
      "outputs": [],
      "source": [
        "import pandas as pd"
      ]
    },
    {
      "cell_type": "code",
      "source": [
        "data = {'x1':[1,1,-1,-1],'x2':[1,-1,1,-1],'t':[-1,1,-1,-1]}\n",
        "df = pd.DataFrame(data)"
      ],
      "metadata": {
        "id": "8ZpRBOOEWgn6"
      },
      "execution_count": 2,
      "outputs": []
    },
    {
      "cell_type": "code",
      "source": [
        "df"
      ],
      "metadata": {
        "colab": {
          "base_uri": "https://localhost:8080/",
          "height": 173
        },
        "id": "2znWv8qbWyyc",
        "outputId": "a993c267-36ad-47ec-e7b5-70468f1d1a3e"
      },
      "execution_count": 3,
      "outputs": [
        {
          "output_type": "execute_result",
          "data": {
            "text/plain": [
              "   x1  x2  t\n",
              "0   1   1 -1\n",
              "1   1  -1  1\n",
              "2  -1   1 -1\n",
              "3  -1  -1 -1"
            ],
            "text/html": [
              "\n",
              "  <div id=\"df-a9e8cc5a-a833-4fc9-92e6-b51e79f03a92\">\n",
              "    <div class=\"colab-df-container\">\n",
              "      <div>\n",
              "<style scoped>\n",
              "    .dataframe tbody tr th:only-of-type {\n",
              "        vertical-align: middle;\n",
              "    }\n",
              "\n",
              "    .dataframe tbody tr th {\n",
              "        vertical-align: top;\n",
              "    }\n",
              "\n",
              "    .dataframe thead th {\n",
              "        text-align: right;\n",
              "    }\n",
              "</style>\n",
              "<table border=\"1\" class=\"dataframe\">\n",
              "  <thead>\n",
              "    <tr style=\"text-align: right;\">\n",
              "      <th></th>\n",
              "      <th>x1</th>\n",
              "      <th>x2</th>\n",
              "      <th>t</th>\n",
              "    </tr>\n",
              "  </thead>\n",
              "  <tbody>\n",
              "    <tr>\n",
              "      <th>0</th>\n",
              "      <td>1</td>\n",
              "      <td>1</td>\n",
              "      <td>-1</td>\n",
              "    </tr>\n",
              "    <tr>\n",
              "      <th>1</th>\n",
              "      <td>1</td>\n",
              "      <td>-1</td>\n",
              "      <td>1</td>\n",
              "    </tr>\n",
              "    <tr>\n",
              "      <th>2</th>\n",
              "      <td>-1</td>\n",
              "      <td>1</td>\n",
              "      <td>-1</td>\n",
              "    </tr>\n",
              "    <tr>\n",
              "      <th>3</th>\n",
              "      <td>-1</td>\n",
              "      <td>-1</td>\n",
              "      <td>-1</td>\n",
              "    </tr>\n",
              "  </tbody>\n",
              "</table>\n",
              "</div>\n",
              "      <button class=\"colab-df-convert\" onclick=\"convertToInteractive('df-a9e8cc5a-a833-4fc9-92e6-b51e79f03a92')\"\n",
              "              title=\"Convert this dataframe to an interactive table.\"\n",
              "              style=\"display:none;\">\n",
              "        \n",
              "  <svg xmlns=\"http://www.w3.org/2000/svg\" height=\"24px\"viewBox=\"0 0 24 24\"\n",
              "       width=\"24px\">\n",
              "    <path d=\"M0 0h24v24H0V0z\" fill=\"none\"/>\n",
              "    <path d=\"M18.56 5.44l.94 2.06.94-2.06 2.06-.94-2.06-.94-.94-2.06-.94 2.06-2.06.94zm-11 1L8.5 8.5l.94-2.06 2.06-.94-2.06-.94L8.5 2.5l-.94 2.06-2.06.94zm10 10l.94 2.06.94-2.06 2.06-.94-2.06-.94-.94-2.06-.94 2.06-2.06.94z\"/><path d=\"M17.41 7.96l-1.37-1.37c-.4-.4-.92-.59-1.43-.59-.52 0-1.04.2-1.43.59L10.3 9.45l-7.72 7.72c-.78.78-.78 2.05 0 2.83L4 21.41c.39.39.9.59 1.41.59.51 0 1.02-.2 1.41-.59l7.78-7.78 2.81-2.81c.8-.78.8-2.07 0-2.86zM5.41 20L4 18.59l7.72-7.72 1.47 1.35L5.41 20z\"/>\n",
              "  </svg>\n",
              "      </button>\n",
              "      \n",
              "  <style>\n",
              "    .colab-df-container {\n",
              "      display:flex;\n",
              "      flex-wrap:wrap;\n",
              "      gap: 12px;\n",
              "    }\n",
              "\n",
              "    .colab-df-convert {\n",
              "      background-color: #E8F0FE;\n",
              "      border: none;\n",
              "      border-radius: 50%;\n",
              "      cursor: pointer;\n",
              "      display: none;\n",
              "      fill: #1967D2;\n",
              "      height: 32px;\n",
              "      padding: 0 0 0 0;\n",
              "      width: 32px;\n",
              "    }\n",
              "\n",
              "    .colab-df-convert:hover {\n",
              "      background-color: #E2EBFA;\n",
              "      box-shadow: 0px 1px 2px rgba(60, 64, 67, 0.3), 0px 1px 3px 1px rgba(60, 64, 67, 0.15);\n",
              "      fill: #174EA6;\n",
              "    }\n",
              "\n",
              "    [theme=dark] .colab-df-convert {\n",
              "      background-color: #3B4455;\n",
              "      fill: #D2E3FC;\n",
              "    }\n",
              "\n",
              "    [theme=dark] .colab-df-convert:hover {\n",
              "      background-color: #434B5C;\n",
              "      box-shadow: 0px 1px 3px 1px rgba(0, 0, 0, 0.15);\n",
              "      filter: drop-shadow(0px 1px 2px rgba(0, 0, 0, 0.3));\n",
              "      fill: #FFFFFF;\n",
              "    }\n",
              "  </style>\n",
              "\n",
              "      <script>\n",
              "        const buttonEl =\n",
              "          document.querySelector('#df-a9e8cc5a-a833-4fc9-92e6-b51e79f03a92 button.colab-df-convert');\n",
              "        buttonEl.style.display =\n",
              "          google.colab.kernel.accessAllowed ? 'block' : 'none';\n",
              "\n",
              "        async function convertToInteractive(key) {\n",
              "          const element = document.querySelector('#df-a9e8cc5a-a833-4fc9-92e6-b51e79f03a92');\n",
              "          const dataTable =\n",
              "            await google.colab.kernel.invokeFunction('convertToInteractive',\n",
              "                                                     [key], {});\n",
              "          if (!dataTable) return;\n",
              "\n",
              "          const docLinkHtml = 'Like what you see? Visit the ' +\n",
              "            '<a target=\"_blank\" href=https://colab.research.google.com/notebooks/data_table.ipynb>data table notebook</a>'\n",
              "            + ' to learn more about interactive tables.';\n",
              "          element.innerHTML = '';\n",
              "          dataTable['output_type'] = 'display_data';\n",
              "          await google.colab.output.renderOutput(dataTable, element);\n",
              "          const docLink = document.createElement('div');\n",
              "          docLink.innerHTML = docLinkHtml;\n",
              "          element.appendChild(docLink);\n",
              "        }\n",
              "      </script>\n",
              "    </div>\n",
              "  </div>\n",
              "  "
            ]
          },
          "metadata": {},
          "execution_count": 3
        }
      ]
    },
    {
      "cell_type": "code",
      "source": [
        "#Activation function\n",
        "def activation(yin,theta):\n",
        "  if yin > theta:\n",
        "    return 1\n",
        "  elif yin == theta:\n",
        "    return 0\n",
        "  else:\n",
        "    return -1    "
      ],
      "metadata": {
        "id": "BjbkS5X_Xv68"
      },
      "execution_count": 5,
      "outputs": []
    },
    {
      "cell_type": "code",
      "source": [
        "#Feed Forward Simple\n",
        "w =[0,0,0];theta = 0;alpha=1\n",
        "for i in range(df.shape[0]):\n",
        "    yin = ((df.iloc[i][0] * w[0]) + (df.iloc[i][1]*w[1]) + (w[2]*1))\n",
        "    y = activation(yin,theta)\n",
        "    if y != df.iloc[i][2]:\n",
        "      w[0] = w[0] + (alpha * df.iloc[i][2] * df.iloc[i][0])\n",
        "      w[1] = w[1] + (alpha * df.iloc[i][2] * df.iloc[i][1])\n",
        "      w[2] = w[2] + (alpha *  df.iloc[i][2])\n",
        "      print('Updated Weight Matrix in step:',i+1,'is: ',w)\n",
        "    else:\n",
        "      print('No updation in step:',i+1)  "
      ],
      "metadata": {
        "colab": {
          "base_uri": "https://localhost:8080/"
        },
        "id": "P-pLTxJNW213",
        "outputId": "b1e7d516-5723-4ea0-a6d3-cf78386f566c"
      },
      "execution_count": 37,
      "outputs": [
        {
          "output_type": "stream",
          "name": "stdout",
          "text": [
            "Updated Weight Matrix in step: 1 is:  [-1, -1, -1]\n",
            "Updated Weight Matrix in step: 2 is:  [0, -2, 0]\n",
            "No updation in step: 3\n",
            "Updated Weight Matrix in step: 4 is:  [1, -1, -1]\n"
          ]
        }
      ]
    },
    {
      "cell_type": "code",
      "source": [
        "#Delta Rule\n",
        "w =[0,0,0];theta = 0;alpha=1\n",
        "for i in range(df.shape[0]):\n",
        "    yin = ((df.iloc[i][0] * w[0]) + (df.iloc[i][1]*w[1]) + (w[2]*1))\n",
        "    y = activation(yin,theta)\n",
        "    if y != df.iloc[i][2]:\n",
        "      w[0] = w[0] - ((alpha * yin) - (df.iloc[i][2]))\n",
        "      w[1] = w[1] - ((alpha * yin) - (df.iloc[i][2]))\n",
        "      w[2] = w[2] - (alpha *  (yin -df.iloc[i][2]))\n",
        "      print('Updated Weight Matrix in step:',i+1,'is: ',w)\n",
        "    else:\n",
        "      print('No updation in step:',i+1)  \n"
      ],
      "metadata": {
        "colab": {
          "base_uri": "https://localhost:8080/"
        },
        "id": "uIbufA4ieZ3l",
        "outputId": "956cb022-dc74-4d76-be6d-600b8cc3cdad"
      },
      "execution_count": 38,
      "outputs": [
        {
          "output_type": "stream",
          "name": "stdout",
          "text": [
            "Updated Weight Matrix in step: 1 is:  [-1, -1, -1]\n",
            "Updated Weight Matrix in step: 2 is:  [1, 1, 1]\n",
            "Updated Weight Matrix in step: 3 is:  [-1, -1, -1]\n",
            "Updated Weight Matrix in step: 4 is:  [-3, -3, -3]\n"
          ]
        }
      ]
    }
  ]
}