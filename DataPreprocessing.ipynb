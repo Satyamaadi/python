{
  "nbformat": 4,
  "nbformat_minor": 0,
  "metadata": {
    "colab": {
      "name": "DataPreprocessing.ipynb",
      "provenance": [],
      "authorship_tag": "ABX9TyPLOfB1MPpYuh6tIIlfNEzs",
      "include_colab_link": true
    },
    "kernelspec": {
      "name": "python3",
      "display_name": "Python 3"
    },
    "language_info": {
      "name": "python"
    }
  },
  "cells": [
    {
      "cell_type": "markdown",
      "metadata": {
        "id": "view-in-github",
        "colab_type": "text"
      },
      "source": [
        "<a href=\"https://colab.research.google.com/github/Satyamaadi/python/blob/master/DataPreprocessing.ipynb\" target=\"_parent\"><img src=\"https://colab.research.google.com/assets/colab-badge.svg\" alt=\"Open In Colab\"/></a>"
      ]
    },
    {
      "cell_type": "code",
      "execution_count": 1,
      "metadata": {
        "id": "xu5yKGPubvmF"
      },
      "outputs": [],
      "source": [
        "import numpy as np\n",
        "from sklearn import preprocessing"
      ]
    },
    {
      "cell_type": "code",
      "source": [
        "data = np.array([[-1.2,0.3,1.5,2.3],[-2.5,2,1.0,1.4],[2.2,2.7,-2,-2.6],[-2.5,2.5,1,2.0]])"
      ],
      "metadata": {
        "id": "tYmrPKMfcFMy"
      },
      "execution_count": 2,
      "outputs": []
    },
    {
      "cell_type": "code",
      "source": [
        "binarised = preprocessing.Binarizer(threshold=1.6).transform(data)"
      ],
      "metadata": {
        "id": "X09VHCFYcYdS"
      },
      "execution_count": 3,
      "outputs": []
    },
    {
      "cell_type": "code",
      "source": [
        "binarised"
      ],
      "metadata": {
        "colab": {
          "base_uri": "https://localhost:8080/"
        },
        "id": "YY2mT4HTckaA",
        "outputId": "14083a0c-bc52-4bd8-a1cb-274e5bebe6dc"
      },
      "execution_count": 4,
      "outputs": [
        {
          "output_type": "execute_result",
          "data": {
            "text/plain": [
              "array([[0., 0., 0., 1.],\n",
              "       [0., 1., 0., 0.],\n",
              "       [1., 1., 0., 0.],\n",
              "       [0., 1., 0., 1.]])"
            ]
          },
          "metadata": {},
          "execution_count": 4
        }
      ]
    },
    {
      "cell_type": "code",
      "source": [
        "print(binarised.mean(axis=0))\n",
        "print(binarised.std(axis=0))"
      ],
      "metadata": {
        "colab": {
          "base_uri": "https://localhost:8080/"
        },
        "id": "8v9BVyXxcnly",
        "outputId": "39100444-2960-4b64-f78f-203da758714d"
      },
      "execution_count": 6,
      "outputs": [
        {
          "output_type": "stream",
          "name": "stdout",
          "text": [
            "[0.25 0.75 0.   0.5 ]\n",
            "[0.4330127 0.4330127 0.        0.5      ]\n"
          ]
        }
      ]
    },
    {
      "cell_type": "code",
      "source": [
        "data_scaled = preprocessing.scale(data)"
      ],
      "metadata": {
        "id": "3SKp3XBcc56W"
      },
      "execution_count": 8,
      "outputs": []
    },
    {
      "cell_type": "code",
      "source": [
        "data_scaled"
      ],
      "metadata": {
        "colab": {
          "base_uri": "https://localhost:8080/"
        },
        "id": "HlhseaiodGs7",
        "outputId": "7101a38e-c254-4454-93d1-b183310c9b47"
      },
      "execution_count": 9,
      "outputs": [
        {
          "output_type": "execute_result",
          "data": {
            "text/plain": [
              "array([[-0.10404537, -1.66774084,  0.81150267,  0.77202821],\n",
              "       [-0.7803403 ,  0.13236038,  0.45083482,  0.316405  ],\n",
              "       [ 1.66472598,  0.87357853, -1.71317231, -1.70858701],\n",
              "       [-0.7803403 ,  0.66180192,  0.45083482,  0.6201538 ]])"
            ]
          },
          "metadata": {},
          "execution_count": 9
        }
      ]
    },
    {
      "cell_type": "code",
      "source": [
        "data_scaled.mean(axis=0)"
      ],
      "metadata": {
        "colab": {
          "base_uri": "https://localhost:8080/"
        },
        "id": "jv4Cbi1ndKP9",
        "outputId": "ecd49978-0dc6-4ab5-8e0d-44412f20bd58"
      },
      "execution_count": 10,
      "outputs": [
        {
          "output_type": "execute_result",
          "data": {
            "text/plain": [
              "array([ 2.77555756e-17,  8.32667268e-17, -2.77555756e-17,  0.00000000e+00])"
            ]
          },
          "metadata": {},
          "execution_count": 10
        }
      ]
    },
    {
      "cell_type": "code",
      "source": [
        "minmax_scaler = preprocessing.MinMaxScaler(feature_range=(0,1))"
      ],
      "metadata": {
        "id": "LphIf6DZdXKG"
      },
      "execution_count": 11,
      "outputs": []
    },
    {
      "cell_type": "code",
      "source": [
        "minmax_scaled = minmax_scaler.fit_transform(data)"
      ],
      "metadata": {
        "id": "d3ybgnMGdiYD"
      },
      "execution_count": 14,
      "outputs": []
    },
    {
      "cell_type": "code",
      "source": [
        "minmax_scaled"
      ],
      "metadata": {
        "colab": {
          "base_uri": "https://localhost:8080/"
        },
        "id": "aF-yM3xHdwGz",
        "outputId": "b128e3c6-52e3-456c-88b1-6d133f52c9be"
      },
      "execution_count": 15,
      "outputs": [
        {
          "output_type": "execute_result",
          "data": {
            "text/plain": [
              "array([[0.27659574, 0.        , 1.        , 1.        ],\n",
              "       [0.        , 0.70833333, 0.85714286, 0.81632653],\n",
              "       [1.        , 1.        , 0.        , 0.        ],\n",
              "       [0.        , 0.91666667, 0.85714286, 0.93877551]])"
            ]
          },
          "metadata": {},
          "execution_count": 15
        }
      ]
    },
    {
      "cell_type": "code",
      "source": [
        "preprocessing.normalize(data,norm='l1')"
      ],
      "metadata": {
        "colab": {
          "base_uri": "https://localhost:8080/"
        },
        "id": "gPxRTYPmeDGI",
        "outputId": "d315cc6f-7897-48cb-f868-3b18eefd0536"
      },
      "execution_count": 16,
      "outputs": [
        {
          "output_type": "execute_result",
          "data": {
            "text/plain": [
              "array([[-0.22641509,  0.05660377,  0.28301887,  0.43396226],\n",
              "       [-0.36231884,  0.28985507,  0.14492754,  0.20289855],\n",
              "       [ 0.23157895,  0.28421053, -0.21052632, -0.27368421],\n",
              "       [-0.3125    ,  0.3125    ,  0.125     ,  0.25      ]])"
            ]
          },
          "metadata": {},
          "execution_count": 16
        }
      ]
    },
    {
      "cell_type": "code",
      "source": [
        "preprocessing.normalize(data,norm='l2')"
      ],
      "metadata": {
        "colab": {
          "base_uri": "https://localhost:8080/"
        },
        "id": "BhuAjuJheJ3d",
        "outputId": "e2970943-fa8c-4f88-ebcc-05c6ac307eb8"
      },
      "execution_count": 17,
      "outputs": [
        {
          "output_type": "execute_result",
          "data": {
            "text/plain": [
              "array([[-0.39845346,  0.09961337,  0.49806683,  0.76370247],\n",
              "       [-0.68784186,  0.55027349,  0.27513674,  0.38519144],\n",
              "       [ 0.45983263,  0.56434004, -0.41802966, -0.54343856],\n",
              "       [-0.5976143 ,  0.5976143 ,  0.23904572,  0.47809144]])"
            ]
          },
          "metadata": {},
          "execution_count": 17
        }
      ]
    }
  ]
}