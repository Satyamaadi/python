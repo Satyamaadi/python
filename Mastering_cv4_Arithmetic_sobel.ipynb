{
  "nbformat": 4,
  "nbformat_minor": 0,
  "metadata": {
    "colab": {
      "name": "Mastering_cv4_Arithmetic_sobel.ipynb",
      "provenance": [],
      "collapsed_sections": [],
      "authorship_tag": "ABX9TyPWjljnk1t774n6kNmm/EcC",
      "include_colab_link": true
    },
    "kernelspec": {
      "name": "python3",
      "display_name": "Python 3"
    }
  },
  "cells": [
    {
      "cell_type": "markdown",
      "metadata": {
        "id": "view-in-github",
        "colab_type": "text"
      },
      "source": [
        "<a href=\"https://colab.research.google.com/github/Satyamaadi/python/blob/master/Mastering_cv4_Arithmetic_sobel.ipynb\" target=\"_parent\"><img src=\"https://colab.research.google.com/assets/colab-badge.svg\" alt=\"Open In Colab\"/></a>"
      ]
    },
    {
      "cell_type": "code",
      "metadata": {
        "id": "F3VVp6zXtHB9"
      },
      "source": [
        "import numpy as np\n",
        "import matplotlib.pyplot as plt\n",
        "import cv2"
      ],
      "execution_count": 6,
      "outputs": []
    },
    {
      "cell_type": "code",
      "metadata": {
        "colab": {
          "base_uri": "https://localhost:8080/",
          "height": 52
        },
        "id": "2FhBYADFtSVW",
        "outputId": "67f27fb1-4bef-45b0-a84f-d62efcfd4bb8"
      },
      "source": [
        "def show_with_matplotlib(color_img, title, pos):\n",
        "    \"\"\"Shows an image using matplotlib capabilities\"\"\"\n",
        "\n",
        "    # Convert BGR image to RGB\n",
        "    img_RGB = color_img[:, :, ::-1]\n",
        "\n",
        "    ax = plt.subplot(1, 4, pos)\n",
        "    plt.imshow(img_RGB)\n",
        "    plt.title(title)\n",
        "    plt.axis('off')\n",
        "\n",
        "\n",
        "# Create the dimensions of the figure and set title:\n",
        "plt.figure(figsize=(10, 4))\n",
        "plt.suptitle(\"Sobel operator and cv2.addWeighted() to show the output\", fontsize=14, fontweight='bold')"
      ],
      "execution_count": 2,
      "outputs": [
        {
          "output_type": "execute_result",
          "data": {
            "text/plain": [
              "Text(0.5, 0.98, 'Sobel operator and cv2.addWeighted() to show the output')"
            ]
          },
          "metadata": {
            "tags": []
          },
          "execution_count": 2
        },
        {
          "output_type": "display_data",
          "data": {
            "text/plain": [
              "<Figure size 720x288 with 0 Axes>"
            ]
          },
          "metadata": {
            "tags": []
          }
        }
      ]
    },
    {
      "cell_type": "code",
      "metadata": {
        "colab": {
          "base_uri": "https://localhost:8080/"
        },
        "id": "2HylHoB0uDE9",
        "outputId": "f05b75ab-3c41-4a32-cee0-17dc5379a268"
      },
      "source": [
        "!wget https://www.w3schools.com/w3css/img_lights.jpg"
      ],
      "execution_count": 4,
      "outputs": [
        {
          "output_type": "stream",
          "text": [
            "--2021-01-23 05:29:46--  https://www.w3schools.com/w3css/img_lights.jpg\n",
            "Resolving www.w3schools.com (www.w3schools.com)... 192.229.173.207\n",
            "Connecting to www.w3schools.com (www.w3schools.com)|192.229.173.207|:443... connected.\n",
            "HTTP request sent, awaiting response... 200 OK\n",
            "Length: 20461 (20K) [image/jpeg]\n",
            "Saving to: ‘img_lights.jpg’\n",
            "\n",
            "\rimg_lights.jpg        0%[                    ]       0  --.-KB/s               \rimg_lights.jpg      100%[===================>]  19.98K  --.-KB/s    in 0s      \n",
            "\n",
            "2021-01-23 05:29:46 (164 MB/s) - ‘img_lights.jpg’ saved [20461/20461]\n",
            "\n"
          ],
          "name": "stdout"
        }
      ]
    },
    {
      "cell_type": "code",
      "metadata": {
        "id": "KSRU027_uDBv"
      },
      "source": [
        "image = cv2.imread('img_lights.jpg')"
      ],
      "execution_count": 7,
      "outputs": []
    },
    {
      "cell_type": "code",
      "metadata": {
        "colab": {
          "base_uri": "https://localhost:8080/"
        },
        "id": "mBO5ePDDuJDq",
        "outputId": "9d419573-4349-4680-9c55-337789a29df5"
      },
      "source": [
        "type(image)"
      ],
      "execution_count": 8,
      "outputs": [
        {
          "output_type": "execute_result",
          "data": {
            "text/plain": [
              "numpy.ndarray"
            ]
          },
          "metadata": {
            "tags": []
          },
          "execution_count": 8
        }
      ]
    },
    {
      "cell_type": "code",
      "metadata": {
        "id": "LvL0mfq4uTgo"
      },
      "source": [
        "image_filtered = cv2.GaussianBlur(image,(3,3),0)"
      ],
      "execution_count": 9,
      "outputs": []
    },
    {
      "cell_type": "code",
      "metadata": {
        "id": "8G3xNjUxuhaP"
      },
      "source": [
        "gray_image = cv2.cvtColor(image_filtered,cv2.COLOR_BGR2GRAY)"
      ],
      "execution_count": 10,
      "outputs": []
    },
    {
      "cell_type": "code",
      "metadata": {
        "id": "eeeBY4cku83V"
      },
      "source": [
        "gradient_x = cv2.Sobel(gray_image,cv2.CV_16S,1,0,3)"
      ],
      "execution_count": 11,
      "outputs": []
    },
    {
      "cell_type": "code",
      "metadata": {
        "id": "7aliD8QyvUEC"
      },
      "source": [
        "gradient_y = cv2.Sobel(gray_image,cv2.CV_16S,0,1,3)"
      ],
      "execution_count": 12,
      "outputs": []
    },
    {
      "cell_type": "code",
      "metadata": {
        "id": "WmP1gG62vcdx"
      },
      "source": [
        "abs_gradientx = cv2.convertScaleAbs(gradient_x)\n",
        "abs_gradienty = cv2.convertScaleAbs(gradient_y)"
      ],
      "execution_count": 13,
      "outputs": []
    },
    {
      "cell_type": "code",
      "metadata": {
        "id": "gRPrFmhXvpLP"
      },
      "source": [
        "sobel_image = cv2.addWeighted(abs_gradientx, 0.5, abs_gradienty, 0.5, 0)"
      ],
      "execution_count": 15,
      "outputs": []
    },
    {
      "cell_type": "code",
      "metadata": {
        "colab": {
          "base_uri": "https://localhost:8080/",
          "height": 95
        },
        "id": "wkDpWuCwvuyK",
        "outputId": "ec9d4574-3fc0-44de-db02-44cf2331f630"
      },
      "source": [
        "show_with_matplotlib(image, \"Image\", 1)\n",
        "show_with_matplotlib(cv2.cvtColor(abs_gradientx, cv2.COLOR_GRAY2BGR), \"Gradient x\", 2)\n",
        "show_with_matplotlib(cv2.cvtColor(abs_gradienty, cv2.COLOR_GRAY2BGR), \"Gradient y\", 3)\n",
        "show_with_matplotlib(cv2.cvtColor(sobel_image, cv2.COLOR_GRAY2BGR), \"Sobel output\", 4)\n",
        "\n",
        "# Show the Figure:\n",
        "plt.show()"
      ],
      "execution_count": 17,
      "outputs": [
        {
          "output_type": "display_data",
          "data": {
            "image/png": "[encoded data removed]",
            "text/plain": [
              "<Figure size 432x288 with 4 Axes>"
            ]
          },
          "metadata": {
            "tags": [],
            "needs_background": "light"
          }
        }
      ]
    },
    {
      "cell_type": "code",
      "metadata": {
        "id": "OLqR4lVIv0tY"
      },
      "source": [
        ""
      ],
      "execution_count": null,
      "outputs": []
    }
  ]
}