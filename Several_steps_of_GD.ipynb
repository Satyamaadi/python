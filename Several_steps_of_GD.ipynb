{
  "nbformat": 4,
  "nbformat_minor": 0,
  "metadata": {
    "colab": {
      "name": "Several_steps_of_GD.ipynb",
      "provenance": [],
      "collapsed_sections": [],
      "authorship_tag": "ABX9TyOh4HTmOd29Y5AwvfXhrHmd",
      "include_colab_link": true
    },
    "kernelspec": {
      "name": "python3",
      "display_name": "Python 3"
    }
  },
  "cells": [
    {
      "cell_type": "markdown",
      "metadata": {
        "id": "view-in-github",
        "colab_type": "text"
      },
      "source": [
        "<a href=\"https://colab.research.google.com/github/Satyamaadi/python/blob/master/Several_steps_of_GD.ipynb\" target=\"_parent\"><img src=\"https://colab.research.google.com/assets/colab-badge.svg\" alt=\"Open In Colab\"/></a>"
      ]
    },
    {
      "cell_type": "markdown",
      "metadata": {
        "id": "ollceZ00iK45"
      },
      "source": [
        "##Several steps of GD"
      ]
    },
    {
      "cell_type": "code",
      "metadata": {
        "id": "C2fbUC-QiGH1"
      },
      "source": [
        "def neural_network(input,weight):\n",
        "  out=0\n",
        "  for i in range(len(input)):\n",
        "    out+=(input[i]*weight[i])\n",
        "\n",
        "  return out  "
      ],
      "execution_count": 1,
      "outputs": []
    },
    {
      "cell_type": "code",
      "metadata": {
        "id": "vJvNYg7vithJ"
      },
      "source": [
        "def ele_mul(scalar,vector):\n",
        "  out=[0,0,0]\n",
        "  for i in range(len(out)):\n",
        "    out[i] += vector[i] * scalar\n",
        "\n",
        "  return out  "
      ],
      "execution_count": 11,
      "outputs": []
    },
    {
      "cell_type": "code",
      "metadata": {
        "id": "Y4HLcx0sjBB4"
      },
      "source": [
        "toes =  [8.5, 9.5, 9.9, 9.0]\n",
        "wlrec = [0.65, 0.8, 0.8, 0.9]\n",
        "nfans = [1.2, 1.3, 0.5, 1.0]\n"
      ],
      "execution_count": 6,
      "outputs": []
    },
    {
      "cell_type": "code",
      "metadata": {
        "colab": {
          "base_uri": "https://localhost:8080/"
        },
        "id": "xDSWe6WbjEgk",
        "outputId": "d9885be3-4fd3-43c8-f924-6076fbf8f797"
      },
      "source": [
        "win_or_lose_binary = [1, 1, 0, 1]\n",
        "true = win_or_lose_binary[0]\n",
        "\n",
        "alpha = 0.01\n",
        "weights = [0.1, 0.2, -.1]\n",
        "input = [toes[0],wlrec[0],nfans[0]]\n",
        "\n",
        "for iter in range(3):\n",
        "\n",
        "  pred = neural_network(input,weights)\n",
        "\n",
        "  error = (pred - true) ** 2\n",
        "  delta = pred - true\n",
        "\n",
        "  weight_deltas=ele_mul(delta,input)\n",
        "\n",
        "  print(\"Iteration:\" + str(iter+1))\n",
        "  print(\"Pred:\" + str(pred))\n",
        "  print(\"Error:\" + str(error))\n",
        "  print(\"Delta:\" + str(delta))\n",
        "  print(\"Weights:\" + str(weights))\n",
        "  print(\"Weight_Deltas:\")\n",
        "  print(str(weight_deltas))\n",
        "\n",
        "  for i in range(len(weights)):\n",
        "    weights[i]-=alpha*weight_deltas[i]"
      ],
      "execution_count": 12,
      "outputs": [
        {
          "output_type": "stream",
          "text": [
            "Iteration:1\n",
            "Pred:0.8600000000000001\n",
            "Error:0.01959999999999997\n",
            "Delta:-0.1399999999999999\n",
            "Weights:[0.1, 0.2, -0.1]\n",
            "Weight_Deltas:\n",
            "[-1.189999999999999, -0.09099999999999994, -0.16799999999999987]\n",
            "Iteration:2\n",
            "Pred:0.9637574999999999\n",
            "Error:0.0013135188062500048\n",
            "Delta:-0.036242500000000066\n",
            "Weights:[0.1119, 0.20091, -0.09832]\n",
            "Weight_Deltas:\n",
            "[-0.30806125000000056, -0.023557625000000044, -0.04349100000000008]\n",
            "Iteration:3\n",
            "Pred:0.9906177228125002\n",
            "Error:8.802712522307997e-05\n",
            "Delta:-0.009382277187499843\n",
            "Weights:[0.11498061250000001, 0.20114557625, -0.09788509000000001]\n",
            "Weight_Deltas:\n",
            "[-0.07974935609374867, -0.006098480171874899, -0.011258732624999811]\n"
          ],
          "name": "stdout"
        }
      ]
    },
    {
      "cell_type": "code",
      "metadata": {
        "id": "fhduV2JmjIsp"
      },
      "source": [
        ""
      ],
      "execution_count": null,
      "outputs": []
    }
  ]
}