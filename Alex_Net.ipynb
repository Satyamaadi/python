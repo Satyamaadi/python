{
  "nbformat": 4,
  "nbformat_minor": 0,
  "metadata": {
    "colab": {
      "name": "Alex_Net.ipynb",
      "provenance": [],
      "authorship_tag": "ABX9TyPD87zdmuIl5DdxoyXxqhte",
      "include_colab_link": true
    },
    "kernelspec": {
      "name": "python3",
      "display_name": "Python 3"
    }
  },
  "cells": [
    {
      "cell_type": "markdown",
      "metadata": {
        "id": "view-in-github",
        "colab_type": "text"
      },
      "source": [
        "<a href=\"https://colab.research.google.com/github/Satyamaadi/python/blob/master/Alex_Net.ipynb\" target=\"_parent\"><img src=\"https://colab.research.google.com/assets/colab-badge.svg\" alt=\"Open In Colab\"/></a>"
      ]
    },
    {
      "cell_type": "code",
      "metadata": {
        "id": "-cugwwu0c7S9"
      },
      "source": [
        "from keras.models import Sequential"
      ],
      "execution_count": 1,
      "outputs": []
    },
    {
      "cell_type": "code",
      "metadata": {
        "id": "FWvXAi7sdEwo"
      },
      "source": [
        "from keras.layers import Conv2D,Dense,Dropout,AveragePooling2D,MaxPool2D,Flatten,Activation,BatchNormalization"
      ],
      "execution_count": 3,
      "outputs": []
    },
    {
      "cell_type": "code",
      "metadata": {
        "id": "SkHXXFbvdeD1"
      },
      "source": [
        "from keras.regularizers import l2"
      ],
      "execution_count": 6,
      "outputs": []
    },
    {
      "cell_type": "code",
      "metadata": {
        "id": "C6L0BxGrdlPG"
      },
      "source": [
        "model = Sequential(name='AlexNet')"
      ],
      "execution_count": 7,
      "outputs": []
    },
    {
      "cell_type": "code",
      "metadata": {
        "id": "lbJytqUid-MU"
      },
      "source": [
        "model.add(Conv2D(96,kernel_size=(11,11),strides=(4,4),padding='valid',kernel_regularizer=l2(0.0005),input_shape=(227,227,3)))"
      ],
      "execution_count": 10,
      "outputs": []
    },
    {
      "cell_type": "code",
      "metadata": {
        "id": "GN1iak3vd2OW"
      },
      "source": [
        "model.add(Activation('relu'))"
      ],
      "execution_count": 12,
      "outputs": []
    },
    {
      "cell_type": "code",
      "metadata": {
        "id": "pJjxC8gGekce"
      },
      "source": [
        "model.add(MaxPool2D(pool_size=(3,3),strides=(2,2)))"
      ],
      "execution_count": 13,
      "outputs": []
    },
    {
      "cell_type": "code",
      "metadata": {
        "id": "g11yAa4Ge0bk"
      },
      "source": [
        "model.add(BatchNormalization())"
      ],
      "execution_count": 14,
      "outputs": []
    },
    {
      "cell_type": "code",
      "metadata": {
        "id": "qVHSXpN1e3w4"
      },
      "source": [
        "model.add(Conv2D(256,(5,5),(1,1),kernel_regularizer=l2(0.0005)))"
      ],
      "execution_count": 15,
      "outputs": []
    },
    {
      "cell_type": "code",
      "metadata": {
        "id": "W4B0FuTYfSLh"
      },
      "source": [
        "model.add(Activation('relu'))"
      ],
      "execution_count": 16,
      "outputs": []
    },
    {
      "cell_type": "code",
      "metadata": {
        "id": "ALIv6NejfhMI"
      },
      "source": [
        "model.add(MaxPool2D((3,3),(2,2)))"
      ],
      "execution_count": 17,
      "outputs": []
    },
    {
      "cell_type": "code",
      "metadata": {
        "id": "lC7hPVTHfnGU"
      },
      "source": [
        "model.add(BatchNormalization())"
      ],
      "execution_count": 18,
      "outputs": []
    },
    {
      "cell_type": "code",
      "metadata": {
        "colab": {
          "base_uri": "https://localhost:8080/"
        },
        "id": "4uXVitdCfpTm",
        "outputId": "30a9adfb-ec1c-4832-9eb2-40df7b2de598"
      },
      "source": [
        "model.add(Conv2D(filters=384, kernel_size=(3,3), strides=(1,1), padding='same', kernel_regularizer=l2(0.0005)))\n",
        "model.add(Activation('relu'))\n",
        "model.add(BatchNormalization())\n",
        "        \n",
        "# layer 4 (conv + batchnorm)      <--- similar to layer 3\n",
        "model.add(Conv2D(filters=384, kernel_size=(3,3), strides=(1,1), padding='same', kernel_regularizer=l2(0.0005)))\n",
        "model.add(Activation('relu'))\n",
        "model.add(BatchNormalization())\n",
        "            \n",
        "# layer 5 (conv + batchnorm)  \n",
        "model.add(Conv2D(filters=256, kernel_size=(3,3), strides=(1,1), padding='same', kernel_regularizer=l2(0.0005)))\n",
        "model.add(Activation('relu'))\n",
        "model.add(BatchNormalization())\n",
        "model.add(MaxPool2D(pool_size=(3,3), strides=(2,2), padding='valid'))\n",
        "\n",
        "# Flatten the CNN output to feed it with fully connected layers\n",
        "model.add(Flatten())\n",
        "\n",
        "# layer 6 (Dense layer + dropout)  \n",
        "model.add(Dense(units = 4096, activation = 'relu'))\n",
        "model.add(Dropout(0.5))\n",
        "\n",
        "# layer 7 (Dense layers) \n",
        "model.add(Dense(units = 4096, activation = 'relu'))\n",
        "model.add(Dropout(0.5))\n",
        "                           \n",
        "# layer 8 (softmax output layer) \n",
        "model.add(Dense(units = 1000, activation = 'softmax'))\n",
        "\n",
        "# print the model summary\n",
        "model.summary()"
      ],
      "execution_count": 19,
      "outputs": [
        {
          "output_type": "stream",
          "text": [
            "Model: \"AlexNet\"\n",
            "_________________________________________________________________\n",
            "Layer (type)                 Output Shape              Param #   \n",
            "=================================================================\n",
            "conv2d (Conv2D)              (None, 55, 55, 96)        34944     \n",
            "_________________________________________________________________\n",
            "activation (Activation)      (None, 55, 55, 96)        0         \n",
            "_________________________________________________________________\n",
            "max_pooling2d (MaxPooling2D) (None, 27, 27, 96)        0         \n",
            "_________________________________________________________________\n",
            "batch_normalization (BatchNo (None, 27, 27, 96)        384       \n",
            "_________________________________________________________________\n",
            "conv2d_1 (Conv2D)            (None, 23, 23, 256)       614656    \n",
            "_________________________________________________________________\n",
            "activation_1 (Activation)    (None, 23, 23, 256)       0         \n",
            "_________________________________________________________________\n",
            "max_pooling2d_1 (MaxPooling2 (None, 11, 11, 256)       0         \n",
            "_________________________________________________________________\n",
            "batch_normalization_1 (Batch (None, 11, 11, 256)       1024      \n",
            "_________________________________________________________________\n",
            "conv2d_2 (Conv2D)            (None, 11, 11, 384)       885120    \n",
            "_________________________________________________________________\n",
            "activation_2 (Activation)    (None, 11, 11, 384)       0         \n",
            "_________________________________________________________________\n",
            "batch_normalization_2 (Batch (None, 11, 11, 384)       1536      \n",
            "_________________________________________________________________\n",
            "conv2d_3 (Conv2D)            (None, 11, 11, 384)       1327488   \n",
            "_________________________________________________________________\n",
            "activation_3 (Activation)    (None, 11, 11, 384)       0         \n",
            "_________________________________________________________________\n",
            "batch_normalization_3 (Batch (None, 11, 11, 384)       1536      \n",
            "_________________________________________________________________\n",
            "conv2d_4 (Conv2D)            (None, 11, 11, 256)       884992    \n",
            "_________________________________________________________________\n",
            "activation_4 (Activation)    (None, 11, 11, 256)       0         \n",
            "_________________________________________________________________\n",
            "batch_normalization_4 (Batch (None, 11, 11, 256)       1024      \n",
            "_________________________________________________________________\n",
            "max_pooling2d_2 (MaxPooling2 (None, 5, 5, 256)         0         \n",
            "_________________________________________________________________\n",
            "flatten (Flatten)            (None, 6400)              0         \n",
            "_________________________________________________________________\n",
            "dense (Dense)                (None, 4096)              26218496  \n",
            "_________________________________________________________________\n",
            "dropout (Dropout)            (None, 4096)              0         \n",
            "_________________________________________________________________\n",
            "dense_1 (Dense)              (None, 4096)              16781312  \n",
            "_________________________________________________________________\n",
            "dropout_1 (Dropout)          (None, 4096)              0         \n",
            "_________________________________________________________________\n",
            "dense_2 (Dense)              (None, 1000)              4097000   \n",
            "=================================================================\n",
            "Total params: 50,849,512\n",
            "Trainable params: 50,846,760\n",
            "Non-trainable params: 2,752\n",
            "_________________________________________________________________\n"
          ],
          "name": "stdout"
        }
      ]
    },
    {
      "cell_type": "code",
      "metadata": {
        "id": "9JR6pP9Yf_07"
      },
      "source": [
        ""
      ],
      "execution_count": null,
      "outputs": []
    }
  ]
}