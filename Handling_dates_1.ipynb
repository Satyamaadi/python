{
  "nbformat": 4,
  "nbformat_minor": 0,
  "metadata": {
    "colab": {
      "name": "Handling_dates_1.ipynb",
      "provenance": [],
      "collapsed_sections": [],
      "authorship_tag": "ABX9TyOQz7fHfbQKQft18Ig6LfRc",
      "include_colab_link": true
    },
    "kernelspec": {
      "name": "python3",
      "display_name": "Python 3"
    }
  },
  "cells": [
    {
      "cell_type": "markdown",
      "metadata": {
        "id": "view-in-github",
        "colab_type": "text"
      },
      "source": [
        "<a href=\"https://colab.research.google.com/github/Satyamaadi/python/blob/master/Handling_dates_1.ipynb\" target=\"_parent\"><img src=\"https://colab.research.google.com/assets/colab-badge.svg\" alt=\"Open In Colab\"/></a>"
      ]
    },
    {
      "cell_type": "markdown",
      "metadata": {
        "id": "o4POt6khZwBk"
      },
      "source": [
        "##Converting string to dates"
      ]
    },
    {
      "cell_type": "code",
      "metadata": {
        "id": "LX3Tu90HZcJA"
      },
      "source": [
        "import pandas as pd"
      ],
      "execution_count": 1,
      "outputs": []
    },
    {
      "cell_type": "code",
      "metadata": {
        "id": "L6rL6e_aZ1JX"
      },
      "source": [
        "import numpy as np"
      ],
      "execution_count": 2,
      "outputs": []
    },
    {
      "cell_type": "code",
      "metadata": {
        "id": "9l2zGFaCZ2Js"
      },
      "source": [
        "date_string = ['02-08-2021 6:00 PM','01-05-2021 7:00 AM','04-05-2021 12:00 PM']"
      ],
      "execution_count": 7,
      "outputs": []
    },
    {
      "cell_type": "code",
      "metadata": {
        "colab": {
          "base_uri": "https://localhost:8080/"
        },
        "id": "4fyqQg5LaJ0g",
        "outputId": "6a155a11-9c50-4b68-f48a-d2587ed60435"
      },
      "source": [
        "[pd.to_datetime(date,format='%d-%m-%Y %I:%M %p') for date in date_string]"
      ],
      "execution_count": 8,
      "outputs": [
        {
          "output_type": "execute_result",
          "data": {
            "text/plain": [
              "[Timestamp('2021-08-02 18:00:00'),\n",
              " Timestamp('2021-05-01 07:00:00'),\n",
              " Timestamp('2021-05-04 12:00:00')]"
            ]
          },
          "metadata": {
            "tags": []
          },
          "execution_count": 8
        }
      ]
    },
    {
      "cell_type": "code",
      "metadata": {
        "colab": {
          "base_uri": "https://localhost:8080/"
        },
        "id": "neI7owD1akRM",
        "outputId": "37c83915-96af-4ff6-d5d9-473406c45d0e"
      },
      "source": [
        "#Adding time-zones\n",
        "pd.Timestamp('02-08-2021 06:05:00',tz='Asia/Kolkata')"
      ],
      "execution_count": 11,
      "outputs": [
        {
          "output_type": "execute_result",
          "data": {
            "text/plain": [
              "Timestamp('2021-02-08 06:05:00+0530', tz='Asia/Kolkata')"
            ]
          },
          "metadata": {
            "tags": []
          },
          "execution_count": 11
        }
      ]
    },
    {
      "cell_type": "code",
      "metadata": {
        "id": "5jiGF3gHbWN-"
      },
      "source": [
        "#Selecting dates"
      ],
      "execution_count": 12,
      "outputs": []
    },
    {
      "cell_type": "code",
      "metadata": {
        "id": "NwwakYmzbuWX"
      },
      "source": [
        "df = pd.DataFrame()"
      ],
      "execution_count": 13,
      "outputs": []
    },
    {
      "cell_type": "code",
      "metadata": {
        "id": "2U0DCaH3bxJ_"
      },
      "source": [
        "df['date'] = pd.date_range('1/1/2005',periods=1000,freq='H')"
      ],
      "execution_count": 14,
      "outputs": []
    },
    {
      "cell_type": "code",
      "metadata": {
        "colab": {
          "base_uri": "https://localhost:8080/",
          "height": 424
        },
        "id": "mAS0jECWcCLO",
        "outputId": "dde20414-920b-45af-cfc3-5174d1d37a93"
      },
      "source": [
        "df[df['date'] > '2005-01-01 03:00:00']"
      ],
      "execution_count": 20,
      "outputs": [
        {
          "output_type": "execute_result",
          "data": {
            "text/html": [
              "<div>\n",
              "<style scoped>\n",
              "    .dataframe tbody tr th:only-of-type {\n",
              "        vertical-align: middle;\n",
              "    }\n",
              "\n",
              "    .dataframe tbody tr th {\n",
              "        vertical-align: top;\n",
              "    }\n",
              "\n",
              "    .dataframe thead th {\n",
              "        text-align: right;\n",
              "    }\n",
              "</style>\n",
              "<table border=\"1\" class=\"dataframe\">\n",
              "  <thead>\n",
              "    <tr style=\"text-align: right;\">\n",
              "      <th></th>\n",
              "      <th>date</th>\n",
              "    </tr>\n",
              "  </thead>\n",
              "  <tbody>\n",
              "    <tr>\n",
              "      <th>4</th>\n",
              "      <td>2005-01-01 04:00:00</td>\n",
              "    </tr>\n",
              "    <tr>\n",
              "      <th>5</th>\n",
              "      <td>2005-01-01 05:00:00</td>\n",
              "    </tr>\n",
              "    <tr>\n",
              "      <th>6</th>\n",
              "      <td>2005-01-01 06:00:00</td>\n",
              "    </tr>\n",
              "    <tr>\n",
              "      <th>7</th>\n",
              "      <td>2005-01-01 07:00:00</td>\n",
              "    </tr>\n",
              "    <tr>\n",
              "      <th>8</th>\n",
              "      <td>2005-01-01 08:00:00</td>\n",
              "    </tr>\n",
              "    <tr>\n",
              "      <th>...</th>\n",
              "      <td>...</td>\n",
              "    </tr>\n",
              "    <tr>\n",
              "      <th>995</th>\n",
              "      <td>2005-02-11 11:00:00</td>\n",
              "    </tr>\n",
              "    <tr>\n",
              "      <th>996</th>\n",
              "      <td>2005-02-11 12:00:00</td>\n",
              "    </tr>\n",
              "    <tr>\n",
              "      <th>997</th>\n",
              "      <td>2005-02-11 13:00:00</td>\n",
              "    </tr>\n",
              "    <tr>\n",
              "      <th>998</th>\n",
              "      <td>2005-02-11 14:00:00</td>\n",
              "    </tr>\n",
              "    <tr>\n",
              "      <th>999</th>\n",
              "      <td>2005-02-11 15:00:00</td>\n",
              "    </tr>\n",
              "  </tbody>\n",
              "</table>\n",
              "<p>996 rows × 1 columns</p>\n",
              "</div>"
            ],
            "text/plain": [
              "                   date\n",
              "4   2005-01-01 04:00:00\n",
              "5   2005-01-01 05:00:00\n",
              "6   2005-01-01 06:00:00\n",
              "7   2005-01-01 07:00:00\n",
              "8   2005-01-01 08:00:00\n",
              "..                  ...\n",
              "995 2005-02-11 11:00:00\n",
              "996 2005-02-11 12:00:00\n",
              "997 2005-02-11 13:00:00\n",
              "998 2005-02-11 14:00:00\n",
              "999 2005-02-11 15:00:00\n",
              "\n",
              "[996 rows x 1 columns]"
            ]
          },
          "metadata": {
            "tags": []
          },
          "execution_count": 20
        }
      ]
    },
    {
      "cell_type": "markdown",
      "metadata": {
        "id": "hUXmCsdRcv6X"
      },
      "source": [
        "##Perform selection by indexing date itself"
      ]
    },
    {
      "cell_type": "code",
      "metadata": {
        "colab": {
          "base_uri": "https://localhost:8080/",
          "height": 455
        },
        "id": "27sBmN6DcV_P",
        "outputId": "9cd46311-59ba-43d2-f224-98f99b9a971f"
      },
      "source": [
        "df.set_index(df['date'])"
      ],
      "execution_count": 21,
      "outputs": [
        {
          "output_type": "execute_result",
          "data": {
            "text/html": [
              "<div>\n",
              "<style scoped>\n",
              "    .dataframe tbody tr th:only-of-type {\n",
              "        vertical-align: middle;\n",
              "    }\n",
              "\n",
              "    .dataframe tbody tr th {\n",
              "        vertical-align: top;\n",
              "    }\n",
              "\n",
              "    .dataframe thead th {\n",
              "        text-align: right;\n",
              "    }\n",
              "</style>\n",
              "<table border=\"1\" class=\"dataframe\">\n",
              "  <thead>\n",
              "    <tr style=\"text-align: right;\">\n",
              "      <th></th>\n",
              "      <th>date</th>\n",
              "    </tr>\n",
              "    <tr>\n",
              "      <th>date</th>\n",
              "      <th></th>\n",
              "    </tr>\n",
              "  </thead>\n",
              "  <tbody>\n",
              "    <tr>\n",
              "      <th>2005-01-01 00:00:00</th>\n",
              "      <td>2005-01-01 00:00:00</td>\n",
              "    </tr>\n",
              "    <tr>\n",
              "      <th>2005-01-01 01:00:00</th>\n",
              "      <td>2005-01-01 01:00:00</td>\n",
              "    </tr>\n",
              "    <tr>\n",
              "      <th>2005-01-01 02:00:00</th>\n",
              "      <td>2005-01-01 02:00:00</td>\n",
              "    </tr>\n",
              "    <tr>\n",
              "      <th>2005-01-01 03:00:00</th>\n",
              "      <td>2005-01-01 03:00:00</td>\n",
              "    </tr>\n",
              "    <tr>\n",
              "      <th>2005-01-01 04:00:00</th>\n",
              "      <td>2005-01-01 04:00:00</td>\n",
              "    </tr>\n",
              "    <tr>\n",
              "      <th>...</th>\n",
              "      <td>...</td>\n",
              "    </tr>\n",
              "    <tr>\n",
              "      <th>2005-02-11 11:00:00</th>\n",
              "      <td>2005-02-11 11:00:00</td>\n",
              "    </tr>\n",
              "    <tr>\n",
              "      <th>2005-02-11 12:00:00</th>\n",
              "      <td>2005-02-11 12:00:00</td>\n",
              "    </tr>\n",
              "    <tr>\n",
              "      <th>2005-02-11 13:00:00</th>\n",
              "      <td>2005-02-11 13:00:00</td>\n",
              "    </tr>\n",
              "    <tr>\n",
              "      <th>2005-02-11 14:00:00</th>\n",
              "      <td>2005-02-11 14:00:00</td>\n",
              "    </tr>\n",
              "    <tr>\n",
              "      <th>2005-02-11 15:00:00</th>\n",
              "      <td>2005-02-11 15:00:00</td>\n",
              "    </tr>\n",
              "  </tbody>\n",
              "</table>\n",
              "<p>1000 rows × 1 columns</p>\n",
              "</div>"
            ],
            "text/plain": [
              "                                   date\n",
              "date                                   \n",
              "2005-01-01 00:00:00 2005-01-01 00:00:00\n",
              "2005-01-01 01:00:00 2005-01-01 01:00:00\n",
              "2005-01-01 02:00:00 2005-01-01 02:00:00\n",
              "2005-01-01 03:00:00 2005-01-01 03:00:00\n",
              "2005-01-01 04:00:00 2005-01-01 04:00:00\n",
              "...                                 ...\n",
              "2005-02-11 11:00:00 2005-02-11 11:00:00\n",
              "2005-02-11 12:00:00 2005-02-11 12:00:00\n",
              "2005-02-11 13:00:00 2005-02-11 13:00:00\n",
              "2005-02-11 14:00:00 2005-02-11 14:00:00\n",
              "2005-02-11 15:00:00 2005-02-11 15:00:00\n",
              "\n",
              "[1000 rows x 1 columns]"
            ]
          },
          "metadata": {
            "tags": []
          },
          "execution_count": 21
        }
      ]
    },
    {
      "cell_type": "code",
      "metadata": {
        "colab": {
          "base_uri": "https://localhost:8080/",
          "height": 424
        },
        "id": "GDgGmYDWctnh",
        "outputId": "5c93692c-cc6b-45aa-934f-7c21ab721151"
      },
      "source": [
        "df.loc['2005-04-04':]"
      ],
      "execution_count": 23,
      "outputs": [
        {
          "output_type": "execute_result",
          "data": {
            "text/html": [
              "<div>\n",
              "<style scoped>\n",
              "    .dataframe tbody tr th:only-of-type {\n",
              "        vertical-align: middle;\n",
              "    }\n",
              "\n",
              "    .dataframe tbody tr th {\n",
              "        vertical-align: top;\n",
              "    }\n",
              "\n",
              "    .dataframe thead th {\n",
              "        text-align: right;\n",
              "    }\n",
              "</style>\n",
              "<table border=\"1\" class=\"dataframe\">\n",
              "  <thead>\n",
              "    <tr style=\"text-align: right;\">\n",
              "      <th></th>\n",
              "      <th>date</th>\n",
              "    </tr>\n",
              "  </thead>\n",
              "  <tbody>\n",
              "    <tr>\n",
              "      <th>201</th>\n",
              "      <td>2005-01-09 09:00:00</td>\n",
              "    </tr>\n",
              "    <tr>\n",
              "      <th>202</th>\n",
              "      <td>2005-01-09 10:00:00</td>\n",
              "    </tr>\n",
              "    <tr>\n",
              "      <th>203</th>\n",
              "      <td>2005-01-09 11:00:00</td>\n",
              "    </tr>\n",
              "    <tr>\n",
              "      <th>204</th>\n",
              "      <td>2005-01-09 12:00:00</td>\n",
              "    </tr>\n",
              "    <tr>\n",
              "      <th>205</th>\n",
              "      <td>2005-01-09 13:00:00</td>\n",
              "    </tr>\n",
              "    <tr>\n",
              "      <th>...</th>\n",
              "      <td>...</td>\n",
              "    </tr>\n",
              "    <tr>\n",
              "      <th>995</th>\n",
              "      <td>2005-02-11 11:00:00</td>\n",
              "    </tr>\n",
              "    <tr>\n",
              "      <th>996</th>\n",
              "      <td>2005-02-11 12:00:00</td>\n",
              "    </tr>\n",
              "    <tr>\n",
              "      <th>997</th>\n",
              "      <td>2005-02-11 13:00:00</td>\n",
              "    </tr>\n",
              "    <tr>\n",
              "      <th>998</th>\n",
              "      <td>2005-02-11 14:00:00</td>\n",
              "    </tr>\n",
              "    <tr>\n",
              "      <th>999</th>\n",
              "      <td>2005-02-11 15:00:00</td>\n",
              "    </tr>\n",
              "  </tbody>\n",
              "</table>\n",
              "<p>799 rows × 1 columns</p>\n",
              "</div>"
            ],
            "text/plain": [
              "                   date\n",
              "201 2005-01-09 09:00:00\n",
              "202 2005-01-09 10:00:00\n",
              "203 2005-01-09 11:00:00\n",
              "204 2005-01-09 12:00:00\n",
              "205 2005-01-09 13:00:00\n",
              "..                  ...\n",
              "995 2005-02-11 11:00:00\n",
              "996 2005-02-11 12:00:00\n",
              "997 2005-02-11 13:00:00\n",
              "998 2005-02-11 14:00:00\n",
              "999 2005-02-11 15:00:00\n",
              "\n",
              "[799 rows x 1 columns]"
            ]
          },
          "metadata": {
            "tags": []
          },
          "execution_count": 23
        }
      ]
    },
    {
      "cell_type": "markdown",
      "metadata": {
        "id": "bwlF8UuJdKsV"
      },
      "source": [
        "##Breaking date into multiple features"
      ]
    },
    {
      "cell_type": "code",
      "metadata": {
        "id": "4d4vRKqAc-1h"
      },
      "source": [
        "df['year'] = df['date'].dt.year"
      ],
      "execution_count": 24,
      "outputs": []
    },
    {
      "cell_type": "code",
      "metadata": {
        "colab": {
          "base_uri": "https://localhost:8080/"
        },
        "id": "K5_jl6NRdSzy",
        "outputId": "22e4cefd-315f-46a9-adb9-29f98ff71b38"
      },
      "source": [
        "df['year'] ##similarly use dt.day dt.month dt.hour dt.minute to extract"
      ],
      "execution_count": 25,
      "outputs": [
        {
          "output_type": "execute_result",
          "data": {
            "text/plain": [
              "0      2005\n",
              "1      2005\n",
              "2      2005\n",
              "3      2005\n",
              "4      2005\n",
              "       ... \n",
              "995    2005\n",
              "996    2005\n",
              "997    2005\n",
              "998    2005\n",
              "999    2005\n",
              "Name: year, Length: 1000, dtype: int64"
            ]
          },
          "metadata": {
            "tags": []
          },
          "execution_count": 25
        }
      ]
    },
    {
      "cell_type": "markdown",
      "metadata": {
        "id": "bS9KVZHvdiYZ"
      },
      "source": [
        "##Calculating difference between dates"
      ]
    },
    {
      "cell_type": "code",
      "metadata": {
        "id": "mppRBXmidUvJ"
      },
      "source": [
        "df = pd.DataFrame()"
      ],
      "execution_count": 26,
      "outputs": []
    },
    {
      "cell_type": "code",
      "metadata": {
        "id": "re2_fbljdqf8"
      },
      "source": [
        "df['arrived'] = [pd.Timestamp('04-05-2019'),pd.Timestamp('05-05-2019')]"
      ],
      "execution_count": 27,
      "outputs": []
    },
    {
      "cell_type": "code",
      "metadata": {
        "id": "XfJiwBlyd3K6"
      },
      "source": [
        "df['left'] = [pd.Timestamp('06-05-2019'),pd.Timestamp('08-05-2019')] #remember date format is mm-dd-yyyy"
      ],
      "execution_count": 28,
      "outputs": []
    },
    {
      "cell_type": "code",
      "metadata": {
        "colab": {
          "base_uri": "https://localhost:8080/"
        },
        "id": "XKkOx-DJeBtl",
        "outputId": "c6f60565-b72e-4bfb-ef6f-41f5c37b4d07"
      },
      "source": [
        "df['left'] - df['arrived']"
      ],
      "execution_count": 29,
      "outputs": [
        {
          "output_type": "execute_result",
          "data": {
            "text/plain": [
              "0   61 days\n",
              "1   92 days\n",
              "dtype: timedelta64[ns]"
            ]
          },
          "metadata": {
            "tags": []
          },
          "execution_count": 29
        }
      ]
    },
    {
      "cell_type": "markdown",
      "metadata": {
        "id": "LOr-6Qq4eh5S"
      },
      "source": [
        "##Handling days"
      ]
    },
    {
      "cell_type": "code",
      "metadata": {
        "id": "xfhs6PSEeHDG"
      },
      "source": [
        "df = pd.Series(pd.date_range('12-19-1999',periods=4,freq='M'))"
      ],
      "execution_count": 37,
      "outputs": []
    },
    {
      "cell_type": "code",
      "metadata": {
        "colab": {
          "base_uri": "https://localhost:8080/"
        },
        "id": "6F37gCpVexHP",
        "outputId": "1cf03bc3-21d8-4e23-d021-bbaf80bc4916"
      },
      "source": [
        "df"
      ],
      "execution_count": 38,
      "outputs": [
        {
          "output_type": "execute_result",
          "data": {
            "text/plain": [
              "0   1999-12-31\n",
              "1   2000-01-31\n",
              "2   2000-02-29\n",
              "3   2000-03-31\n",
              "dtype: datetime64[ns]"
            ]
          },
          "metadata": {
            "tags": []
          },
          "execution_count": 38
        }
      ]
    },
    {
      "cell_type": "code",
      "metadata": {
        "colab": {
          "base_uri": "https://localhost:8080/"
        },
        "id": "tzPtyAwmf-55",
        "outputId": "64f70e29-4c22-4708-b387-d3f6c832c28b"
      },
      "source": [
        "df.dt.dayofweek"
      ],
      "execution_count": 42,
      "outputs": [
        {
          "output_type": "execute_result",
          "data": {
            "text/plain": [
              "0    4\n",
              "1    0\n",
              "2    1\n",
              "3    4\n",
              "dtype: int64"
            ]
          },
          "metadata": {
            "tags": []
          },
          "execution_count": 42
        }
      ]
    },
    {
      "cell_type": "code",
      "metadata": {
        "id": "lOdpntssgNGH"
      },
      "source": [
        ""
      ],
      "execution_count": null,
      "outputs": []
    }
  ]
}