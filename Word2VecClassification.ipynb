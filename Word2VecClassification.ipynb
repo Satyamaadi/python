{
  "nbformat": 4,
  "nbformat_minor": 0,
  "metadata": {
    "colab": {
      "name": "Word2VecClassification.ipynb",
      "provenance": [],
      "authorship_tag": "ABX9TyPzABapy2rSfuOE09n0PQhy",
      "include_colab_link": true
    },
    "kernelspec": {
      "name": "python3",
      "display_name": "Python 3"
    },
    "language_info": {
      "name": "python"
    }
  },
  "cells": [
    {
      "cell_type": "markdown",
      "metadata": {
        "id": "view-in-github",
        "colab_type": "text"
      },
      "source": [
        "<a href=\"https://colab.research.google.com/github/Satyamaadi/python/blob/master/Word2VecClassification.ipynb\" target=\"_parent\"><img src=\"https://colab.research.google.com/assets/colab-badge.svg\" alt=\"Open In Colab\"/></a>"
      ]
    },
    {
      "cell_type": "code",
      "execution_count": 1,
      "metadata": {
        "colab": {
          "base_uri": "https://localhost:8080/"
        },
        "id": "usCB6AXYMYHx",
        "outputId": "7b2aff1a-e6e0-44d1-cb5a-45c72177c2aa"
      },
      "outputs": [
        {
          "output_type": "stream",
          "name": "stdout",
          "text": [
            "--2022-06-22 16:40:10--  https://raw.githubusercontent.com/practical-nlp/practical-nlp/master/Ch4/Data/Sentiment%20and%20Emotion%20in%20Text/train_data.csv\n",
            "Resolving raw.githubusercontent.com (raw.githubusercontent.com)... 185.199.108.133, 185.199.109.133, 185.199.110.133, ...\n",
            "Connecting to raw.githubusercontent.com (raw.githubusercontent.com)|185.199.108.133|:443... connected.\n",
            "HTTP request sent, awaiting response... 200 OK\n",
            "Length: 2479133 (2.4M) [text/plain]\n",
            "Saving to: ‘DATAPATH/train_data.csv’\n",
            "\n",
            "train_data.csv      100%[===================>]   2.36M  --.-KB/s    in 0.05s   \n",
            "\n",
            "2022-06-22 16:40:11 (49.7 MB/s) - ‘DATAPATH/train_data.csv’ saved [2479133/2479133]\n",
            "\n"
          ]
        }
      ],
      "source": [
        "!wget -P DATAPATH https://raw.githubusercontent.com/practical-nlp/practical-nlp/master/Ch4/Data/Sentiment%20and%20Emotion%20in%20Text/train_data.csv\n",
        "   "
      ]
    },
    {
      "cell_type": "code",
      "source": [
        "import pandas as pd"
      ],
      "metadata": {
        "id": "SSgGxYl8NBP6"
      },
      "execution_count": 2,
      "outputs": []
    },
    {
      "cell_type": "code",
      "source": [
        "df = pd.read_csv('DATAPATH/train_data.csv')"
      ],
      "metadata": {
        "id": "xjXAtDbSNDHn"
      },
      "execution_count": 3,
      "outputs": []
    },
    {
      "cell_type": "code",
      "source": [
        "df.columns"
      ],
      "metadata": {
        "colab": {
          "base_uri": "https://localhost:8080/"
        },
        "id": "P3ZGTTxVNQNQ",
        "outputId": "b02fc2e3-8ea7-467f-ed6c-ed43361cfd96"
      },
      "execution_count": 4,
      "outputs": [
        {
          "output_type": "execute_result",
          "data": {
            "text/plain": [
              "Index(['sentiment', 'content'], dtype='object')"
            ]
          },
          "metadata": {},
          "execution_count": 4
        }
      ]
    },
    {
      "cell_type": "code",
      "source": [
        "df.content[0],df.sentiment[0]"
      ],
      "metadata": {
        "colab": {
          "base_uri": "https://localhost:8080/"
        },
        "id": "VE_Wxk6GNfe8",
        "outputId": "3385e473-8e84-4f08-e101-e6085eba92a8"
      },
      "execution_count": 5,
      "outputs": [
        {
          "output_type": "execute_result",
          "data": {
            "text/plain": [
              "('@tiffanylue i know  i was listenin to bad habit earlier and i started freakin at his part =[',\n",
              " 'empty')"
            ]
          },
          "metadata": {},
          "execution_count": 5
        }
      ]
    },
    {
      "cell_type": "code",
      "source": [
        "df.sentiment.value_counts()"
      ],
      "metadata": {
        "colab": {
          "base_uri": "https://localhost:8080/"
        },
        "id": "lSofXcmxNw3S",
        "outputId": "e6616293-1dc2-49b4-e43f-61e0917ea487"
      },
      "execution_count": 6,
      "outputs": [
        {
          "output_type": "execute_result",
          "data": {
            "text/plain": [
              "worry         7433\n",
              "neutral       6340\n",
              "sadness       4828\n",
              "happiness     2986\n",
              "love          2068\n",
              "surprise      1613\n",
              "hate          1187\n",
              "fun           1088\n",
              "relief        1021\n",
              "empty          659\n",
              "enthusiasm     522\n",
              "boredom        157\n",
              "anger           98\n",
              "Name: sentiment, dtype: int64"
            ]
          },
          "metadata": {},
          "execution_count": 6
        }
      ]
    },
    {
      "cell_type": "code",
      "source": [
        "df[df['sentiment'] == 'anger']"
      ],
      "metadata": {
        "colab": {
          "base_uri": "https://localhost:8080/",
          "height": 419
        },
        "id": "GveFDNg5N5IH",
        "outputId": "d6cb5dd2-e236-40a7-bc07-8e1b6af14f2b"
      },
      "execution_count": 7,
      "outputs": [
        {
          "output_type": "execute_result",
          "data": {
            "text/plain": [
              "      sentiment                                            content\n",
              "494       anger                              fuckin'm transtelecom\n",
              "527       anger                   Working   But it's Fridaaaayyyyy\n",
              "612       anger                         Packing  I don't like it..\n",
              "1377      anger  I tried to dye my hair and all i got was a blo...\n",
              "1384      anger  &quot;locked up abroad&quot; makes bein half b...\n",
              "...         ...                                                ...\n",
              "25055     anger  @olafsearson Lol - I could try!  Seriously tho...\n",
              "27174     anger  @taylorswift13 jet lag must be soo annoyingg! ...\n",
              "27246     anger             knows its all going to sort itself out\n",
              "29917     anger  omg! goooood ass nappy nap  jusss woke up bout...\n",
              "29925     anger  @rockchick0125 yup!  Now I can join in on the ...\n",
              "\n",
              "[98 rows x 2 columns]"
            ],
            "text/html": [
              "\n",
              "  <div id=\"df-c0a28c23-028d-4eee-8043-2e0ae3db7725\">\n",
              "    <div class=\"colab-df-container\">\n",
              "      <div>\n",
              "<style scoped>\n",
              "    .dataframe tbody tr th:only-of-type {\n",
              "        vertical-align: middle;\n",
              "    }\n",
              "\n",
              "    .dataframe tbody tr th {\n",
              "        vertical-align: top;\n",
              "    }\n",
              "\n",
              "    .dataframe thead th {\n",
              "        text-align: right;\n",
              "    }\n",
              "</style>\n",
              "<table border=\"1\" class=\"dataframe\">\n",
              "  <thead>\n",
              "    <tr style=\"text-align: right;\">\n",
              "      <th></th>\n",
              "      <th>sentiment</th>\n",
              "      <th>content</th>\n",
              "    </tr>\n",
              "  </thead>\n",
              "  <tbody>\n",
              "    <tr>\n",
              "      <th>494</th>\n",
              "      <td>anger</td>\n",
              "      <td>fuckin'm transtelecom</td>\n",
              "    </tr>\n",
              "    <tr>\n",
              "      <th>527</th>\n",
              "      <td>anger</td>\n",
              "      <td>Working   But it's Fridaaaayyyyy</td>\n",
              "    </tr>\n",
              "    <tr>\n",
              "      <th>612</th>\n",
              "      <td>anger</td>\n",
              "      <td>Packing  I don't like it..</td>\n",
              "    </tr>\n",
              "    <tr>\n",
              "      <th>1377</th>\n",
              "      <td>anger</td>\n",
              "      <td>I tried to dye my hair and all i got was a blo...</td>\n",
              "    </tr>\n",
              "    <tr>\n",
              "      <th>1384</th>\n",
              "      <td>anger</td>\n",
              "      <td>&amp;quot;locked up abroad&amp;quot; makes bein half b...</td>\n",
              "    </tr>\n",
              "    <tr>\n",
              "      <th>...</th>\n",
              "      <td>...</td>\n",
              "      <td>...</td>\n",
              "    </tr>\n",
              "    <tr>\n",
              "      <th>25055</th>\n",
              "      <td>anger</td>\n",
              "      <td>@olafsearson Lol - I could try!  Seriously tho...</td>\n",
              "    </tr>\n",
              "    <tr>\n",
              "      <th>27174</th>\n",
              "      <td>anger</td>\n",
              "      <td>@taylorswift13 jet lag must be soo annoyingg! ...</td>\n",
              "    </tr>\n",
              "    <tr>\n",
              "      <th>27246</th>\n",
              "      <td>anger</td>\n",
              "      <td>knows its all going to sort itself out</td>\n",
              "    </tr>\n",
              "    <tr>\n",
              "      <th>29917</th>\n",
              "      <td>anger</td>\n",
              "      <td>omg! goooood ass nappy nap  jusss woke up bout...</td>\n",
              "    </tr>\n",
              "    <tr>\n",
              "      <th>29925</th>\n",
              "      <td>anger</td>\n",
              "      <td>@rockchick0125 yup!  Now I can join in on the ...</td>\n",
              "    </tr>\n",
              "  </tbody>\n",
              "</table>\n",
              "<p>98 rows × 2 columns</p>\n",
              "</div>\n",
              "      <button class=\"colab-df-convert\" onclick=\"convertToInteractive('df-c0a28c23-028d-4eee-8043-2e0ae3db7725')\"\n",
              "              title=\"Convert this dataframe to an interactive table.\"\n",
              "              style=\"display:none;\">\n",
              "        \n",
              "  <svg xmlns=\"http://www.w3.org/2000/svg\" height=\"24px\"viewBox=\"0 0 24 24\"\n",
              "       width=\"24px\">\n",
              "    <path d=\"M0 0h24v24H0V0z\" fill=\"none\"/>\n",
              "    <path d=\"M18.56 5.44l.94 2.06.94-2.06 2.06-.94-2.06-.94-.94-2.06-.94 2.06-2.06.94zm-11 1L8.5 8.5l.94-2.06 2.06-.94-2.06-.94L8.5 2.5l-.94 2.06-2.06.94zm10 10l.94 2.06.94-2.06 2.06-.94-2.06-.94-.94-2.06-.94 2.06-2.06.94z\"/><path d=\"M17.41 7.96l-1.37-1.37c-.4-.4-.92-.59-1.43-.59-.52 0-1.04.2-1.43.59L10.3 9.45l-7.72 7.72c-.78.78-.78 2.05 0 2.83L4 21.41c.39.39.9.59 1.41.59.51 0 1.02-.2 1.41-.59l7.78-7.78 2.81-2.81c.8-.78.8-2.07 0-2.86zM5.41 20L4 18.59l7.72-7.72 1.47 1.35L5.41 20z\"/>\n",
              "  </svg>\n",
              "      </button>\n",
              "      \n",
              "  <style>\n",
              "    .colab-df-container {\n",
              "      display:flex;\n",
              "      flex-wrap:wrap;\n",
              "      gap: 12px;\n",
              "    }\n",
              "\n",
              "    .colab-df-convert {\n",
              "      background-color: #E8F0FE;\n",
              "      border: none;\n",
              "      border-radius: 50%;\n",
              "      cursor: pointer;\n",
              "      display: none;\n",
              "      fill: #1967D2;\n",
              "      height: 32px;\n",
              "      padding: 0 0 0 0;\n",
              "      width: 32px;\n",
              "    }\n",
              "\n",
              "    .colab-df-convert:hover {\n",
              "      background-color: #E2EBFA;\n",
              "      box-shadow: 0px 1px 2px rgba(60, 64, 67, 0.3), 0px 1px 3px 1px rgba(60, 64, 67, 0.15);\n",
              "      fill: #174EA6;\n",
              "    }\n",
              "\n",
              "    [theme=dark] .colab-df-convert {\n",
              "      background-color: #3B4455;\n",
              "      fill: #D2E3FC;\n",
              "    }\n",
              "\n",
              "    [theme=dark] .colab-df-convert:hover {\n",
              "      background-color: #434B5C;\n",
              "      box-shadow: 0px 1px 3px 1px rgba(0, 0, 0, 0.15);\n",
              "      filter: drop-shadow(0px 1px 2px rgba(0, 0, 0, 0.3));\n",
              "      fill: #FFFFFF;\n",
              "    }\n",
              "  </style>\n",
              "\n",
              "      <script>\n",
              "        const buttonEl =\n",
              "          document.querySelector('#df-c0a28c23-028d-4eee-8043-2e0ae3db7725 button.colab-df-convert');\n",
              "        buttonEl.style.display =\n",
              "          google.colab.kernel.accessAllowed ? 'block' : 'none';\n",
              "\n",
              "        async function convertToInteractive(key) {\n",
              "          const element = document.querySelector('#df-c0a28c23-028d-4eee-8043-2e0ae3db7725');\n",
              "          const dataTable =\n",
              "            await google.colab.kernel.invokeFunction('convertToInteractive',\n",
              "                                                     [key], {});\n",
              "          if (!dataTable) return;\n",
              "\n",
              "          const docLinkHtml = 'Like what you see? Visit the ' +\n",
              "            '<a target=\"_blank\" href=https://colab.research.google.com/notebooks/data_table.ipynb>data table notebook</a>'\n",
              "            + ' to learn more about interactive tables.';\n",
              "          element.innerHTML = '';\n",
              "          dataTable['output_type'] = 'display_data';\n",
              "          await google.colab.output.renderOutput(dataTable, element);\n",
              "          const docLink = document.createElement('div');\n",
              "          docLink.innerHTML = docLinkHtml;\n",
              "          element.appendChild(docLink);\n",
              "        }\n",
              "      </script>\n",
              "    </div>\n",
              "  </div>\n",
              "  "
            ]
          },
          "metadata": {},
          "execution_count": 7
        }
      ]
    },
    {
      "cell_type": "code",
      "source": [
        "import nltk\n",
        "from nltk.tokenize import TweetTokenizer\n",
        "from nltk.corpus import stopwords"
      ],
      "metadata": {
        "id": "6dLNWCdGOpDj"
      },
      "execution_count": 8,
      "outputs": []
    },
    {
      "cell_type": "code",
      "source": [
        "nltk.download('stopwords')\n",
        "tt = TweetTokenizer(strip_handles=True,preserve_case=False)\n",
        "mystopwords = set(stopwords.words('english'))"
      ],
      "metadata": {
        "colab": {
          "base_uri": "https://localhost:8080/"
        },
        "id": "5Bmml1zmOqnM",
        "outputId": "22758df8-f889-4d3c-86d2-e4a99f93c2f6"
      },
      "execution_count": 9,
      "outputs": [
        {
          "output_type": "stream",
          "name": "stderr",
          "text": [
            "[nltk_data] Downloading package stopwords to /root/nltk_data...\n",
            "[nltk_data]   Unzipping corpora/stopwords.zip.\n"
          ]
        }
      ]
    },
    {
      "cell_type": "code",
      "source": [
        "def preprocess_corpus(texts):\n",
        "    def remove_stops_digits(tokens):\n",
        "        #Nested function that removes stopwords and digits from a list of tokens\n",
        "        return [token for token in tokens if token not in mystopwords and not token.isdigit()]\n",
        "    #This return statement below uses the above function to process twitter tokenizer output further. \n",
        "    return [remove_stops_digits(tt.tokenize(content)) for content in texts]"
      ],
      "metadata": {
        "id": "RcBIWThLPibl"
      },
      "execution_count": 10,
      "outputs": []
    },
    {
      "cell_type": "code",
      "source": [
        "mydata = preprocess_corpus(df['content'])\n",
        "mycats = df['sentiment']\n",
        "print(len(mydata), len(mycats))"
      ],
      "metadata": {
        "colab": {
          "base_uri": "https://localhost:8080/"
        },
        "id": "YOqZmpSzPlUd",
        "outputId": "284f62e8-5b5e-4d03-fb7d-d5c2a3a6cc12"
      },
      "execution_count": 11,
      "outputs": [
        {
          "output_type": "stream",
          "name": "stdout",
          "text": [
            "30000 30000\n"
          ]
        }
      ]
    },
    {
      "cell_type": "code",
      "source": [
        "from sklearn.model_selection import train_test_split\n",
        "train_data , test_data , train_cats,test_cats = train_test_split(mydata,mycats,random_state=87)"
      ],
      "metadata": {
        "id": "OkseowPmSeC3"
      },
      "execution_count": 14,
      "outputs": []
    },
    {
      "cell_type": "code",
      "source": [
        "from gensim.models.doc2vec import Doc2Vec , TaggedDocument\n",
        "train_doc2vec = [TaggedDocument((d), tags=[str(i)]) for i, d in enumerate(train_data)]"
      ],
      "metadata": {
        "id": "73bs8seoSdTR"
      },
      "execution_count": 16,
      "outputs": []
    },
    {
      "cell_type": "code",
      "source": [
        "model = Doc2Vec(vector_size=50, alpha=0.025, min_count=5, dm =1, epochs=100)\n",
        "model.build_vocab(train_doc2vec)\n",
        "model.train(train_doc2vec, total_examples=model.corpus_count, epochs=model.epochs)"
      ],
      "metadata": {
        "id": "A1ZedDl4Sc1f"
      },
      "execution_count": 17,
      "outputs": []
    },
    {
      "cell_type": "code",
      "source": [
        "train_vectors =  [model.infer_vector(list_of_tokens, steps=50) for list_of_tokens in train_data]\n",
        "test_vectors = [model.infer_vector(list_of_tokens, steps=50) for list_of_tokens in test_data]"
      ],
      "metadata": {
        "id": "jvxhheESSZlo"
      },
      "execution_count": 18,
      "outputs": []
    },
    {
      "cell_type": "code",
      "source": [
        "test_vectors[0]"
      ],
      "metadata": {
        "id": "I8enpGAuVBSA",
        "outputId": "ad51f445-82ae-4f07-ad8e-3ecb906f773e",
        "colab": {
          "base_uri": "https://localhost:8080/"
        }
      },
      "execution_count": 19,
      "outputs": [
        {
          "output_type": "execute_result",
          "data": {
            "text/plain": [
              "array([ 0.00097627,  0.00430379,  0.00205527,  0.00089766, -0.0015269 ,\n",
              "        0.00291788, -0.00124826,  0.00783546,  0.00927326, -0.00233117,\n",
              "        0.0058345 ,  0.0005779 ,  0.00136089,  0.00851193, -0.00857928,\n",
              "       -0.00825741, -0.00959563,  0.0066524 ,  0.00556313,  0.00740024,\n",
              "        0.00957237,  0.00598317, -0.00077041,  0.00561058, -0.00763451,\n",
              "        0.00279842, -0.00713293,  0.00889338,  0.00043697, -0.00170676,\n",
              "       -0.00470889,  0.00548467, -0.00087699,  0.00136868, -0.0096242 ,\n",
              "        0.00235271,  0.00224191,  0.00233868,  0.00887496,  0.00363641,\n",
              "       -0.00280984, -0.00125936,  0.00395262, -0.00879549,  0.00333533,\n",
              "        0.00341276, -0.00579235, -0.00742147, -0.00369143, -0.00272578],\n",
              "      dtype=float32)"
            ]
          },
          "metadata": {},
          "execution_count": 19
        }
      ]
    }
  ]
}