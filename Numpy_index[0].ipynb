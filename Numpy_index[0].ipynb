{
  "nbformat": 4,
  "nbformat_minor": 0,
  "metadata": {
    "colab": {
      "name": "Numpy_index[0].ipynb",
      "provenance": [],
      "collapsed_sections": [],
      "authorship_tag": "ABX9TyMxzY/FgC9ovPJ3oCLWF8iB",
      "include_colab_link": true
    },
    "kernelspec": {
      "name": "python3",
      "display_name": "Python 3"
    }
  },
  "cells": [
    {
      "cell_type": "markdown",
      "metadata": {
        "id": "view-in-github",
        "colab_type": "text"
      },
      "source": [
        "<a href=\"https://colab.research.google.com/github/Satyamaadi/python/blob/master/Numpy_index%5B0%5D.ipynb\" target=\"_parent\"><img src=\"https://colab.research.google.com/assets/colab-badge.svg\" alt=\"Open In Colab\"/></a>"
      ]
    },
    {
      "cell_type": "code",
      "metadata": {
        "id": "XcCQQatDLIti"
      },
      "source": [
        "import numpy as np #importing numpy library with name np"
      ],
      "execution_count": 1,
      "outputs": []
    },
    {
      "cell_type": "code",
      "metadata": {
        "id": "toL_dY6MLSZ7"
      },
      "source": [
        "row_vector = np.array([1,2,3,4,5])"
      ],
      "execution_count": 3,
      "outputs": []
    },
    {
      "cell_type": "code",
      "metadata": {
        "id": "DU__L2cQLg52"
      },
      "source": [
        "column_vector = np.array([[1],\n",
        "                          [2],\n",
        "                          [3]])"
      ],
      "execution_count": 4,
      "outputs": []
    },
    {
      "cell_type": "code",
      "metadata": {
        "id": "RocxJePqLs78"
      },
      "source": [
        "arr = np.array([[1,2],[2,3]]) #2D array"
      ],
      "execution_count": 13,
      "outputs": []
    },
    {
      "cell_type": "code",
      "metadata": {
        "id": "8YO1IpRzL16D"
      },
      "source": [
        "matrix = np.mat([[1,2],\n",
        "                 [2,3]])"
      ],
      "execution_count": 14,
      "outputs": []
    },
    {
      "cell_type": "code",
      "metadata": {
        "colab": {
          "base_uri": "https://localhost:8080/"
        },
        "id": "OXTgk5csMGVd",
        "outputId": "86092dce-93fd-407f-9613-36f6d370ce97"
      },
      "source": [
        "from scipy import sparse\n",
        "m = np.array([[0,2],[2,0],[3,4]])\n",
        "sparse_mat = sparse.csr_matrix(m)\n",
        "print(sparse_mat)"
      ],
      "execution_count": 19,
      "outputs": [
        {
          "output_type": "stream",
          "text": [
            "  (0, 1)\t2\n",
            "  (1, 0)\t2\n",
            "  (2, 0)\t3\n",
            "  (2, 1)\t4\n"
          ],
          "name": "stdout"
        }
      ]
    },
    {
      "cell_type": "code",
      "metadata": {
        "colab": {
          "base_uri": "https://localhost:8080/"
        },
        "id": "RvfVrxueOH1_",
        "outputId": "6335ea11-cc77-4916-cb58-fdf878d546da"
      },
      "source": [
        "#selecting element\n",
        "row_vector[4]"
      ],
      "execution_count": 21,
      "outputs": [
        {
          "output_type": "execute_result",
          "data": {
            "text/plain": [
              "5"
            ]
          },
          "metadata": {
            "tags": []
          },
          "execution_count": 21
        }
      ]
    },
    {
      "cell_type": "code",
      "metadata": {
        "colab": {
          "base_uri": "https://localhost:8080/"
        },
        "id": "f0s-0-0aOfpj",
        "outputId": "ef6d4177-9c96-41b4-882c-3990bf8b3e5e"
      },
      "source": [
        "matrix[0,1]"
      ],
      "execution_count": 22,
      "outputs": [
        {
          "output_type": "execute_result",
          "data": {
            "text/plain": [
              "2"
            ]
          },
          "metadata": {
            "tags": []
          },
          "execution_count": 22
        }
      ]
    },
    {
      "cell_type": "code",
      "metadata": {
        "colab": {
          "base_uri": "https://localhost:8080/"
        },
        "id": "IhgMIRGkOoQ_",
        "outputId": "43628313-0bf1-4b04-8eb9-e6a2a37c36f9"
      },
      "source": [
        "row_vector[:]"
      ],
      "execution_count": 23,
      "outputs": [
        {
          "output_type": "execute_result",
          "data": {
            "text/plain": [
              "array([1, 2, 3, 4, 5])"
            ]
          },
          "metadata": {
            "tags": []
          },
          "execution_count": 23
        }
      ]
    },
    {
      "cell_type": "code",
      "metadata": {
        "colab": {
          "base_uri": "https://localhost:8080/"
        },
        "id": "g1NGo49WOsld",
        "outputId": "e1c2c6da-5bbd-45db-e867-b40eb4fcf445"
      },
      "source": [
        "row_vector[:3]"
      ],
      "execution_count": 24,
      "outputs": [
        {
          "output_type": "execute_result",
          "data": {
            "text/plain": [
              "array([1, 2, 3])"
            ]
          },
          "metadata": {
            "tags": []
          },
          "execution_count": 24
        }
      ]
    },
    {
      "cell_type": "code",
      "metadata": {
        "colab": {
          "base_uri": "https://localhost:8080/"
        },
        "id": "JcUvoVBwOxmA",
        "outputId": "efb6adca-9682-4117-ff7e-6f88d6e848fd"
      },
      "source": [
        "row_vector[3:]"
      ],
      "execution_count": 25,
      "outputs": [
        {
          "output_type": "execute_result",
          "data": {
            "text/plain": [
              "array([4, 5])"
            ]
          },
          "metadata": {
            "tags": []
          },
          "execution_count": 25
        }
      ]
    },
    {
      "cell_type": "code",
      "metadata": {
        "colab": {
          "base_uri": "https://localhost:8080/"
        },
        "id": "drRIDtGeOy_h",
        "outputId": "7b235c9d-4937-45dc-e499-d2dee753bae9"
      },
      "source": [
        "row_vector[-1]"
      ],
      "execution_count": 26,
      "outputs": [
        {
          "output_type": "execute_result",
          "data": {
            "text/plain": [
              "5"
            ]
          },
          "metadata": {
            "tags": []
          },
          "execution_count": 26
        }
      ]
    },
    {
      "cell_type": "code",
      "metadata": {
        "colab": {
          "base_uri": "https://localhost:8080/"
        },
        "id": "tPI-J9JdO2uv",
        "outputId": "fd6c6868-ec48-48f1-9bd8-5ca9bb75cb60"
      },
      "source": [
        "matrix[:2,:]"
      ],
      "execution_count": 29,
      "outputs": [
        {
          "output_type": "execute_result",
          "data": {
            "text/plain": [
              "matrix([[1, 2],\n",
              "        [2, 3]])"
            ]
          },
          "metadata": {
            "tags": []
          },
          "execution_count": 29
        }
      ]
    },
    {
      "cell_type": "code",
      "metadata": {
        "id": "55NBYuyvO7_j"
      },
      "source": [
        "#Matrix Description\n",
        "matrix = np.mat([[1,2,3],[4,5,6],[7,8,9]])"
      ],
      "execution_count": 30,
      "outputs": []
    },
    {
      "cell_type": "code",
      "metadata": {
        "colab": {
          "base_uri": "https://localhost:8080/"
        },
        "id": "hniXEVPEPSG7",
        "outputId": "05aa1ffd-b295-4730-a046-662171606562"
      },
      "source": [
        "print('Matrix shape',matrix.shape)\n",
        "print('Matrix Size',matrix.size)\n",
        "print('Matrix Dimension',matrix.ndim)"
      ],
      "execution_count": 31,
      "outputs": [
        {
          "output_type": "stream",
          "text": [
            "Matrix shape (3, 3)\n",
            "Matrix Size 9\n",
            "Matrix Dimension 2\n"
          ],
          "name": "stdout"
        }
      ]
    },
    {
      "cell_type": "code",
      "metadata": {
        "colab": {
          "base_uri": "https://localhost:8080/"
        },
        "id": "moJX44B5PhI4",
        "outputId": "278919dd-3a82-4b17-d024-222d3aa9e4cb"
      },
      "source": [
        "#numpy vectorize method\n",
        "matrix = np.mat([[1,2],[3,4],[5,6]])\n",
        "#create a lambda function\n",
        "l = lambda i : i + 100\n",
        "vectorized = np.vectorize(l)\n",
        "out = vectorized(matrix)\n",
        "print(out)"
      ],
      "execution_count": 32,
      "outputs": [
        {
          "output_type": "stream",
          "text": [
            "[[101 102]\n",
            " [103 104]\n",
            " [105 106]]\n"
          ],
          "name": "stdout"
        }
      ]
    },
    {
      "cell_type": "code",
      "metadata": {
        "colab": {
          "base_uri": "https://localhost:8080/"
        },
        "id": "Mq9SqoOkQPFQ",
        "outputId": "407a552b-da5f-4906-d361-b41e12d17716"
      },
      "source": [
        "matrix = np.mat([[1,2,3],[4,5,6],[7,8,9]])\n",
        "print('Max number',np.max(matrix))\n",
        "print('Min number',np.min(matrix))\n",
        "#we can use np.max(matrix,axis=0 or 1 [0 for column 1 for row])"
      ],
      "execution_count": 36,
      "outputs": [
        {
          "output_type": "stream",
          "text": [
            "Max number 9\n",
            "Min number 1\n"
          ],
          "name": "stdout"
        }
      ]
    },
    {
      "cell_type": "code",
      "metadata": {
        "colab": {
          "base_uri": "https://localhost:8080/"
        },
        "id": "77cd8kIqQizc",
        "outputId": "db6f5412-6d4f-47c5-fd3d-b04f51b4c170"
      },
      "source": [
        "matrix = np.mat([[1,2,3],[4,5,6],[7,8,9]])\n",
        "print('Average(or mean)',np.mean(matrix,axis=0))\n",
        "print('Variance',np.var(matrix))\n",
        "print('Standard Deviation',np.std(matrix))\n",
        "#same as min and max we can use axis=0 or 1"
      ],
      "execution_count": 38,
      "outputs": [
        {
          "output_type": "stream",
          "text": [
            "Average(or mean) [[4. 5. 6.]]\n",
            "Variance 6.666666666666667\n",
            "Standard Deviation 2.581988897471611\n"
          ],
          "name": "stdout"
        }
      ]
    },
    {
      "cell_type": "code",
      "metadata": {
        "colab": {
          "base_uri": "https://localhost:8080/"
        },
        "id": "y4LWXdMQRA8A",
        "outputId": "29d8a87a-c0b5-4fc5-d960-2844acfbeab1"
      },
      "source": [
        "#Reshaping matrix\n",
        "matrix = np.mat([[1,2,3,0],[4,5,6,0],[7,8,9,0]])\n",
        "print('Shape Before',matrix.shape)\n",
        "matrix = matrix.reshape(2,6)\n",
        "print('Shape After',matrix.shape)"
      ],
      "execution_count": 43,
      "outputs": [
        {
          "output_type": "stream",
          "text": [
            "Shape Before (3, 4)\n",
            "Shape After (2, 6)\n"
          ],
          "name": "stdout"
        }
      ]
    },
    {
      "cell_type": "code",
      "metadata": {
        "colab": {
          "base_uri": "https://localhost:8080/"
        },
        "id": "h_oNgyXsR_ei",
        "outputId": "3584d230-0108-405c-8a04-c51180732ad9"
      },
      "source": [
        "matrix = np.mat([[1,2],[3,4],[5,6]])\n",
        "print(matrix.T)"
      ],
      "execution_count": 45,
      "outputs": [
        {
          "output_type": "stream",
          "text": [
            "[[1 3 5]\n",
            " [2 4 6]]\n"
          ],
          "name": "stdout"
        }
      ]
    },
    {
      "cell_type": "code",
      "metadata": {
        "colab": {
          "base_uri": "https://localhost:8080/"
        },
        "id": "IxG48KcTSvfl",
        "outputId": "bcf3aa96-1186-4589-ad6e-4d5a2d76bad0"
      },
      "source": [
        "matrix = np.mat([[1,2],[3,4],[5,6]])\n",
        "print(matrix.flatten())#converts matrix to 1D array"
      ],
      "execution_count": 47,
      "outputs": [
        {
          "output_type": "stream",
          "text": [
            "[[1 2 3 4 5 6]]\n"
          ],
          "name": "stdout"
        }
      ]
    },
    {
      "cell_type": "code",
      "metadata": {
        "colab": {
          "base_uri": "https://localhost:8080/"
        },
        "id": "3isZ56AYTW9z",
        "outputId": "9e7b1982-6cec-407d-a342-a41547c8c50e"
      },
      "source": [
        "matrix = np.mat([[1,2],[3,4],[5,6]])\n",
        "print(np.linalg.matrix_rank(matrix))"
      ],
      "execution_count": 48,
      "outputs": [
        {
          "output_type": "stream",
          "text": [
            "2\n"
          ],
          "name": "stdout"
        }
      ]
    },
    {
      "cell_type": "code",
      "metadata": {
        "colab": {
          "base_uri": "https://localhost:8080/"
        },
        "id": "dKQmEuZvUCkE",
        "outputId": "a920f49b-8b44-4b8d-eda8-71e7f34d8dd9"
      },
      "source": [
        "matrix = np.mat([[1,2,3],[3,4,7],[5,6,6]])\n",
        "print(np.linalg.det(matrix))"
      ],
      "execution_count": 50,
      "outputs": [
        {
          "output_type": "stream",
          "text": [
            "10.000000000000002\n"
          ],
          "name": "stdout"
        }
      ]
    },
    {
      "cell_type": "code",
      "metadata": {
        "colab": {
          "base_uri": "https://localhost:8080/"
        },
        "id": "TUPSxdMcUNZa",
        "outputId": "0fe1070d-3860-432b-ea06-b64f2707484a"
      },
      "source": [
        "matrix = np.mat([[1,2],[3,4],[5,6]])\n",
        "print(matrix.diagonal()) #it takes one addn argument as offset set to 1 returns one above diagonal and -1 returns one below main diagonal"
      ],
      "execution_count": 53,
      "outputs": [
        {
          "output_type": "stream",
          "text": [
            "[[1 4]]\n"
          ],
          "name": "stdout"
        }
      ]
    },
    {
      "cell_type": "code",
      "metadata": {
        "colab": {
          "base_uri": "https://localhost:8080/"
        },
        "id": "KErmaEq8Uh0o",
        "outputId": "8e36e304-4c46-4eaa-9b48-c954676ee474"
      },
      "source": [
        "matrix = np.mat([[1,2],[3,4],[5,6]])\n",
        "print(matrix.trace())"
      ],
      "execution_count": 54,
      "outputs": [
        {
          "output_type": "stream",
          "text": [
            "[[5]]\n"
          ],
          "name": "stdout"
        }
      ]
    },
    {
      "cell_type": "code",
      "metadata": {
        "colab": {
          "base_uri": "https://localhost:8080/"
        },
        "id": "HA4_6qtBVQNq",
        "outputId": "b8886354-a030-4eff-b747-2bed489d60ae"
      },
      "source": [
        "A = np.mat([[1,2],[3,4],[5,6]])\n",
        "B = np.mat([[1,2,3],[3,4,3]])\n",
        "print(np.dot(A,B))"
      ],
      "execution_count": 57,
      "outputs": [
        {
          "output_type": "stream",
          "text": [
            "[[ 7 10  9]\n",
            " [15 22 21]\n",
            " [23 34 33]]\n"
          ],
          "name": "stdout"
        }
      ]
    },
    {
      "cell_type": "code",
      "metadata": {
        "colab": {
          "base_uri": "https://localhost:8080/"
        },
        "id": "rVfPDM5TVibB",
        "outputId": "c0f3a73d-338e-4980-86e1-f0c0a3d6d827"
      },
      "source": [
        "print(np.random.random(3))#prints 3 random value"
      ],
      "execution_count": 60,
      "outputs": [
        {
          "output_type": "stream",
          "text": [
            "[0.27831986 0.02291083 0.79012567]\n"
          ],
          "name": "stdout"
        }
      ]
    },
    {
      "cell_type": "code",
      "metadata": {
        "id": "GiZ0hJg5WBs4"
      },
      "source": [
        ""
      ],
      "execution_count": null,
      "outputs": []
    }
  ]
}