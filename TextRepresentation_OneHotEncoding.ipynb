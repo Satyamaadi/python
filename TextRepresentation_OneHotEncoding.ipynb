{
  "nbformat": 4,
  "nbformat_minor": 0,
  "metadata": {
    "colab": {
      "name": "TextRepresentation_OneHotEncoding.ipynb",
      "provenance": [],
      "authorship_tag": "ABX9TyNjHwRWP1OGkXGxssmo3ljO",
      "include_colab_link": true
    },
    "kernelspec": {
      "name": "python3",
      "display_name": "Python 3"
    },
    "language_info": {
      "name": "python"
    }
  },
  "cells": [
    {
      "cell_type": "markdown",
      "metadata": {
        "id": "view-in-github",
        "colab_type": "text"
      },
      "source": [
        "<a href=\"https://colab.research.google.com/github/Satyamaadi/python/blob/master/TextRepresentation_OneHotEncoding.ipynb\" target=\"_parent\"><img src=\"https://colab.research.google.com/assets/colab-badge.svg\" alt=\"Open In Colab\"/></a>"
      ]
    },
    {
      "cell_type": "code",
      "execution_count": 1,
      "metadata": {
        "colab": {
          "base_uri": "https://localhost:8080/"
        },
        "id": "Fg6uWQOi61Jl",
        "outputId": "04b1aeec-aa21-46c8-8660-836ac8ca4b84"
      },
      "outputs": [
        {
          "output_type": "execute_result",
          "data": {
            "text/plain": [
              "['dog bites man', 'man bites dog', 'dog eats meat', 'man eats food']"
            ]
          },
          "metadata": {},
          "execution_count": 1
        }
      ],
      "source": [
        "documents = [\"Dog bites man.\", \"Man bites dog.\", \"Dog eats meat.\", \"Man eats food.\"]\n",
        "processed_docs = [doc.lower().replace(\".\",\"\") for doc in documents]\n",
        "processed_docs"
      ]
    },
    {
      "cell_type": "code",
      "source": [
        "vocab = {}\n",
        "count = 0 \n",
        "for doc in processed_docs:\n",
        "  for word in doc.split():\n",
        "    if word not in vocab:\n",
        "      count = count + 1\n",
        "      vocab[word] = count\n",
        "\n",
        "print(vocab)      "
      ],
      "metadata": {
        "colab": {
          "base_uri": "https://localhost:8080/"
        },
        "id": "dP93W4EU7MXi",
        "outputId": "50f99cb6-05d4-4be5-95a3-ef532e948fd2"
      },
      "execution_count": 2,
      "outputs": [
        {
          "output_type": "stream",
          "name": "stdout",
          "text": [
            "{'dog': 1, 'bites': 2, 'man': 3, 'eats': 4, 'meat': 5, 'food': 6}\n"
          ]
        }
      ]
    },
    {
      "cell_type": "code",
      "source": [
        "def get_one_hot(str1):\n",
        "  onehot = []\n",
        "  for word in str1.split():\n",
        "    temp = [0]*len(vocab)\n",
        "    if word in vocab:\n",
        "      temp[vocab[word]-1] = 1\n",
        "    onehot.append(temp)\n",
        "  return onehot    \n"
      ],
      "metadata": {
        "id": "TB0L2ncC7-wd"
      },
      "execution_count": 3,
      "outputs": []
    },
    {
      "cell_type": "code",
      "source": [
        "get_one_hot('dog is good')"
      ],
      "metadata": {
        "colab": {
          "base_uri": "https://localhost:8080/"
        },
        "id": "87lapCxn8q7I",
        "outputId": "604279e7-00c8-4e09-8782-b30b2f53b1c2"
      },
      "execution_count": 4,
      "outputs": [
        {
          "output_type": "execute_result",
          "data": {
            "text/plain": [
              "[[1, 0, 0, 0, 0, 0], [0, 0, 0, 0, 0, 0], [0, 0, 0, 0, 0, 0]]"
            ]
          },
          "metadata": {},
          "execution_count": 4
        }
      ]
    },
    {
      "cell_type": "markdown",
      "source": [
        "One hot encoding using scikit learn(industrial standard)"
      ],
      "metadata": {
        "id": "xh4qrL6v9jwj"
      }
    },
    {
      "cell_type": "code",
      "source": [
        "from sklearn.preprocessing import LabelEncoder , OneHotEncoder"
      ],
      "metadata": {
        "id": "WVFzGebw9iqE"
      },
      "execution_count": 5,
      "outputs": []
    },
    {
      "cell_type": "code",
      "source": [
        "S1 = 'dog bites man'\n",
        "S2 = 'man bites dog'\n",
        "S3 = 'dog eats meat'\n",
        "S4 = 'man eats food'"
      ],
      "metadata": {
        "id": "LbT8UUHW92Q1"
      },
      "execution_count": 6,
      "outputs": []
    },
    {
      "cell_type": "code",
      "source": [
        "data = [S1.split(),S2.split(),S3.split(),S4.split()]\n",
        "values = data[0]+data[1]+data[2]+data[3]\n",
        "values"
      ],
      "metadata": {
        "colab": {
          "base_uri": "https://localhost:8080/"
        },
        "id": "rK7mT5Tj9-SD",
        "outputId": "53e09ea6-96dd-4b32-b7be-564ad9be5cb3"
      },
      "execution_count": 8,
      "outputs": [
        {
          "output_type": "execute_result",
          "data": {
            "text/plain": [
              "['dog',\n",
              " 'bites',\n",
              " 'man',\n",
              " 'man',\n",
              " 'bites',\n",
              " 'dog',\n",
              " 'dog',\n",
              " 'eats',\n",
              " 'meat',\n",
              " 'man',\n",
              " 'eats',\n",
              " 'food']"
            ]
          },
          "metadata": {},
          "execution_count": 8
        }
      ]
    },
    {
      "cell_type": "code",
      "source": [
        "labelenc = LabelEncoder()\n",
        "encoded1 = labelenc.fit_transform(values)\n",
        "encoded1"
      ],
      "metadata": {
        "colab": {
          "base_uri": "https://localhost:8080/"
        },
        "id": "Onjne9eY-Zvg",
        "outputId": "d04a58ee-a282-465b-ba96-7b3d9672761b"
      },
      "execution_count": 10,
      "outputs": [
        {
          "output_type": "execute_result",
          "data": {
            "text/plain": [
              "array([1, 0, 4, 4, 0, 1, 1, 2, 5, 4, 2, 3])"
            ]
          },
          "metadata": {},
          "execution_count": 10
        }
      ]
    },
    {
      "cell_type": "code",
      "source": [
        "onehotenc = OneHotEncoder()\n",
        "encoded2 = onehotenc.fit_transform(data)\n",
        "encoded2.toarray()"
      ],
      "metadata": {
        "colab": {
          "base_uri": "https://localhost:8080/"
        },
        "id": "P-pN7t0W_Cvj",
        "outputId": "99bd8595-ae6a-42d8-eeac-e6f5a006d252"
      },
      "execution_count": 15,
      "outputs": [
        {
          "output_type": "execute_result",
          "data": {
            "text/plain": [
              "array([[1., 0., 1., 0., 0., 0., 1., 0.],\n",
              "       [0., 1., 1., 0., 1., 0., 0., 0.],\n",
              "       [1., 0., 0., 1., 0., 0., 0., 1.],\n",
              "       [0., 1., 0., 1., 0., 1., 0., 0.]])"
            ]
          },
          "metadata": {},
          "execution_count": 15
        }
      ]
    }
  ]
}